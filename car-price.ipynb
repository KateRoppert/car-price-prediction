{
 "cells": [
  {
   "cell_type": "markdown",
   "metadata": {},
   "source": [
    "# Определение стоимости автомобилей"
   ]
  },
  {
   "cell_type": "markdown",
   "metadata": {},
   "source": [
    "Сервис по продаже автомобилей с пробегом «Не бит, не крашен» разрабатывает приложение для привлечения новых клиентов. В нём можно быстро узнать рыночную стоимость своего автомобиля. В вашем распоряжении исторические данные: технические характеристики, комплектации и цены автомобилей. Вам нужно построить модель для определения стоимости. \n",
    "\n",
    "Заказчику важны:\n",
    "\n",
    "- качество предсказания;\n",
    "- скорость предсказания;\n",
    "- время обучения."
   ]
  },
  {
   "cell_type": "markdown",
   "metadata": {},
   "source": [
    "# Введение"
   ]
  },
  {
   "cell_type": "markdown",
   "metadata": {},
   "source": [
    "***Задача***: разработать модель для определения стоимости автомобиля.<br>\n",
    "\n",
    "***Условия***:\n",
    "- метрика качества: RMSE\n",
    "- значение RMSE должно быть не меньше 2500\n",
    "\n",
    "***Документация к данным***:\n",
    "\n",
    "*Признаки*\n",
    "- DateCrawled — дата скачивания анкеты из базы\n",
    "- VehicleType — тип автомобильного кузова\n",
    "- RegistrationYear — год регистрации автомобиля\n",
    "- Gearbox — тип коробки передач\n",
    "- Power — мощность (л. с.)\n",
    "- Model — модель автомобиля\n",
    "- Kilometer — пробег (км)\n",
    "- RegistrationMonth — месяц регистрации автомобиля\n",
    "- FuelType — тип топлива\n",
    "- Brand — марка автомобиля\n",
    "- Repaired — была машина в ремонте или нет\n",
    "- DateCreated — дата создания анкеты\n",
    "- NumberOfPictures — количество фотографий автомобиля\n",
    "- PostalCode — почтовый индекс владельца анкеты (пользователя)\n",
    "- LastSeen — дата последней активности пользователя \n",
    "\n",
    "*Целевой признак* \n",
    "\n",
    "- Price — цена (евро)"
   ]
  },
  {
   "cell_type": "markdown",
   "metadata": {},
   "source": [
    "## Подготовка данных"
   ]
  },
  {
   "cell_type": "code",
   "execution_count": 1,
   "metadata": {},
   "outputs": [],
   "source": [
    "# импорт библиотек\n",
    "import pandas as pd\n",
    "import seaborn as sns\n",
    "import matplotlib.pyplot as plt\n",
    "from sklearn.model_selection import train_test_split, KFold, GridSearchCV, cross_val_score, cross_validate \n",
    "from sklearn.pipeline import Pipeline\n",
    "from sklearn.preprocessing import OneHotEncoder, StandardScaler, OrdinalEncoder \n",
    "from sklearn.compose import ColumnTransformer\n",
    "from sklearn.linear_model import LinearRegression\n",
    "from sklearn.metrics import mean_squared_error\n",
    "from sklearn.tree import DecisionTreeRegressor\n",
    "from sklearn.ensemble import RandomForestRegressor\n",
    "import numpy as np\n",
    "from catboost import CatBoostRegressor\n",
    "from lightgbm import LGBMRegressor"
   ]
  },
  {
   "cell_type": "code",
   "execution_count": 2,
   "metadata": {},
   "outputs": [],
   "source": [
    "# считывание файла\n",
    "df = pd.read_csv('autos.csv')"
   ]
  },
  {
   "cell_type": "code",
   "execution_count": 3,
   "metadata": {},
   "outputs": [
    {
     "data": {
      "text/html": [
       "<div>\n",
       "<style scoped>\n",
       "    .dataframe tbody tr th:only-of-type {\n",
       "        vertical-align: middle;\n",
       "    }\n",
       "\n",
       "    .dataframe tbody tr th {\n",
       "        vertical-align: top;\n",
       "    }\n",
       "\n",
       "    .dataframe thead th {\n",
       "        text-align: right;\n",
       "    }\n",
       "</style>\n",
       "<table border=\"1\" class=\"dataframe\">\n",
       "  <thead>\n",
       "    <tr style=\"text-align: right;\">\n",
       "      <th></th>\n",
       "      <th>DateCrawled</th>\n",
       "      <th>Price</th>\n",
       "      <th>VehicleType</th>\n",
       "      <th>RegistrationYear</th>\n",
       "      <th>Gearbox</th>\n",
       "      <th>Power</th>\n",
       "      <th>Model</th>\n",
       "      <th>Kilometer</th>\n",
       "      <th>RegistrationMonth</th>\n",
       "      <th>FuelType</th>\n",
       "      <th>Brand</th>\n",
       "      <th>Repaired</th>\n",
       "      <th>DateCreated</th>\n",
       "      <th>NumberOfPictures</th>\n",
       "      <th>PostalCode</th>\n",
       "      <th>LastSeen</th>\n",
       "    </tr>\n",
       "  </thead>\n",
       "  <tbody>\n",
       "    <tr>\n",
       "      <th>0</th>\n",
       "      <td>2016-03-24 11:52:17</td>\n",
       "      <td>480</td>\n",
       "      <td>NaN</td>\n",
       "      <td>1993</td>\n",
       "      <td>manual</td>\n",
       "      <td>0</td>\n",
       "      <td>golf</td>\n",
       "      <td>150000</td>\n",
       "      <td>0</td>\n",
       "      <td>petrol</td>\n",
       "      <td>volkswagen</td>\n",
       "      <td>NaN</td>\n",
       "      <td>2016-03-24 00:00:00</td>\n",
       "      <td>0</td>\n",
       "      <td>70435</td>\n",
       "      <td>2016-04-07 03:16:57</td>\n",
       "    </tr>\n",
       "    <tr>\n",
       "      <th>1</th>\n",
       "      <td>2016-03-24 10:58:45</td>\n",
       "      <td>18300</td>\n",
       "      <td>coupe</td>\n",
       "      <td>2011</td>\n",
       "      <td>manual</td>\n",
       "      <td>190</td>\n",
       "      <td>NaN</td>\n",
       "      <td>125000</td>\n",
       "      <td>5</td>\n",
       "      <td>gasoline</td>\n",
       "      <td>audi</td>\n",
       "      <td>yes</td>\n",
       "      <td>2016-03-24 00:00:00</td>\n",
       "      <td>0</td>\n",
       "      <td>66954</td>\n",
       "      <td>2016-04-07 01:46:50</td>\n",
       "    </tr>\n",
       "    <tr>\n",
       "      <th>2</th>\n",
       "      <td>2016-03-14 12:52:21</td>\n",
       "      <td>9800</td>\n",
       "      <td>suv</td>\n",
       "      <td>2004</td>\n",
       "      <td>auto</td>\n",
       "      <td>163</td>\n",
       "      <td>grand</td>\n",
       "      <td>125000</td>\n",
       "      <td>8</td>\n",
       "      <td>gasoline</td>\n",
       "      <td>jeep</td>\n",
       "      <td>NaN</td>\n",
       "      <td>2016-03-14 00:00:00</td>\n",
       "      <td>0</td>\n",
       "      <td>90480</td>\n",
       "      <td>2016-04-05 12:47:46</td>\n",
       "    </tr>\n",
       "    <tr>\n",
       "      <th>3</th>\n",
       "      <td>2016-03-17 16:54:04</td>\n",
       "      <td>1500</td>\n",
       "      <td>small</td>\n",
       "      <td>2001</td>\n",
       "      <td>manual</td>\n",
       "      <td>75</td>\n",
       "      <td>golf</td>\n",
       "      <td>150000</td>\n",
       "      <td>6</td>\n",
       "      <td>petrol</td>\n",
       "      <td>volkswagen</td>\n",
       "      <td>no</td>\n",
       "      <td>2016-03-17 00:00:00</td>\n",
       "      <td>0</td>\n",
       "      <td>91074</td>\n",
       "      <td>2016-03-17 17:40:17</td>\n",
       "    </tr>\n",
       "    <tr>\n",
       "      <th>4</th>\n",
       "      <td>2016-03-31 17:25:20</td>\n",
       "      <td>3600</td>\n",
       "      <td>small</td>\n",
       "      <td>2008</td>\n",
       "      <td>manual</td>\n",
       "      <td>69</td>\n",
       "      <td>fabia</td>\n",
       "      <td>90000</td>\n",
       "      <td>7</td>\n",
       "      <td>gasoline</td>\n",
       "      <td>skoda</td>\n",
       "      <td>no</td>\n",
       "      <td>2016-03-31 00:00:00</td>\n",
       "      <td>0</td>\n",
       "      <td>60437</td>\n",
       "      <td>2016-04-06 10:17:21</td>\n",
       "    </tr>\n",
       "  </tbody>\n",
       "</table>\n",
       "</div>"
      ],
      "text/plain": [
       "           DateCrawled  Price VehicleType  RegistrationYear Gearbox  Power  \\\n",
       "0  2016-03-24 11:52:17    480         NaN              1993  manual      0   \n",
       "1  2016-03-24 10:58:45  18300       coupe              2011  manual    190   \n",
       "2  2016-03-14 12:52:21   9800         suv              2004    auto    163   \n",
       "3  2016-03-17 16:54:04   1500       small              2001  manual     75   \n",
       "4  2016-03-31 17:25:20   3600       small              2008  manual     69   \n",
       "\n",
       "   Model  Kilometer  RegistrationMonth  FuelType       Brand Repaired  \\\n",
       "0   golf     150000                  0    petrol  volkswagen      NaN   \n",
       "1    NaN     125000                  5  gasoline        audi      yes   \n",
       "2  grand     125000                  8  gasoline        jeep      NaN   \n",
       "3   golf     150000                  6    petrol  volkswagen       no   \n",
       "4  fabia      90000                  7  gasoline       skoda       no   \n",
       "\n",
       "           DateCreated  NumberOfPictures  PostalCode             LastSeen  \n",
       "0  2016-03-24 00:00:00                 0       70435  2016-04-07 03:16:57  \n",
       "1  2016-03-24 00:00:00                 0       66954  2016-04-07 01:46:50  \n",
       "2  2016-03-14 00:00:00                 0       90480  2016-04-05 12:47:46  \n",
       "3  2016-03-17 00:00:00                 0       91074  2016-03-17 17:40:17  \n",
       "4  2016-03-31 00:00:00                 0       60437  2016-04-06 10:17:21  "
      ]
     },
     "execution_count": 3,
     "metadata": {},
     "output_type": "execute_result"
    }
   ],
   "source": [
    "df.head()"
   ]
  },
  {
   "cell_type": "code",
   "execution_count": 4,
   "metadata": {},
   "outputs": [
    {
     "name": "stdout",
     "output_type": "stream",
     "text": [
      "<class 'pandas.core.frame.DataFrame'>\n",
      "RangeIndex: 354369 entries, 0 to 354368\n",
      "Data columns (total 16 columns):\n",
      " #   Column             Non-Null Count   Dtype \n",
      "---  ------             --------------   ----- \n",
      " 0   DateCrawled        354369 non-null  object\n",
      " 1   Price              354369 non-null  int64 \n",
      " 2   VehicleType        316879 non-null  object\n",
      " 3   RegistrationYear   354369 non-null  int64 \n",
      " 4   Gearbox            334536 non-null  object\n",
      " 5   Power              354369 non-null  int64 \n",
      " 6   Model              334664 non-null  object\n",
      " 7   Kilometer          354369 non-null  int64 \n",
      " 8   RegistrationMonth  354369 non-null  int64 \n",
      " 9   FuelType           321474 non-null  object\n",
      " 10  Brand              354369 non-null  object\n",
      " 11  Repaired           283215 non-null  object\n",
      " 12  DateCreated        354369 non-null  object\n",
      " 13  NumberOfPictures   354369 non-null  int64 \n",
      " 14  PostalCode         354369 non-null  int64 \n",
      " 15  LastSeen           354369 non-null  object\n",
      "dtypes: int64(7), object(9)\n",
      "memory usage: 43.3+ MB\n"
     ]
    }
   ],
   "source": [
    "# общая информация по датасету\n",
    "df.info()"
   ]
  },
  {
   "cell_type": "code",
   "execution_count": 5,
   "metadata": {},
   "outputs": [
    {
     "data": {
      "text/plain": [
       "4"
      ]
     },
     "execution_count": 5,
     "metadata": {},
     "output_type": "execute_result"
    }
   ],
   "source": [
    "# проверяем наличие дубликатов\n",
    "df.duplicated().sum()"
   ]
  },
  {
   "cell_type": "code",
   "execution_count": 6,
   "metadata": {},
   "outputs": [],
   "source": [
    "# удаляем дубликаты\n",
    "df = df.drop_duplicates()"
   ]
  },
  {
   "cell_type": "code",
   "execution_count": 7,
   "metadata": {},
   "outputs": [],
   "source": [
    "# функция для категориальных значений\n",
    "def countplot(x):\n",
    "        print('Уникальные значения', x)\n",
    "        print(df[x].unique())\n",
    "        print('График распределения', x)\n",
    "        sns.countplot(y=df[x])\n",
    "        plt.show() "
   ]
  },
  {
   "cell_type": "code",
   "execution_count": 8,
   "metadata": {},
   "outputs": [],
   "source": [
    "# функция для числовых переменных\n",
    "def hist_and_box_plot(x):\n",
    "    f, (ax_box, ax_hist) = plt.subplots(2, sharex=True, gridspec_kw={\"height_ratios\": (.15, .85)}, figsize=(10,10))\n",
    "\n",
    "    sns.boxplot(x=x, ax=ax_box)\n",
    "    sns.histplot(x=x, bins=30, kde=True, stat='density', ax=ax_hist)\n",
    "\n",
    "    ax_box.set(yticks=[])\n",
    "    sns.despine(ax=ax_hist)\n",
    "    sns.despine(ax=ax_box, left=True) "
   ]
  },
  {
   "cell_type": "markdown",
   "metadata": {},
   "source": [
    "### Price "
   ]
  },
  {
   "cell_type": "code",
   "execution_count": 9,
   "metadata": {},
   "outputs": [
    {
     "data": {
      "image/png": "[encoded data removed]",
      "text/plain": [
       "<Figure size 720x720 with 2 Axes>"
      ]
     },
     "metadata": {
      "needs_background": "light"
     },
     "output_type": "display_data"
    }
   ],
   "source": [
    "hist_and_box_plot(df['Price'])"
   ]
  },
  {
   "cell_type": "code",
   "execution_count": 10,
   "metadata": {},
   "outputs": [
    {
     "data": {
      "text/plain": [
       "count    354365.000000\n",
       "mean       4416.679830\n",
       "std        4514.176349\n",
       "min           0.000000\n",
       "25%        1050.000000\n",
       "50%        2700.000000\n",
       "75%        6400.000000\n",
       "max       20000.000000\n",
       "Name: Price, dtype: float64"
      ]
     },
     "execution_count": 10,
     "metadata": {},
     "output_type": "execute_result"
    }
   ],
   "source": [
    "df['Price'].describe() "
   ]
  },
  {
   "cell_type": "markdown",
   "metadata": {},
   "source": [
    "Значения меньше 1000 выглядят неправдоподобно - возможно, там пропущен один 0. Домножим такие значения на 10."
   ]
  },
  {
   "cell_type": "code",
   "execution_count": 12,
   "metadata": {},
   "outputs": [
    {
     "data": {
      "text/html": [
       "<div>\n",
       "<style scoped>\n",
       "    .dataframe tbody tr th:only-of-type {\n",
       "        vertical-align: middle;\n",
       "    }\n",
       "\n",
       "    .dataframe tbody tr th {\n",
       "        vertical-align: top;\n",
       "    }\n",
       "\n",
       "    .dataframe thead th {\n",
       "        text-align: right;\n",
       "    }\n",
       "</style>\n",
       "<table border=\"1\" class=\"dataframe\">\n",
       "  <thead>\n",
       "    <tr style=\"text-align: right;\">\n",
       "      <th></th>\n",
       "      <th>DateCrawled</th>\n",
       "      <th>Price</th>\n",
       "      <th>VehicleType</th>\n",
       "      <th>RegistrationYear</th>\n",
       "      <th>Gearbox</th>\n",
       "      <th>Power</th>\n",
       "      <th>Model</th>\n",
       "      <th>Kilometer</th>\n",
       "      <th>RegistrationMonth</th>\n",
       "      <th>FuelType</th>\n",
       "      <th>Brand</th>\n",
       "      <th>Repaired</th>\n",
       "      <th>DateCreated</th>\n",
       "      <th>NumberOfPictures</th>\n",
       "      <th>PostalCode</th>\n",
       "      <th>LastSeen</th>\n",
       "    </tr>\n",
       "  </thead>\n",
       "  <tbody>\n",
       "    <tr>\n",
       "      <th>0</th>\n",
       "      <td>2016-03-24 11:52:17</td>\n",
       "      <td>480</td>\n",
       "      <td>NaN</td>\n",
       "      <td>1993</td>\n",
       "      <td>manual</td>\n",
       "      <td>0</td>\n",
       "      <td>golf</td>\n",
       "      <td>150000</td>\n",
       "      <td>0</td>\n",
       "      <td>petrol</td>\n",
       "      <td>volkswagen</td>\n",
       "      <td>NaN</td>\n",
       "      <td>2016-03-24 00:00:00</td>\n",
       "      <td>0</td>\n",
       "      <td>70435</td>\n",
       "      <td>2016-04-07 03:16:57</td>\n",
       "    </tr>\n",
       "    <tr>\n",
       "      <th>5</th>\n",
       "      <td>2016-04-04 17:36:23</td>\n",
       "      <td>650</td>\n",
       "      <td>sedan</td>\n",
       "      <td>1995</td>\n",
       "      <td>manual</td>\n",
       "      <td>102</td>\n",
       "      <td>3er</td>\n",
       "      <td>150000</td>\n",
       "      <td>10</td>\n",
       "      <td>petrol</td>\n",
       "      <td>bmw</td>\n",
       "      <td>yes</td>\n",
       "      <td>2016-04-04 00:00:00</td>\n",
       "      <td>0</td>\n",
       "      <td>33775</td>\n",
       "      <td>2016-04-06 19:17:07</td>\n",
       "    </tr>\n",
       "    <tr>\n",
       "      <th>7</th>\n",
       "      <td>2016-03-21 18:54:38</td>\n",
       "      <td>0</td>\n",
       "      <td>sedan</td>\n",
       "      <td>1980</td>\n",
       "      <td>manual</td>\n",
       "      <td>50</td>\n",
       "      <td>other</td>\n",
       "      <td>40000</td>\n",
       "      <td>7</td>\n",
       "      <td>petrol</td>\n",
       "      <td>volkswagen</td>\n",
       "      <td>no</td>\n",
       "      <td>2016-03-21 00:00:00</td>\n",
       "      <td>0</td>\n",
       "      <td>19348</td>\n",
       "      <td>2016-03-25 16:47:58</td>\n",
       "    </tr>\n",
       "    <tr>\n",
       "      <th>9</th>\n",
       "      <td>2016-03-17 10:53:50</td>\n",
       "      <td>999</td>\n",
       "      <td>small</td>\n",
       "      <td>1998</td>\n",
       "      <td>manual</td>\n",
       "      <td>101</td>\n",
       "      <td>golf</td>\n",
       "      <td>150000</td>\n",
       "      <td>0</td>\n",
       "      <td>NaN</td>\n",
       "      <td>volkswagen</td>\n",
       "      <td>NaN</td>\n",
       "      <td>2016-03-17 00:00:00</td>\n",
       "      <td>0</td>\n",
       "      <td>27472</td>\n",
       "      <td>2016-03-31 17:17:06</td>\n",
       "    </tr>\n",
       "    <tr>\n",
       "      <th>12</th>\n",
       "      <td>2016-03-15 22:49:09</td>\n",
       "      <td>999</td>\n",
       "      <td>wagon</td>\n",
       "      <td>1995</td>\n",
       "      <td>manual</td>\n",
       "      <td>115</td>\n",
       "      <td>passat</td>\n",
       "      <td>150000</td>\n",
       "      <td>11</td>\n",
       "      <td>petrol</td>\n",
       "      <td>volkswagen</td>\n",
       "      <td>NaN</td>\n",
       "      <td>2016-03-15 00:00:00</td>\n",
       "      <td>0</td>\n",
       "      <td>37269</td>\n",
       "      <td>2016-04-01 13:16:16</td>\n",
       "    </tr>\n",
       "  </tbody>\n",
       "</table>\n",
       "</div>"
      ],
      "text/plain": [
       "            DateCrawled  Price VehicleType  RegistrationYear Gearbox  Power  \\\n",
       "0   2016-03-24 11:52:17    480         NaN              1993  manual      0   \n",
       "5   2016-04-04 17:36:23    650       sedan              1995  manual    102   \n",
       "7   2016-03-21 18:54:38      0       sedan              1980  manual     50   \n",
       "9   2016-03-17 10:53:50    999       small              1998  manual    101   \n",
       "12  2016-03-15 22:49:09    999       wagon              1995  manual    115   \n",
       "\n",
       "     Model  Kilometer  RegistrationMonth FuelType       Brand Repaired  \\\n",
       "0     golf     150000                  0   petrol  volkswagen      NaN   \n",
       "5      3er     150000                 10   petrol         bmw      yes   \n",
       "7    other      40000                  7   petrol  volkswagen       no   \n",
       "9     golf     150000                  0      NaN  volkswagen      NaN   \n",
       "12  passat     150000                 11   petrol  volkswagen      NaN   \n",
       "\n",
       "            DateCreated  NumberOfPictures  PostalCode             LastSeen  \n",
       "0   2016-03-24 00:00:00                 0       70435  2016-04-07 03:16:57  \n",
       "5   2016-04-04 00:00:00                 0       33775  2016-04-06 19:17:07  \n",
       "7   2016-03-21 00:00:00                 0       19348  2016-03-25 16:47:58  \n",
       "9   2016-03-17 00:00:00                 0       27472  2016-03-31 17:17:06  \n",
       "12  2016-03-15 00:00:00                 0       37269  2016-04-01 13:16:16  "
      ]
     },
     "execution_count": 12,
     "metadata": {},
     "output_type": "execute_result"
    }
   ],
   "source": [
    "# посмотрим на оставшиеся аномалии\n",
    "df.query('Price < 1000').head() "
   ]
  },
  {
   "cell_type": "markdown",
   "metadata": {},
   "source": [
    "Заменим аномальные значения медианой по столбцу."
   ]
  },
  {
   "cell_type": "code",
   "execution_count": 13,
   "metadata": {},
   "outputs": [],
   "source": [
    "df['Price'] = df['Price'].where(df['Price'] >= 1000, other=df['Price'].median()) "
   ]
  },
  {
   "cell_type": "markdown",
   "metadata": {},
   "source": [
    "Выбросы с крупными значениями оставим, т.к. они выглядят вполне реально."
   ]
  },
  {
   "cell_type": "markdown",
   "metadata": {},
   "source": [
    "### DateCrawled "
   ]
  },
  {
   "cell_type": "code",
   "execution_count": 14,
   "metadata": {},
   "outputs": [],
   "source": [
    "# приведём к типу datetime\n",
    "df['DateCrawled'] = pd.to_datetime(df['DateCrawled'], format='%Y-%m-%d') "
   ]
  },
  {
   "cell_type": "code",
   "execution_count": 15,
   "metadata": {},
   "outputs": [
    {
     "data": {
      "text/plain": [
       "Timestamp('2016-04-07 14:36:58')"
      ]
     },
     "execution_count": 15,
     "metadata": {},
     "output_type": "execute_result"
    }
   ],
   "source": [
    "# найдём максимальное значение даты скачивания анкеты из базы\n",
    "df['DateCrawled'].max()"
   ]
  },
  {
   "cell_type": "markdown",
   "metadata": {},
   "source": [
    "### VehicleType "
   ]
  },
  {
   "cell_type": "code",
   "execution_count": 16,
   "metadata": {},
   "outputs": [
    {
     "name": "stdout",
     "output_type": "stream",
     "text": [
      "Уникальные значения VehicleType\n",
      "[nan 'coupe' 'suv' 'small' 'sedan' 'convertible' 'bus' 'wagon' 'other']\n",
      "График распределения VehicleType\n"
     ]
    },
    {
     "data": {
      "image/png": "[encoded data removed]",
      "text/plain": [
       "<Figure size 432x288 with 1 Axes>"
      ]
     },
     "metadata": {
      "needs_background": "light"
     },
     "output_type": "display_data"
    }
   ],
   "source": [
    "countplot('VehicleType')"
   ]
  },
  {
   "cell_type": "markdown",
   "metadata": {},
   "source": [
    "### RegistrationYear"
   ]
  },
  {
   "cell_type": "code",
   "execution_count": 17,
   "metadata": {},
   "outputs": [
    {
     "data": {
      "image/png": "[encoded data removed]",
      "text/plain": [
       "<Figure size 720x720 with 2 Axes>"
      ]
     },
     "metadata": {
      "needs_background": "light"
     },
     "output_type": "display_data"
    }
   ],
   "source": [
    "hist_and_box_plot(df['RegistrationYear'])"
   ]
  },
  {
   "cell_type": "markdown",
   "metadata": {},
   "source": [
    "В колонке очень много аномальных значений. Автомобиль не может быть зарегистрирован позднее 2016 года - значит, нужно отсечь записи с датой регистрации позже 2016."
   ]
  },
  {
   "cell_type": "code",
   "execution_count": 18,
   "metadata": {},
   "outputs": [
    {
     "data": {
      "text/plain": [
       "0.041002920717339464"
      ]
     },
     "execution_count": 18,
     "metadata": {},
     "output_type": "execute_result"
    }
   ],
   "source": [
    "# посмотрим долю таких значений \n",
    "df.query('RegistrationYear > 2016')['Price'].count() / df.shape[0] "
   ]
  },
  {
   "cell_type": "markdown",
   "metadata": {},
   "source": [
    "Такх значений менее 1%, поэтому можно удалить."
   ]
  },
  {
   "cell_type": "code",
   "execution_count": 19,
   "metadata": {},
   "outputs": [],
   "source": [
    "df = df.query('RegistrationYear <= 2016')"
   ]
  },
  {
   "cell_type": "code",
   "execution_count": 20,
   "metadata": {},
   "outputs": [
    {
     "data": {
      "text/plain": [
       "1960.4821327468444"
      ]
     },
     "execution_count": 20,
     "metadata": {},
     "output_type": "execute_result"
    }
   ],
   "source": [
    "# # по правилу трёх сигм найдём нижнюю границу выбросов\n",
    "MIN_YEAR = df['RegistrationYear'].mean() - 3 * np.std(df['RegistrationYear'])\n",
    "MIN_YEAR"
   ]
  },
  {
   "cell_type": "code",
   "execution_count": 21,
   "metadata": {},
   "outputs": [
    {
     "data": {
      "text/plain": [
       "0.0017949887445377903"
      ]
     },
     "execution_count": 21,
     "metadata": {},
     "output_type": "execute_result"
    }
   ],
   "source": [
    "# # посмотрим долю таких значений\n",
    "df.query('RegistrationYear < @MIN_YEAR')['Price'].count() / df.shape[0] "
   ]
  },
  {
   "cell_type": "markdown",
   "metadata": {},
   "source": [
    "Таких значений тоже менее 1% - значит, можно их удалить."
   ]
  },
  {
   "cell_type": "code",
   "execution_count": 22,
   "metadata": {},
   "outputs": [],
   "source": [
    "df = df.query('RegistrationYear >= @MIN_YEAR') "
   ]
  },
  {
   "cell_type": "code",
   "execution_count": 23,
   "metadata": {},
   "outputs": [
    {
     "data": {
      "image/png": "[encoded data removed]",
      "text/plain": [
       "<Figure size 720x720 with 2 Axes>"
      ]
     },
     "metadata": {
      "needs_background": "light"
     },
     "output_type": "display_data"
    }
   ],
   "source": [
    "# посмотрим, кк изменились графики\n",
    "hist_and_box_plot(df['RegistrationYear']) "
   ]
  },
  {
   "cell_type": "markdown",
   "metadata": {},
   "source": [
    "<div class=\"alert alert-success\">\n",
    "<b>Комментарий ревьюера V2✔️:</b> Тут все верно</div>"
   ]
  },
  {
   "cell_type": "markdown",
   "metadata": {},
   "source": [
    "### Gearbox"
   ]
  },
  {
   "cell_type": "code",
   "execution_count": 24,
   "metadata": {},
   "outputs": [
    {
     "name": "stdout",
     "output_type": "stream",
     "text": [
      "Уникальные значения Gearbox\n",
      "['manual' 'auto' nan]\n",
      "График распределения Gearbox\n"
     ]
    },
    {
     "data": {
      "image/png": "[encoded data removed]",
      "text/plain": [
       "<Figure size 432x288 with 1 Axes>"
      ]
     },
     "metadata": {
      "needs_background": "light"
     },
     "output_type": "display_data"
    }
   ],
   "source": [
    "countplot('Gearbox')"
   ]
  },
  {
   "cell_type": "markdown",
   "metadata": {},
   "source": [
    "### Power "
   ]
  },
  {
   "cell_type": "code",
   "execution_count": 25,
   "metadata": {
    "scrolled": true
   },
   "outputs": [
    {
     "data": {
      "image/png": "[encoded data removed]",
      "text/plain": [
       "<Figure size 720x720 with 2 Axes>"
      ]
     },
     "metadata": {
      "needs_background": "light"
     },
     "output_type": "display_data"
    }
   ],
   "source": [
    "hist_and_box_plot(np.log1p(df['Power'])) "
   ]
  },
  {
   "cell_type": "code",
   "execution_count": 26,
   "metadata": {},
   "outputs": [
    {
     "data": {
      "text/plain": [
       "0.10652811555752081"
      ]
     },
     "execution_count": 26,
     "metadata": {},
     "output_type": "execute_result"
    }
   ],
   "source": [
    "# доля нулевых значений\n",
    "df.query('Power == 0')['Power'].count() / df.shape[0]"
   ]
  },
  {
   "cell_type": "code",
   "execution_count": 27,
   "metadata": {},
   "outputs": [],
   "source": [
    "# удаляем записи с нулевым значением\n",
    "df = df.query('Power > 0')"
   ]
  },
  {
   "cell_type": "markdown",
   "metadata": {},
   "source": [
    "### Model"
   ]
  },
  {
   "cell_type": "code",
   "execution_count": 28,
   "metadata": {},
   "outputs": [
    {
     "data": {
      "text/plain": [
       "array([nan, 'grand', 'golf', 'fabia', '3er', '2_reihe', 'other', 'c_max',\n",
       "       '3_reihe', 'passat', 'navara', 'polo', 'twingo', 'a_klasse',\n",
       "       'scirocco', '5er', 'arosa', 'civic', 'transporter', 'punto',\n",
       "       'e_klasse', 'clio', 'kadett', 'one', 'fortwo', '1er', 'b_klasse',\n",
       "       'a8', 'jetta', 'fiesta', 'c_klasse', 'micra', 'vito', 'sprinter',\n",
       "       'astra', '156', 'escort', 'forester', 'xc_reihe', 'scenic', 'ka',\n",
       "       'a1', 'focus', 'a4', 'tt', 'a6', 'jazz', 'omega', 'slk', '7er',\n",
       "       'combo', 'corsa', '80', '147', 'meriva', 'z_reihe', 'sorento',\n",
       "       'ibiza', 'mustang', 'eos', 'touran', 'getz', 'insignia', 'almera',\n",
       "       'megane', 'a3', 'lupo', 'r19', 'caddy', 'mondeo', 'cordoba',\n",
       "       'colt', 'impreza', 'vectra', 'berlingo', 'tiguan', '6_reihe', 'c4',\n",
       "       'panda', 'up', 'i_reihe', 'ceed', 'kangoo', '5_reihe', 'yeti',\n",
       "       'octavia', 'zafira', 'mii', 'rx_reihe', '6er', 'modus', 'fox',\n",
       "       'matiz', 'beetle', 'rio', 'touareg', 'logan', 'spider', 'cuore',\n",
       "       's_max', 'a2', 'galaxy', 'c3', 'viano', 's_klasse', '1_reihe',\n",
       "       'sharan', 'avensis', 'roomster', 'sl', 'kaefer', 'santa', 'leon',\n",
       "       'cooper', '4_reihe', 'a5', 'sportage', 'laguna', 'ptcruiser',\n",
       "       'clk', 'primera', 'espace', 'exeo', '159', 'transit', 'juke',\n",
       "       'x_reihe', 'v40', 'carisma', 'accord', 'corolla', 'lanos',\n",
       "       'phaeton', 'verso', 'swift', 'rav', 'qashqai', 'picanto',\n",
       "       'boxster', 'superb', 'stilo', 'alhambra', 'mx_reihe', 'roadster',\n",
       "       'ypsilon', 'galant', 'justy', '90', 'sirion', 'signum',\n",
       "       'crossfire', 'agila', 'duster', 'v50', '500', 'c_reihe',\n",
       "       'v_klasse', 'm_klasse', 'yaris', 'c5', 'aygo', 'seicento', 'cc',\n",
       "       'carnival', 'fusion', '911', 'bora', 'forfour', 'm_reihe', 'cl',\n",
       "       'tigra', '300c', '100', 'cr_reihe', 'spark', 'kuga', 'x_type',\n",
       "       'ducato', 's_type', 'x_trail', 'toledo', 'altea', 'voyager',\n",
       "       'calibra', 'v70', 'bravo', 'tucson', 'c1', 'citigo', 'jimny',\n",
       "       'cayenne', 'wrangler', 'lybra', 'lancer', 'captiva', 'discovery',\n",
       "       'freelander', 'sandero', 'q7', 'note', 'antara', '900', 'cherokee',\n",
       "       'clubman', 'defender', 'cx_reihe', 'legacy', 'pajero', 'auris',\n",
       "       'c2', 'niva', 's60', 'nubira', 'vivaro', 'g_klasse', 'lodgy',\n",
       "       'range_rover', '601', '850', 'q3', 'serie_2', 'glk', 'charade',\n",
       "       'croma', 'outlander', 'doblo', 'musa', '9000', 'kalos', 'v60',\n",
       "       '200', '145', 'b_max', 'range_rover_sport', 'aveo', 'move',\n",
       "       'rangerover', 'q5', 'range_rover_evoque', 'materia', 'delta',\n",
       "       'terios', 'gl', 'kalina', 'elefantino', 'i3', 'samara', 'amarok',\n",
       "       'kappa', 'serie_3'], dtype=object)"
      ]
     },
     "execution_count": 28,
     "metadata": {},
     "output_type": "execute_result"
    }
   ],
   "source": [
    "df['Model'].unique() "
   ]
  },
  {
   "cell_type": "markdown",
   "metadata": {},
   "source": [
    "### Kilometer"
   ]
  },
  {
   "cell_type": "code",
   "execution_count": 29,
   "metadata": {},
   "outputs": [
    {
     "data": {
      "image/png": "[encoded data removed]",
      "text/plain": [
       "<Figure size 720x720 with 2 Axes>"
      ]
     },
     "metadata": {
      "needs_background": "light"
     },
     "output_type": "display_data"
    }
   ],
   "source": [
    "hist_and_box_plot(df['Kilometer']) "
   ]
  },
  {
   "cell_type": "markdown",
   "metadata": {},
   "source": [
    "Пробег может быть любой, поэтому ничего удалять не будем."
   ]
  },
  {
   "cell_type": "markdown",
   "metadata": {},
   "source": [
    "### RegistrationMonth"
   ]
  },
  {
   "cell_type": "code",
   "execution_count": 30,
   "metadata": {},
   "outputs": [
    {
     "name": "stdout",
     "output_type": "stream",
     "text": [
      "Уникальные значения RegistrationMonth\n",
      "[ 5  8  6  7 10  0 12 11  2  3  1  4  9]\n",
      "График распределения RegistrationMonth\n"
     ]
    },
    {
     "data": {
      "image/png": "[encoded data removed]",
      "text/plain": [
       "<Figure size 432x288 with 1 Axes>"
      ]
     },
     "metadata": {
      "needs_background": "light"
     },
     "output_type": "display_data"
    }
   ],
   "source": [
    "countplot('RegistrationMonth')"
   ]
  },
  {
   "cell_type": "markdown",
   "metadata": {},
   "source": [
    "Посмотрим, сколько нулей в RegistrationMonth. "
   ]
  },
  {
   "cell_type": "code",
   "execution_count": 31,
   "metadata": {},
   "outputs": [
    {
     "data": {
      "text/plain": [
       "0.06525497545267381"
      ]
     },
     "execution_count": 31,
     "metadata": {},
     "output_type": "execute_result"
    }
   ],
   "source": [
    "df.query('RegistrationMonth == 0')['Price'].count() / df.shape[0]"
   ]
  },
  {
   "cell_type": "markdown",
   "metadata": {},
   "source": [
    "Нулей в колонке с месяцем около 0.6%. Предположим, что вместо 0 там должно быть 10 и заменим нулевые значения."
   ]
  },
  {
   "cell_type": "code",
   "execution_count": 32,
   "metadata": {},
   "outputs": [],
   "source": [
    "df['RegistrationMonth'] = df['RegistrationMonth'].where(df['RegistrationMonth'] != 0, other=10) "
   ]
  },
  {
   "cell_type": "markdown",
   "metadata": {},
   "source": [
    "### FuelType"
   ]
  },
  {
   "cell_type": "code",
   "execution_count": 33,
   "metadata": {},
   "outputs": [
    {
     "name": "stdout",
     "output_type": "stream",
     "text": [
      "Уникальные значения FuelType\n",
      "['gasoline' 'petrol' nan 'lpg' 'other' 'hybrid' 'cng' 'electric']\n",
      "График распределения FuelType\n"
     ]
    },
    {
     "data": {
      "image/png": "[encoded data removed]",
      "text/plain": [
       "<Figure size 432x288 with 1 Axes>"
      ]
     },
     "metadata": {
      "needs_background": "light"
     },
     "output_type": "display_data"
    }
   ],
   "source": [
    "countplot('FuelType')"
   ]
  },
  {
   "cell_type": "markdown",
   "metadata": {},
   "source": [
    "### Brand"
   ]
  },
  {
   "cell_type": "code",
   "execution_count": 34,
   "metadata": {},
   "outputs": [
    {
     "name": "stdout",
     "output_type": "stream",
     "text": [
      "Уникальные значения Brand\n",
      "['audi' 'jeep' 'volkswagen' 'skoda' 'bmw' 'peugeot' 'ford' 'mazda'\n",
      " 'nissan' 'renault' 'mercedes_benz' 'seat' 'honda' 'fiat' 'opel' 'mini'\n",
      " 'smart' 'hyundai' 'sonstige_autos' 'alfa_romeo' 'subaru' 'volvo'\n",
      " 'mitsubishi' 'kia' 'suzuki' 'lancia' 'citroen' 'toyota' 'chevrolet'\n",
      " 'dacia' 'daihatsu' 'saab' 'chrysler' 'jaguar' 'daewoo' 'rover' 'porsche'\n",
      " 'trabant' 'land_rover' 'lada']\n",
      "График распределения Brand\n"
     ]
    },
    {
     "data": {
      "image/png": "[encoded data removed]",
      "text/plain": [
       "<Figure size 432x288 with 1 Axes>"
      ]
     },
     "metadata": {
      "needs_background": "light"
     },
     "output_type": "display_data"
    }
   ],
   "source": [
    "countplot('Brand')"
   ]
  },
  {
   "cell_type": "markdown",
   "metadata": {},
   "source": [
    "<div class=\"alert alert-warning\">\n",
    "<b>Комментарий ревьюера ⚠️:</b> График увеличить бы, а то надписи друг на друга наехали;(\n",
    "\n",
    "</div>"
   ]
  },
  {
   "cell_type": "markdown",
   "metadata": {},
   "source": [
    "### Repaired"
   ]
  },
  {
   "cell_type": "code",
   "execution_count": 35,
   "metadata": {},
   "outputs": [
    {
     "name": "stdout",
     "output_type": "stream",
     "text": [
      "Уникальные значения Repaired\n",
      "['yes' nan 'no']\n",
      "График распределения Repaired\n"
     ]
    },
    {
     "data": {
      "image/png": "[encoded data removed]",
      "text/plain": [
       "<Figure size 432x288 with 1 Axes>"
      ]
     },
     "metadata": {
      "needs_background": "light"
     },
     "output_type": "display_data"
    }
   ],
   "source": [
    "countplot('Repaired')"
   ]
  },
  {
   "cell_type": "markdown",
   "metadata": {},
   "source": [
    "### DateCreated "
   ]
  },
  {
   "cell_type": "code",
   "execution_count": 36,
   "metadata": {},
   "outputs": [],
   "source": [
    "# приведём к типу datetime\n",
    "df['DateCreated'] = pd.to_datetime(df['DateCreated'], format='%Y-%m-%d')"
   ]
  },
  {
   "cell_type": "markdown",
   "metadata": {},
   "source": [
    "Дата создания анкеты должна быть не позднее её скачивания из базы."
   ]
  },
  {
   "cell_type": "code",
   "execution_count": 37,
   "metadata": {},
   "outputs": [
    {
     "data": {
      "text/plain": [
       "0"
      ]
     },
     "execution_count": 37,
     "metadata": {},
     "output_type": "execute_result"
    }
   ],
   "source": [
    "df.query('DateCreated > DateCrawled')['Price'].count() "
   ]
  },
  {
   "cell_type": "markdown",
   "metadata": {},
   "source": [
    "Таких записей нет, всё в порядке."
   ]
  },
  {
   "cell_type": "markdown",
   "metadata": {},
   "source": [
    "### NumberOfPictures"
   ]
  },
  {
   "cell_type": "markdown",
   "metadata": {},
   "source": [
    "Посмотрим, сколько нулей в колонке NumberOfPictures."
   ]
  },
  {
   "cell_type": "code",
   "execution_count": 38,
   "metadata": {},
   "outputs": [
    {
     "data": {
      "text/plain": [
       "0    303088\n",
       "Name: NumberOfPictures, dtype: int64"
      ]
     },
     "execution_count": 38,
     "metadata": {},
     "output_type": "execute_result"
    }
   ],
   "source": [
    "df['NumberOfPictures'].value_counts()"
   ]
  },
  {
   "cell_type": "markdown",
   "metadata": {},
   "source": [
    "### PostalCode "
   ]
  },
  {
   "cell_type": "code",
   "execution_count": 39,
   "metadata": {},
   "outputs": [
    {
     "data": {
      "image/png": "[encoded data removed]",
      "text/plain": [
       "<Figure size 720x720 with 2 Axes>"
      ]
     },
     "metadata": {
      "needs_background": "light"
     },
     "output_type": "display_data"
    }
   ],
   "source": [
    "hist_and_box_plot(df['PostalCode'])"
   ]
  },
  {
   "cell_type": "markdown",
   "metadata": {},
   "source": [
    "### LastSeen"
   ]
  },
  {
   "cell_type": "code",
   "execution_count": 40,
   "metadata": {},
   "outputs": [],
   "source": [
    "# приведём к типу datetime\n",
    "df['LastSeen'] = pd.to_datetime(df['LastSeen'], format='%Y-%m-%d') "
   ]
  },
  {
   "cell_type": "markdown",
   "metadata": {},
   "source": [
    "Нужно проверить, что нет таких автомобилей, которые зарегистрированы после даты последней активности пользователя."
   ]
  },
  {
   "cell_type": "code",
   "execution_count": 41,
   "metadata": {},
   "outputs": [],
   "source": [
    "# функция получения даты регистрации авто\n",
    "def to_date(row):\n",
    "    year = str(row['RegistrationYear'])\n",
    "    month = str(row['RegistrationMonth'])\n",
    "    day = '1'\n",
    "    \n",
    "    date = pd.to_datetime(('-').join([year, month, day]), format='%Y-%m-%d')\n",
    "    return date "
   ]
  },
  {
   "cell_type": "code",
   "execution_count": 42,
   "metadata": {},
   "outputs": [],
   "source": [
    "# создаём колонку с датой регистрации авто\n",
    "df['RegistrationDate'] = df.apply(to_date, axis=1) "
   ]
  },
  {
   "cell_type": "code",
   "execution_count": 43,
   "metadata": {},
   "outputs": [
    {
     "data": {
      "text/html": [
       "<div>\n",
       "<style scoped>\n",
       "    .dataframe tbody tr th:only-of-type {\n",
       "        vertical-align: middle;\n",
       "    }\n",
       "\n",
       "    .dataframe tbody tr th {\n",
       "        vertical-align: top;\n",
       "    }\n",
       "\n",
       "    .dataframe thead th {\n",
       "        text-align: right;\n",
       "    }\n",
       "</style>\n",
       "<table border=\"1\" class=\"dataframe\">\n",
       "  <thead>\n",
       "    <tr style=\"text-align: right;\">\n",
       "      <th></th>\n",
       "      <th>DateCrawled</th>\n",
       "      <th>Price</th>\n",
       "      <th>VehicleType</th>\n",
       "      <th>RegistrationYear</th>\n",
       "      <th>Gearbox</th>\n",
       "      <th>Power</th>\n",
       "      <th>Model</th>\n",
       "      <th>Kilometer</th>\n",
       "      <th>RegistrationMonth</th>\n",
       "      <th>FuelType</th>\n",
       "      <th>Brand</th>\n",
       "      <th>Repaired</th>\n",
       "      <th>DateCreated</th>\n",
       "      <th>NumberOfPictures</th>\n",
       "      <th>PostalCode</th>\n",
       "      <th>LastSeen</th>\n",
       "      <th>RegistrationDate</th>\n",
       "    </tr>\n",
       "  </thead>\n",
       "  <tbody>\n",
       "    <tr>\n",
       "      <th>1</th>\n",
       "      <td>2016-03-24 10:58:45</td>\n",
       "      <td>18300</td>\n",
       "      <td>coupe</td>\n",
       "      <td>2011</td>\n",
       "      <td>manual</td>\n",
       "      <td>190</td>\n",
       "      <td>NaN</td>\n",
       "      <td>125000</td>\n",
       "      <td>5</td>\n",
       "      <td>gasoline</td>\n",
       "      <td>audi</td>\n",
       "      <td>yes</td>\n",
       "      <td>2016-03-24</td>\n",
       "      <td>0</td>\n",
       "      <td>66954</td>\n",
       "      <td>2016-04-07 01:46:50</td>\n",
       "      <td>2011-05-01</td>\n",
       "    </tr>\n",
       "    <tr>\n",
       "      <th>2</th>\n",
       "      <td>2016-03-14 12:52:21</td>\n",
       "      <td>9800</td>\n",
       "      <td>suv</td>\n",
       "      <td>2004</td>\n",
       "      <td>auto</td>\n",
       "      <td>163</td>\n",
       "      <td>grand</td>\n",
       "      <td>125000</td>\n",
       "      <td>8</td>\n",
       "      <td>gasoline</td>\n",
       "      <td>jeep</td>\n",
       "      <td>NaN</td>\n",
       "      <td>2016-03-14</td>\n",
       "      <td>0</td>\n",
       "      <td>90480</td>\n",
       "      <td>2016-04-05 12:47:46</td>\n",
       "      <td>2004-08-01</td>\n",
       "    </tr>\n",
       "    <tr>\n",
       "      <th>3</th>\n",
       "      <td>2016-03-17 16:54:04</td>\n",
       "      <td>1500</td>\n",
       "      <td>small</td>\n",
       "      <td>2001</td>\n",
       "      <td>manual</td>\n",
       "      <td>75</td>\n",
       "      <td>golf</td>\n",
       "      <td>150000</td>\n",
       "      <td>6</td>\n",
       "      <td>petrol</td>\n",
       "      <td>volkswagen</td>\n",
       "      <td>no</td>\n",
       "      <td>2016-03-17</td>\n",
       "      <td>0</td>\n",
       "      <td>91074</td>\n",
       "      <td>2016-03-17 17:40:17</td>\n",
       "      <td>2001-06-01</td>\n",
       "    </tr>\n",
       "    <tr>\n",
       "      <th>4</th>\n",
       "      <td>2016-03-31 17:25:20</td>\n",
       "      <td>3600</td>\n",
       "      <td>small</td>\n",
       "      <td>2008</td>\n",
       "      <td>manual</td>\n",
       "      <td>69</td>\n",
       "      <td>fabia</td>\n",
       "      <td>90000</td>\n",
       "      <td>7</td>\n",
       "      <td>gasoline</td>\n",
       "      <td>skoda</td>\n",
       "      <td>no</td>\n",
       "      <td>2016-03-31</td>\n",
       "      <td>0</td>\n",
       "      <td>60437</td>\n",
       "      <td>2016-04-06 10:17:21</td>\n",
       "      <td>2008-07-01</td>\n",
       "    </tr>\n",
       "    <tr>\n",
       "      <th>5</th>\n",
       "      <td>2016-04-04 17:36:23</td>\n",
       "      <td>2700</td>\n",
       "      <td>sedan</td>\n",
       "      <td>1995</td>\n",
       "      <td>manual</td>\n",
       "      <td>102</td>\n",
       "      <td>3er</td>\n",
       "      <td>150000</td>\n",
       "      <td>10</td>\n",
       "      <td>petrol</td>\n",
       "      <td>bmw</td>\n",
       "      <td>yes</td>\n",
       "      <td>2016-04-04</td>\n",
       "      <td>0</td>\n",
       "      <td>33775</td>\n",
       "      <td>2016-04-06 19:17:07</td>\n",
       "      <td>1995-10-01</td>\n",
       "    </tr>\n",
       "  </tbody>\n",
       "</table>\n",
       "</div>"
      ],
      "text/plain": [
       "          DateCrawled  Price VehicleType  RegistrationYear Gearbox  Power  \\\n",
       "1 2016-03-24 10:58:45  18300       coupe              2011  manual    190   \n",
       "2 2016-03-14 12:52:21   9800         suv              2004    auto    163   \n",
       "3 2016-03-17 16:54:04   1500       small              2001  manual     75   \n",
       "4 2016-03-31 17:25:20   3600       small              2008  manual     69   \n",
       "5 2016-04-04 17:36:23   2700       sedan              1995  manual    102   \n",
       "\n",
       "   Model  Kilometer  RegistrationMonth  FuelType       Brand Repaired  \\\n",
       "1    NaN     125000                  5  gasoline        audi      yes   \n",
       "2  grand     125000                  8  gasoline        jeep      NaN   \n",
       "3   golf     150000                  6    petrol  volkswagen       no   \n",
       "4  fabia      90000                  7  gasoline       skoda       no   \n",
       "5    3er     150000                 10    petrol         bmw      yes   \n",
       "\n",
       "  DateCreated  NumberOfPictures  PostalCode            LastSeen  \\\n",
       "1  2016-03-24                 0       66954 2016-04-07 01:46:50   \n",
       "2  2016-03-14                 0       90480 2016-04-05 12:47:46   \n",
       "3  2016-03-17                 0       91074 2016-03-17 17:40:17   \n",
       "4  2016-03-31                 0       60437 2016-04-06 10:17:21   \n",
       "5  2016-04-04                 0       33775 2016-04-06 19:17:07   \n",
       "\n",
       "  RegistrationDate  \n",
       "1       2011-05-01  \n",
       "2       2004-08-01  \n",
       "3       2001-06-01  \n",
       "4       2008-07-01  \n",
       "5       1995-10-01  "
      ]
     },
     "execution_count": 43,
     "metadata": {},
     "output_type": "execute_result"
    }
   ],
   "source": [
    "df.head() "
   ]
  },
  {
   "cell_type": "code",
   "execution_count": 44,
   "metadata": {},
   "outputs": [],
   "source": [
    "# для записей, где авто зарегистрирован позднее последней активности, добавим метку\n",
    "def registration_after_last_seen(row):\n",
    "    registration = row['RegistrationDate']\n",
    "    last_seen = row['LastSeen']\n",
    "    \n",
    "    if (last_seen - registration).days < 0:\n",
    "        result = 1\n",
    "    else:\n",
    "        result = 0\n",
    "    return result "
   ]
  },
  {
   "cell_type": "code",
   "execution_count": 45,
   "metadata": {},
   "outputs": [],
   "source": [
    "df['RegistrationAfterLastSeen'] = df.apply(registration_after_last_seen, axis=1) "
   ]
  },
  {
   "cell_type": "code",
   "execution_count": 46,
   "metadata": {},
   "outputs": [
    {
     "data": {
      "text/html": [
       "<div>\n",
       "<style scoped>\n",
       "    .dataframe tbody tr th:only-of-type {\n",
       "        vertical-align: middle;\n",
       "    }\n",
       "\n",
       "    .dataframe tbody tr th {\n",
       "        vertical-align: top;\n",
       "    }\n",
       "\n",
       "    .dataframe thead th {\n",
       "        text-align: right;\n",
       "    }\n",
       "</style>\n",
       "<table border=\"1\" class=\"dataframe\">\n",
       "  <thead>\n",
       "    <tr style=\"text-align: right;\">\n",
       "      <th></th>\n",
       "      <th>DateCrawled</th>\n",
       "      <th>Price</th>\n",
       "      <th>VehicleType</th>\n",
       "      <th>RegistrationYear</th>\n",
       "      <th>Gearbox</th>\n",
       "      <th>Power</th>\n",
       "      <th>Model</th>\n",
       "      <th>Kilometer</th>\n",
       "      <th>RegistrationMonth</th>\n",
       "      <th>FuelType</th>\n",
       "      <th>Brand</th>\n",
       "      <th>Repaired</th>\n",
       "      <th>DateCreated</th>\n",
       "      <th>NumberOfPictures</th>\n",
       "      <th>PostalCode</th>\n",
       "      <th>LastSeen</th>\n",
       "      <th>RegistrationDate</th>\n",
       "      <th>RegistrationAfterLastSeen</th>\n",
       "    </tr>\n",
       "  </thead>\n",
       "  <tbody>\n",
       "    <tr>\n",
       "      <th>16</th>\n",
       "      <td>2016-04-01 12:46:46</td>\n",
       "      <td>2700</td>\n",
       "      <td>NaN</td>\n",
       "      <td>2016</td>\n",
       "      <td>NaN</td>\n",
       "      <td>60</td>\n",
       "      <td>polo</td>\n",
       "      <td>150000</td>\n",
       "      <td>10</td>\n",
       "      <td>petrol</td>\n",
       "      <td>volkswagen</td>\n",
       "      <td>NaN</td>\n",
       "      <td>2016-04-01</td>\n",
       "      <td>0</td>\n",
       "      <td>38871</td>\n",
       "      <td>2016-04-01 12:46:46</td>\n",
       "      <td>2016-10-01</td>\n",
       "      <td>1</td>\n",
       "    </tr>\n",
       "    <tr>\n",
       "      <th>31</th>\n",
       "      <td>2016-03-29 16:57:02</td>\n",
       "      <td>2700</td>\n",
       "      <td>NaN</td>\n",
       "      <td>2016</td>\n",
       "      <td>manual</td>\n",
       "      <td>60</td>\n",
       "      <td>clio</td>\n",
       "      <td>150000</td>\n",
       "      <td>6</td>\n",
       "      <td>petrol</td>\n",
       "      <td>renault</td>\n",
       "      <td>NaN</td>\n",
       "      <td>2016-03-29</td>\n",
       "      <td>0</td>\n",
       "      <td>37075</td>\n",
       "      <td>2016-03-29 17:43:07</td>\n",
       "      <td>2016-06-01</td>\n",
       "      <td>1</td>\n",
       "    </tr>\n",
       "    <tr>\n",
       "      <th>35</th>\n",
       "      <td>2016-03-08 07:54:46</td>\n",
       "      <td>2700</td>\n",
       "      <td>NaN</td>\n",
       "      <td>2016</td>\n",
       "      <td>manual</td>\n",
       "      <td>75</td>\n",
       "      <td>golf</td>\n",
       "      <td>150000</td>\n",
       "      <td>4</td>\n",
       "      <td>petrol</td>\n",
       "      <td>volkswagen</td>\n",
       "      <td>no</td>\n",
       "      <td>2016-03-08</td>\n",
       "      <td>0</td>\n",
       "      <td>19386</td>\n",
       "      <td>2016-03-08 09:44:50</td>\n",
       "      <td>2016-04-01</td>\n",
       "      <td>1</td>\n",
       "    </tr>\n",
       "    <tr>\n",
       "      <th>181</th>\n",
       "      <td>2016-03-21 14:43:48</td>\n",
       "      <td>3000</td>\n",
       "      <td>NaN</td>\n",
       "      <td>2016</td>\n",
       "      <td>auto</td>\n",
       "      <td>75</td>\n",
       "      <td>fabia</td>\n",
       "      <td>150000</td>\n",
       "      <td>10</td>\n",
       "      <td>petrol</td>\n",
       "      <td>skoda</td>\n",
       "      <td>NaN</td>\n",
       "      <td>2016-03-21</td>\n",
       "      <td>0</td>\n",
       "      <td>24782</td>\n",
       "      <td>2016-03-31 17:45:24</td>\n",
       "      <td>2016-10-01</td>\n",
       "      <td>1</td>\n",
       "    </tr>\n",
       "    <tr>\n",
       "      <th>200</th>\n",
       "      <td>2016-04-03 20:44:13</td>\n",
       "      <td>1999</td>\n",
       "      <td>NaN</td>\n",
       "      <td>2016</td>\n",
       "      <td>manual</td>\n",
       "      <td>110</td>\n",
       "      <td>almera</td>\n",
       "      <td>150000</td>\n",
       "      <td>9</td>\n",
       "      <td>gasoline</td>\n",
       "      <td>nissan</td>\n",
       "      <td>NaN</td>\n",
       "      <td>2016-04-03</td>\n",
       "      <td>0</td>\n",
       "      <td>10997</td>\n",
       "      <td>2016-04-05 21:17:18</td>\n",
       "      <td>2016-09-01</td>\n",
       "      <td>1</td>\n",
       "    </tr>\n",
       "  </tbody>\n",
       "</table>\n",
       "</div>"
      ],
      "text/plain": [
       "            DateCrawled  Price VehicleType  RegistrationYear Gearbox  Power  \\\n",
       "16  2016-04-01 12:46:46   2700         NaN              2016     NaN     60   \n",
       "31  2016-03-29 16:57:02   2700         NaN              2016  manual     60   \n",
       "35  2016-03-08 07:54:46   2700         NaN              2016  manual     75   \n",
       "181 2016-03-21 14:43:48   3000         NaN              2016    auto     75   \n",
       "200 2016-04-03 20:44:13   1999         NaN              2016  manual    110   \n",
       "\n",
       "      Model  Kilometer  RegistrationMonth  FuelType       Brand Repaired  \\\n",
       "16     polo     150000                 10    petrol  volkswagen      NaN   \n",
       "31     clio     150000                  6    petrol     renault      NaN   \n",
       "35     golf     150000                  4    petrol  volkswagen       no   \n",
       "181   fabia     150000                 10    petrol       skoda      NaN   \n",
       "200  almera     150000                  9  gasoline      nissan      NaN   \n",
       "\n",
       "    DateCreated  NumberOfPictures  PostalCode            LastSeen  \\\n",
       "16   2016-04-01                 0       38871 2016-04-01 12:46:46   \n",
       "31   2016-03-29                 0       37075 2016-03-29 17:43:07   \n",
       "35   2016-03-08                 0       19386 2016-03-08 09:44:50   \n",
       "181  2016-03-21                 0       24782 2016-03-31 17:45:24   \n",
       "200  2016-04-03                 0       10997 2016-04-05 21:17:18   \n",
       "\n",
       "    RegistrationDate  RegistrationAfterLastSeen  \n",
       "16        2016-10-01                          1  \n",
       "31        2016-06-01                          1  \n",
       "35        2016-04-01                          1  \n",
       "181       2016-10-01                          1  \n",
       "200       2016-09-01                          1  "
      ]
     },
     "execution_count": 46,
     "metadata": {},
     "output_type": "execute_result"
    }
   ],
   "source": [
    "# посмотрим на эти записи\n",
    "df.query('RegistrationAfterLastSeen == 1').head()"
   ]
  },
  {
   "cell_type": "code",
   "execution_count": 47,
   "metadata": {},
   "outputs": [
    {
     "data": {
      "text/plain": [
       "0.01782980520508895"
      ]
     },
     "execution_count": 47,
     "metadata": {},
     "output_type": "execute_result"
    }
   ],
   "source": [
    "# посмотрим долю таких значений\n",
    "df.query('RegistrationAfterLastSeen == 1')['Price'].count() / df.shape[0] "
   ]
  },
  {
   "cell_type": "markdown",
   "metadata": {},
   "source": [
    "Эти объекты явно аномалии, их нужно удалить."
   ]
  },
  {
   "cell_type": "code",
   "execution_count": 48,
   "metadata": {},
   "outputs": [],
   "source": [
    "df = df.query('RegistrationAfterLastSeen == 0') "
   ]
  },
  {
   "cell_type": "code",
   "execution_count": 49,
   "metadata": {},
   "outputs": [],
   "source": [
    "# удаляем все колонки, которые не понадобятся для обучения модели\n",
    "df = df.drop(columns=['DateCrawled', 'DateCreated', 'PostalCode', 'LastSeen', 'NumberOfPictures', 'RegistrationDate', 'RegistrationAfterLastSeen'])"
   ]
  },
  {
   "cell_type": "code",
   "execution_count": 50,
   "metadata": {},
   "outputs": [
    {
     "data": {
      "text/html": [
       "<div>\n",
       "<style scoped>\n",
       "    .dataframe tbody tr th:only-of-type {\n",
       "        vertical-align: middle;\n",
       "    }\n",
       "\n",
       "    .dataframe tbody tr th {\n",
       "        vertical-align: top;\n",
       "    }\n",
       "\n",
       "    .dataframe thead th {\n",
       "        text-align: right;\n",
       "    }\n",
       "</style>\n",
       "<table border=\"1\" class=\"dataframe\">\n",
       "  <thead>\n",
       "    <tr style=\"text-align: right;\">\n",
       "      <th></th>\n",
       "      <th>Price</th>\n",
       "      <th>VehicleType</th>\n",
       "      <th>RegistrationYear</th>\n",
       "      <th>Gearbox</th>\n",
       "      <th>Power</th>\n",
       "      <th>Model</th>\n",
       "      <th>Kilometer</th>\n",
       "      <th>RegistrationMonth</th>\n",
       "      <th>FuelType</th>\n",
       "      <th>Brand</th>\n",
       "      <th>Repaired</th>\n",
       "    </tr>\n",
       "  </thead>\n",
       "  <tbody>\n",
       "    <tr>\n",
       "      <th>1</th>\n",
       "      <td>18300</td>\n",
       "      <td>coupe</td>\n",
       "      <td>2011</td>\n",
       "      <td>manual</td>\n",
       "      <td>190</td>\n",
       "      <td>NaN</td>\n",
       "      <td>125000</td>\n",
       "      <td>5</td>\n",
       "      <td>gasoline</td>\n",
       "      <td>audi</td>\n",
       "      <td>yes</td>\n",
       "    </tr>\n",
       "    <tr>\n",
       "      <th>2</th>\n",
       "      <td>9800</td>\n",
       "      <td>suv</td>\n",
       "      <td>2004</td>\n",
       "      <td>auto</td>\n",
       "      <td>163</td>\n",
       "      <td>grand</td>\n",
       "      <td>125000</td>\n",
       "      <td>8</td>\n",
       "      <td>gasoline</td>\n",
       "      <td>jeep</td>\n",
       "      <td>NaN</td>\n",
       "    </tr>\n",
       "    <tr>\n",
       "      <th>3</th>\n",
       "      <td>1500</td>\n",
       "      <td>small</td>\n",
       "      <td>2001</td>\n",
       "      <td>manual</td>\n",
       "      <td>75</td>\n",
       "      <td>golf</td>\n",
       "      <td>150000</td>\n",
       "      <td>6</td>\n",
       "      <td>petrol</td>\n",
       "      <td>volkswagen</td>\n",
       "      <td>no</td>\n",
       "    </tr>\n",
       "    <tr>\n",
       "      <th>4</th>\n",
       "      <td>3600</td>\n",
       "      <td>small</td>\n",
       "      <td>2008</td>\n",
       "      <td>manual</td>\n",
       "      <td>69</td>\n",
       "      <td>fabia</td>\n",
       "      <td>90000</td>\n",
       "      <td>7</td>\n",
       "      <td>gasoline</td>\n",
       "      <td>skoda</td>\n",
       "      <td>no</td>\n",
       "    </tr>\n",
       "    <tr>\n",
       "      <th>5</th>\n",
       "      <td>2700</td>\n",
       "      <td>sedan</td>\n",
       "      <td>1995</td>\n",
       "      <td>manual</td>\n",
       "      <td>102</td>\n",
       "      <td>3er</td>\n",
       "      <td>150000</td>\n",
       "      <td>10</td>\n",
       "      <td>petrol</td>\n",
       "      <td>bmw</td>\n",
       "      <td>yes</td>\n",
       "    </tr>\n",
       "  </tbody>\n",
       "</table>\n",
       "</div>"
      ],
      "text/plain": [
       "   Price VehicleType  RegistrationYear Gearbox  Power  Model  Kilometer  \\\n",
       "1  18300       coupe              2011  manual    190    NaN     125000   \n",
       "2   9800         suv              2004    auto    163  grand     125000   \n",
       "3   1500       small              2001  manual     75   golf     150000   \n",
       "4   3600       small              2008  manual     69  fabia      90000   \n",
       "5   2700       sedan              1995  manual    102    3er     150000   \n",
       "\n",
       "   RegistrationMonth  FuelType       Brand Repaired  \n",
       "1                  5  gasoline        audi      yes  \n",
       "2                  8  gasoline        jeep      NaN  \n",
       "3                  6    petrol  volkswagen       no  \n",
       "4                  7  gasoline       skoda       no  \n",
       "5                 10    petrol         bmw      yes  "
      ]
     },
     "execution_count": 50,
     "metadata": {},
     "output_type": "execute_result"
    }
   ],
   "source": [
    "df.head() "
   ]
  },
  {
   "cell_type": "markdown",
   "metadata": {},
   "source": [
    "### Обработка пропусков"
   ]
  },
  {
   "cell_type": "markdown",
   "metadata": {},
   "source": [
    "Изучим пропуски в колонках."
   ]
  },
  {
   "cell_type": "code",
   "execution_count": 51,
   "metadata": {},
   "outputs": [
    {
     "data": {
      "text/plain": [
       "Price                    0\n",
       "VehicleType           6654\n",
       "RegistrationYear         0\n",
       "Gearbox               5293\n",
       "Power                    0\n",
       "Model                11269\n",
       "Kilometer                0\n",
       "RegistrationMonth        0\n",
       "FuelType             14523\n",
       "Brand                    0\n",
       "Repaired             42967\n",
       "dtype: int64"
      ]
     },
     "execution_count": 51,
     "metadata": {},
     "output_type": "execute_result"
    }
   ],
   "source": [
    "df.isna().sum() "
   ]
  },
  {
   "cell_type": "markdown",
   "metadata": {},
   "source": [
    "Во всех колонках с пропусками, кроме Repaired, есть значение other - им и заменим пропуски. В колонке Repaired пропуск, скорей всего, означает наличие ремонта, т.к. обычно отсутствие ремонта наоборот подчёркивают."
   ]
  },
  {
   "cell_type": "code",
   "execution_count": 52,
   "metadata": {},
   "outputs": [],
   "source": [
    "# заменяем пропуски значениями \n",
    "for column in df.columns:\n",
    "    if df[column].isna().sum() > 0:\n",
    "        if column == 'Repaired':\n",
    "            df[column] = df[column].where(~df[column].isna(), other='yes')\n",
    "        else:\n",
    "            df[column] = df[column].where(~df[column].isna(), other='other')"
   ]
  },
  {
   "cell_type": "code",
   "execution_count": 53,
   "metadata": {},
   "outputs": [
    {
     "data": {
      "text/html": [
       "<div>\n",
       "<style scoped>\n",
       "    .dataframe tbody tr th:only-of-type {\n",
       "        vertical-align: middle;\n",
       "    }\n",
       "\n",
       "    .dataframe tbody tr th {\n",
       "        vertical-align: top;\n",
       "    }\n",
       "\n",
       "    .dataframe thead th {\n",
       "        text-align: right;\n",
       "    }\n",
       "</style>\n",
       "<table border=\"1\" class=\"dataframe\">\n",
       "  <thead>\n",
       "    <tr style=\"text-align: right;\">\n",
       "      <th></th>\n",
       "      <th>Price</th>\n",
       "      <th>VehicleType</th>\n",
       "      <th>RegistrationYear</th>\n",
       "      <th>Gearbox</th>\n",
       "      <th>Power</th>\n",
       "      <th>Model</th>\n",
       "      <th>Kilometer</th>\n",
       "      <th>RegistrationMonth</th>\n",
       "      <th>FuelType</th>\n",
       "      <th>Brand</th>\n",
       "      <th>Repaired</th>\n",
       "    </tr>\n",
       "  </thead>\n",
       "  <tbody>\n",
       "    <tr>\n",
       "      <th>1</th>\n",
       "      <td>18300</td>\n",
       "      <td>coupe</td>\n",
       "      <td>2011</td>\n",
       "      <td>manual</td>\n",
       "      <td>190</td>\n",
       "      <td>other</td>\n",
       "      <td>125000</td>\n",
       "      <td>5</td>\n",
       "      <td>gasoline</td>\n",
       "      <td>audi</td>\n",
       "      <td>yes</td>\n",
       "    </tr>\n",
       "    <tr>\n",
       "      <th>2</th>\n",
       "      <td>9800</td>\n",
       "      <td>suv</td>\n",
       "      <td>2004</td>\n",
       "      <td>auto</td>\n",
       "      <td>163</td>\n",
       "      <td>grand</td>\n",
       "      <td>125000</td>\n",
       "      <td>8</td>\n",
       "      <td>gasoline</td>\n",
       "      <td>jeep</td>\n",
       "      <td>yes</td>\n",
       "    </tr>\n",
       "    <tr>\n",
       "      <th>3</th>\n",
       "      <td>1500</td>\n",
       "      <td>small</td>\n",
       "      <td>2001</td>\n",
       "      <td>manual</td>\n",
       "      <td>75</td>\n",
       "      <td>golf</td>\n",
       "      <td>150000</td>\n",
       "      <td>6</td>\n",
       "      <td>petrol</td>\n",
       "      <td>volkswagen</td>\n",
       "      <td>no</td>\n",
       "    </tr>\n",
       "    <tr>\n",
       "      <th>4</th>\n",
       "      <td>3600</td>\n",
       "      <td>small</td>\n",
       "      <td>2008</td>\n",
       "      <td>manual</td>\n",
       "      <td>69</td>\n",
       "      <td>fabia</td>\n",
       "      <td>90000</td>\n",
       "      <td>7</td>\n",
       "      <td>gasoline</td>\n",
       "      <td>skoda</td>\n",
       "      <td>no</td>\n",
       "    </tr>\n",
       "    <tr>\n",
       "      <th>5</th>\n",
       "      <td>2700</td>\n",
       "      <td>sedan</td>\n",
       "      <td>1995</td>\n",
       "      <td>manual</td>\n",
       "      <td>102</td>\n",
       "      <td>3er</td>\n",
       "      <td>150000</td>\n",
       "      <td>10</td>\n",
       "      <td>petrol</td>\n",
       "      <td>bmw</td>\n",
       "      <td>yes</td>\n",
       "    </tr>\n",
       "  </tbody>\n",
       "</table>\n",
       "</div>"
      ],
      "text/plain": [
       "   Price VehicleType  RegistrationYear Gearbox  Power  Model  Kilometer  \\\n",
       "1  18300       coupe              2011  manual    190  other     125000   \n",
       "2   9800         suv              2004    auto    163  grand     125000   \n",
       "3   1500       small              2001  manual     75   golf     150000   \n",
       "4   3600       small              2008  manual     69  fabia      90000   \n",
       "5   2700       sedan              1995  manual    102    3er     150000   \n",
       "\n",
       "   RegistrationMonth  FuelType       Brand Repaired  \n",
       "1                  5  gasoline        audi      yes  \n",
       "2                  8  gasoline        jeep      yes  \n",
       "3                  6    petrol  volkswagen       no  \n",
       "4                  7  gasoline       skoda       no  \n",
       "5                 10    petrol         bmw      yes  "
      ]
     },
     "execution_count": 53,
     "metadata": {},
     "output_type": "execute_result"
    }
   ],
   "source": [
    "df.head()"
   ]
  },
  {
   "cell_type": "code",
   "execution_count": 54,
   "metadata": {},
   "outputs": [
    {
     "data": {
      "text/plain": [
       "(297684, 11)"
      ]
     },
     "execution_count": 54,
     "metadata": {},
     "output_type": "execute_result"
    }
   ],
   "source": [
    "df.shape"
   ]
  },
  {
   "cell_type": "code",
   "execution_count": 55,
   "metadata": {},
   "outputs": [
    {
     "data": {
      "text/plain": [
       "0.8400396197184291"
      ]
     },
     "execution_count": 55,
     "metadata": {},
     "output_type": "execute_result"
    }
   ],
   "source": [
    "297684/354369 "
   ]
  },
  {
   "cell_type": "markdown",
   "metadata": {},
   "source": [
    "После удаления выбросов осталось 84% данных."
   ]
  },
  {
   "cell_type": "markdown",
   "metadata": {},
   "source": [
    "## Обучение и анализ моделей"
   ]
  },
  {
   "cell_type": "code",
   "execution_count": 56,
   "metadata": {},
   "outputs": [],
   "source": [
    "features = df.drop('Price', axis=1)\n",
    "target = df['Price']"
   ]
  },
  {
   "cell_type": "code",
   "execution_count": 57,
   "metadata": {},
   "outputs": [],
   "source": [
    "features_train, features_test, target_train, target_test = train_test_split(features, target, train_size=.8, random_state=12345)"
   ]
  },
  {
   "cell_type": "code",
   "execution_count": 58,
   "metadata": {},
   "outputs": [],
   "source": [
    "# разделяем числовые и категориальные колонки\n",
    "integer_columns = features.select_dtypes(include=['int64']).columns.tolist() \n",
    "object_columns = features.select_dtypes(include=['object']).columns.tolist()  "
   ]
  },
  {
   "cell_type": "code",
   "execution_count": 59,
   "metadata": {},
   "outputs": [],
   "source": [
    "# пайплайн для категориальных признаков\n",
    "cat_pipe = Pipeline([('ohe', OneHotEncoder(sparse=False, handle_unknown='ignore'))])"
   ]
  },
  {
   "cell_type": "code",
   "execution_count": 60,
   "metadata": {},
   "outputs": [],
   "source": [
    "# пайплайн для числовых признаков\n",
    "num_pipe = Pipeline([('scaler', StandardScaler())]) "
   ]
  },
  {
   "cell_type": "code",
   "execution_count": 61,
   "metadata": {},
   "outputs": [],
   "source": [
    "# соединяем пайплайны вместе\n",
    "transformer = ColumnTransformer(\n",
    "                    transformers=[('cat', cat_pipe, object_columns),\n",
    "                                 ('num', num_pipe, integer_columns)],\n",
    "                                remainder='passthrough')"
   ]
  },
  {
   "cell_type": "markdown",
   "metadata": {},
   "source": [
    "### Линейная регрессия"
   ]
  },
  {
   "cell_type": "code",
   "execution_count": 62,
   "metadata": {},
   "outputs": [],
   "source": [
    "kf = KFold(n_splits=5, random_state=12345, shuffle=True)"
   ]
  },
  {
   "cell_type": "code",
   "execution_count": 63,
   "metadata": {},
   "outputs": [],
   "source": [
    "# базовая модель линейной регрессии\n",
    "lr = Pipeline([('transformer', transformer),\n",
    "              ('lr', LinearRegression())])"
   ]
  },
  {
   "cell_type": "code",
   "execution_count": 65,
   "metadata": {},
   "outputs": [],
   "source": [
    "# подбор гиперпараметров для линейной регрессии\n",
    "params_lr = {\n",
    "    'lr__fit_intercept': [True, False],\n",
    "    'lr__positive': [True, False]\n",
    "}\n",
    "\n",
    "grid_lr = GridSearchCV(lr, param_grid=params_lr, cv=kf, \n",
    "                        scoring='neg_root_mean_squared_error').fit(features_train, target_train) "
   ]
  },
  {
   "cell_type": "code",
   "execution_count": 66,
   "metadata": {},
   "outputs": [
    {
     "name": "stdout",
     "output_type": "stream",
     "text": [
      "Fit time: 30.805420476198197\n",
      "Predict time: 0.33927851915359497\n",
      "Best RMSE: -2953.095291277624\n"
     ]
    }
   ],
   "source": [
    "results = grid_lr.cv_results_\n",
    "best_index = grid_lr.best_index_\n",
    "\n",
    "fit_time = results['mean_fit_time'].mean()\n",
    "score_time = results['mean_score_time'].mean()\n",
    "RMSE = results['mean_test_score'].max()\n",
    "\n",
    "print(f\"Fit time: {fit_time}\\nPredict time: {score_time}\\nBest RMSE: {RMSE}\") "
   ]
  },
  {
   "cell_type": "code",
   "execution_count": 67,
   "metadata": {},
   "outputs": [
    {
     "data": {
      "text/plain": [
       "{'lr__copy_X': True,\n",
       " 'lr__fit_intercept': False,\n",
       " 'lr__n_jobs': None,\n",
       " 'lr__positive': True}"
      ]
     },
     "execution_count": 67,
     "metadata": {},
     "output_type": "execute_result"
    }
   ],
   "source": [
    "grid_lr.best_params_"
   ]
  },
  {
   "cell_type": "markdown",
   "metadata": {},
   "source": [
    "### Решающее дерево"
   ]
  },
  {
   "cell_type": "code",
   "execution_count": 68,
   "metadata": {},
   "outputs": [],
   "source": [
    "# кодируем категориальные признаки на трейне и тесте порядковым кодированием\n",
    "encoder = OrdinalEncoder(handle_unknown='use_encoded_value', unknown_value=np.nan) \n",
    "features_encoded = pd.DataFrame(encoder.fit_transform(features_train[object_columns]), columns=object_columns)\n",
    "features_train_ordinal = pd.concat([features_train[integer_columns].reset_index(drop=True), features_encoded.reset_index(drop=True)], axis=1)\n",
    "\n",
    "features_test_encoded = pd.DataFrame(encoder.transform(features_test[object_columns]), columns=object_columns)\n",
    "features_test_ordinal = pd.concat([features_test[integer_columns].reset_index(drop=True), features_test_encoded.reset_index(drop=True)], axis=1)"
   ]
  },
  {
   "cell_type": "code",
   "execution_count": 69,
   "metadata": {},
   "outputs": [],
   "source": [
    "# базовая модель решающего дерева\n",
    "dtr = DecisionTreeRegressor(random_state=12345)"
   ]
  },
  {
   "cell_type": "code",
   "execution_count": 76,
   "metadata": {},
   "outputs": [
    {
     "name": "stdout",
     "output_type": "stream",
     "text": [
      "CPU times: user 28.3 s, sys: 0 ns, total: 28.3 s\n",
      "Wall time: 28.3 s\n"
     ]
    }
   ],
   "source": [
    "%%time\n",
    "# подбор гиперпараметров для решающего дерева\n",
    "params_dtr = {\n",
    "    'max_depth': [18, 19, 20],\n",
    "    'min_samples_leaf': [7, 8, 9]\n",
    "}\n",
    "\n",
    "grid_dtr = GridSearchCV(dtr, param_grid=params_dtr, cv=kf, \n",
    "                        scoring='neg_root_mean_squared_error').fit(features_train_ordinal, target_train) "
   ]
  },
  {
   "cell_type": "code",
   "execution_count": 77,
   "metadata": {},
   "outputs": [
    {
     "name": "stdout",
     "output_type": "stream",
     "text": [
      "Fit time: 0.5998870001898872\n",
      "Predict time: 0.012495496537950302\n",
      "Best RMSE: -1795.1555599114406\n"
     ]
    }
   ],
   "source": [
    "results = grid_dtr.cv_results_\n",
    "best_index = grid_dtr.best_index_\n",
    "\n",
    "fit_time = results['mean_fit_time'].mean()\n",
    "score_time = results['mean_score_time'].mean()\n",
    "RMSE = results['mean_test_score'].max()\n",
    "\n",
    "print(f\"Fit time: {fit_time}\\nPredict time: {score_time}\\nBest RMSE: {RMSE}\") "
   ]
  },
  {
   "cell_type": "code",
   "execution_count": 78,
   "metadata": {},
   "outputs": [
    {
     "data": {
      "text/plain": [
       "{'max_depth': 19, 'min_samples_leaf': 8}"
      ]
     },
     "execution_count": 78,
     "metadata": {},
     "output_type": "execute_result"
    }
   ],
   "source": [
    "grid_dtr.best_params_"
   ]
  },
  {
   "cell_type": "markdown",
   "metadata": {},
   "source": [
    "### Случайный лес"
   ]
  },
  {
   "cell_type": "code",
   "execution_count": 79,
   "metadata": {},
   "outputs": [],
   "source": [
    "# базовая модель случайного леса\n",
    "rfr = RandomForestRegressor(random_state=12345,\n",
    "                           n_estimators=50)"
   ]
  },
  {
   "cell_type": "code",
   "execution_count": 84,
   "metadata": {},
   "outputs": [
    {
     "name": "stdout",
     "output_type": "stream",
     "text": [
      "CPU times: user 18min 25s, sys: 5.48 s, total: 18min 30s\n",
      "Wall time: 18min 31s\n"
     ]
    }
   ],
   "source": [
    "%%time\n",
    "# подбор гиперпараметров случайного леса\n",
    "params_rfr = {\n",
    "    'max_depth': [21, 22, 23],\n",
    "    'min_samples_split': [8, 9, 10]\n",
    "}\n",
    "\n",
    "grid_rfr = GridSearchCV(rfr, param_grid=params_rfr, cv=kf,\n",
    "                       scoring='neg_root_mean_squared_error').fit(features_train_ordinal, target_train)"
   ]
  },
  {
   "cell_type": "code",
   "execution_count": 85,
   "metadata": {},
   "outputs": [
    {
     "name": "stdout",
     "output_type": "stream",
     "text": [
      "Fit time: 23.413004133436417\n",
      "Predict time: 0.6024158848656548\n",
      "Best RMSE: -1596.00996653369\n"
     ]
    }
   ],
   "source": [
    "results = grid_rfr.cv_results_\n",
    "best_index = grid_rfr.best_index_\n",
    "\n",
    "fit_time = results['mean_fit_time'].mean()\n",
    "score_time = results['mean_score_time'].mean()\n",
    "RMSE = results['mean_test_score'].max()\n",
    "\n",
    "print(f\"Fit time: {fit_time}\\nPredict time: {score_time}\\nBest RMSE: {RMSE}\") "
   ]
  },
  {
   "cell_type": "code",
   "execution_count": 86,
   "metadata": {
    "scrolled": true
   },
   "outputs": [
    {
     "data": {
      "text/plain": [
       "{'max_depth': 22, 'min_samples_split': 8}"
      ]
     },
     "execution_count": 86,
     "metadata": {},
     "output_type": "execute_result"
    }
   ],
   "source": [
    "grid_rfr.best_params_"
   ]
  },
  {
   "cell_type": "code",
   "execution_count": 87,
   "metadata": {},
   "outputs": [],
   "source": [
    "rfr = grid_rfr.best_estimator_"
   ]
  },
  {
   "cell_type": "markdown",
   "metadata": {},
   "source": [
    "### Catboost"
   ]
  },
  {
   "cell_type": "code",
   "execution_count": 88,
   "metadata": {},
   "outputs": [],
   "source": [
    "# базовая модель catboost\n",
    "catb = CatBoostRegressor(random_state=12345, \n",
    "                         cat_features=object_columns, \n",
    "                         iterations=100,\n",
    "                         early_stopping_rounds=10,\n",
    "                         learning_rate=0.1)"
   ]
  },
  {
   "cell_type": "code",
   "execution_count": 91,
   "metadata": {},
   "outputs": [
    {
     "name": "stdout",
     "output_type": "stream",
     "text": [
      "CPU times: user 15min 39s, sys: 3min 35s, total: 19min 15s\n",
      "Wall time: 19min 24s\n"
     ]
    }
   ],
   "source": [
    "%%time\n",
    "params_catb = {\n",
    "    'depth': [14, 15, 16]\n",
    "}\n",
    "\n",
    "grid_catb = GridSearchCV(catb, param_grid=params_catb, cv=kf,\n",
    "                        scoring='neg_root_mean_squared_error').fit(features_train, target_train, verbose=False)"
   ]
  },
  {
   "cell_type": "code",
   "execution_count": 92,
   "metadata": {},
   "outputs": [
    {
     "name": "stdout",
     "output_type": "stream",
     "text": [
      "Fit time: 69.52185559272766\n",
      "Predict time: 0.09516167640686035\n",
      "Best RMSE: -1611.4627172946825\n"
     ]
    }
   ],
   "source": [
    "results = grid_catb.cv_results_\n",
    "best_index = grid_catb.best_index_\n",
    "\n",
    "fit_time = results['mean_fit_time'].mean()\n",
    "score_time = results['mean_score_time'].mean()\n",
    "RMSE = results['mean_test_score'].max()\n",
    "\n",
    "print(f\"Fit time: {fit_time}\\nPredict time: {score_time}\\nBest RMSE: {RMSE}\") "
   ]
  },
  {
   "cell_type": "code",
   "execution_count": 93,
   "metadata": {},
   "outputs": [
    {
     "data": {
      "text/plain": [
       "{'depth': 16}"
      ]
     },
     "execution_count": 93,
     "metadata": {},
     "output_type": "execute_result"
    }
   ],
   "source": [
    "grid_catb.best_params_"
   ]
  },
  {
   "cell_type": "markdown",
   "metadata": {},
   "source": [
    "### LightGBM"
   ]
  },
  {
   "cell_type": "code",
   "execution_count": 94,
   "metadata": {},
   "outputs": [],
   "source": [
    "lgbm = LGBMRegressor(random_state=12345, learning_rate=0.3)"
   ]
  },
  {
   "cell_type": "code",
   "execution_count": 95,
   "metadata": {},
   "outputs": [
    {
     "name": "stdout",
     "output_type": "stream",
     "text": [
      "CPU times: user 48min 15s, sys: 23.2 s, total: 48min 38s\n",
      "Wall time: 49min 4s\n"
     ]
    }
   ],
   "source": [
    "%%time\n",
    "params_lgbm = {\n",
    "    'max_depth': [15, 16]\n",
    "}\n",
    "\n",
    "grid_lgbm = GridSearchCV(lgbm, param_grid=params_lgbm, cv=kf,\n",
    "                        scoring='neg_root_mean_squared_error').fit(features_train_ordinal, target_train)"
   ]
  },
  {
   "cell_type": "code",
   "execution_count": 96,
   "metadata": {},
   "outputs": [
    {
     "name": "stdout",
     "output_type": "stream",
     "text": [
      "Fit time: 273.17097330093384\n",
      "Predict time: 0.39836556911468507\n",
      "Best RMSE: -1699.257419716342\n"
     ]
    }
   ],
   "source": [
    "results = grid_lgbm.cv_results_\n",
    "best_index = grid_lgbm.best_index_\n",
    "\n",
    "fit_time = results['mean_fit_time'].mean()\n",
    "score_time = results['mean_score_time'].mean()\n",
    "RMSE = results['mean_test_score'].max()\n",
    "\n",
    "print(f\"Fit time: {fit_time}\\nPredict time: {score_time}\\nBest RMSE: {RMSE}\") "
   ]
  },
  {
   "cell_type": "code",
   "execution_count": 97,
   "metadata": {},
   "outputs": [
    {
     "data": {
      "text/plain": [
       "{'max_depth': 15}"
      ]
     },
     "execution_count": 97,
     "metadata": {},
     "output_type": "execute_result"
    }
   ],
   "source": [
    "grid_lgbm.best_params_"
   ]
  },
  {
   "cell_type": "markdown",
   "metadata": {},
   "source": [
    "### Вывод"
   ]
  },
  {
   "cell_type": "markdown",
   "metadata": {},
   "source": [
    "**Линейная регрессия**:\n",
    "- Fit time: 30.805420476198197\n",
    "- Predict time: 0.33927851915359497\n",
    "- Best RMSE: -2953.095291277624\n",
    "\n",
    "**Решающее дерево**:\n",
    "- Fit time: 0.5998870001898872\n",
    "- Predict time: 0.012495496537950302\n",
    "- Best RMSE: -1795.1555599114406\n",
    "\n",
    "**Случайный лес**:\n",
    "- Fit time: 23.413004133436417\n",
    "- Predict time: 0.6024158848656548\n",
    "- Best RMSE: -1596.00996653369\n",
    "\n",
    "**Catboost**:\n",
    "- Fit time: 69.52185559272766\n",
    "- Predict time: 0.09516167640686035\n",
    "- Best RMSE: -1611.4627172946825\n",
    "\n",
    "**LightGBM**:\n",
    "- Fit time: 273.17097330093384\n",
    "- Predict time: 0.39836556911468507\n",
    "- Best RMSE: -1699.257419716342\n",
    "    \n",
    "Лучше всего работает модель случайного леса, её используем для получения предсказаний на тесте."
   ]
  },
  {
   "cell_type": "markdown",
   "metadata": {},
   "source": [
    "## Получение результата"
   ]
  },
  {
   "cell_type": "markdown",
   "metadata": {},
   "source": [
    "### Случайный лес на тесте"
   ]
  },
  {
   "cell_type": "code",
   "execution_count": 98,
   "metadata": {},
   "outputs": [],
   "source": [
    "rfr_pred = rfr.predict(features_test_ordinal)"
   ]
  },
  {
   "cell_type": "code",
   "execution_count": 99,
   "metadata": {},
   "outputs": [
    {
     "data": {
      "text/plain": [
       "1581.970021973225"
      ]
     },
     "execution_count": 99,
     "metadata": {},
     "output_type": "execute_result"
    }
   ],
   "source": [
    "np.sqrt(mean_squared_error(target_test, rfr_pred))"
   ]
  }
 ],
 "metadata": {
  "ExecuteTimeLog": [
   {
    "duration": 416,
    "start_time": "2022-12-30T10:14:57.930Z"
   },
   {
    "duration": 3256,
    "start_time": "2022-12-30T10:15:18.260Z"
   },
   {
    "duration": 24,
    "start_time": "2022-12-30T10:15:27.858Z"
   },
   {
    "duration": 142,
    "start_time": "2022-12-30T10:16:34.195Z"
   },
   {
    "duration": 601,
    "start_time": "2022-12-30T10:22:53.718Z"
   },
   {
    "duration": 509,
    "start_time": "2022-12-30T10:23:15.522Z"
   },
   {
    "duration": 8,
    "start_time": "2022-12-30T10:28:58.258Z"
   },
   {
    "duration": 39,
    "start_time": "2022-12-30T10:32:01.878Z"
   },
   {
    "duration": 116,
    "start_time": "2022-12-30T10:40:46.447Z"
   },
   {
    "duration": 45,
    "start_time": "2022-12-30T10:40:55.199Z"
   },
   {
    "duration": 29,
    "start_time": "2022-12-30T10:42:58.066Z"
   },
   {
    "duration": 210,
    "start_time": "2022-12-30T10:46:09.480Z"
   },
   {
    "duration": 203,
    "start_time": "2022-12-30T10:46:31.786Z"
   },
   {
    "duration": 29,
    "start_time": "2022-12-30T10:46:46.568Z"
   },
   {
    "duration": 101,
    "start_time": "2022-12-30T10:47:48.198Z"
   },
   {
    "duration": 33,
    "start_time": "2022-12-30T10:48:43.088Z"
   },
   {
    "duration": 32,
    "start_time": "2022-12-30T10:50:50.592Z"
   },
   {
    "duration": 125,
    "start_time": "2022-12-30T10:51:42.904Z"
   },
   {
    "duration": 30,
    "start_time": "2022-12-30T10:51:54.182Z"
   },
   {
    "duration": 32,
    "start_time": "2022-12-30T10:52:49.351Z"
   },
   {
    "duration": 28,
    "start_time": "2022-12-30T10:54:03.063Z"
   },
   {
    "duration": 20,
    "start_time": "2022-12-30T10:54:35.114Z"
   },
   {
    "duration": 27,
    "start_time": "2022-12-30T10:54:45.787Z"
   },
   {
    "duration": 205,
    "start_time": "2022-12-30T10:54:57.335Z"
   },
   {
    "duration": 228,
    "start_time": "2022-12-30T10:55:07.742Z"
   },
   {
    "duration": 281,
    "start_time": "2022-12-30T10:55:23.788Z"
   },
   {
    "duration": 259,
    "start_time": "2022-12-30T10:55:45.481Z"
   },
   {
    "duration": 213,
    "start_time": "2022-12-30T10:56:05.386Z"
   },
   {
    "duration": 569,
    "start_time": "2022-12-30T10:57:43.092Z"
   },
   {
    "duration": 166,
    "start_time": "2022-12-30T10:57:55.759Z"
   },
   {
    "duration": 132,
    "start_time": "2022-12-30T11:00:28.593Z"
   },
   {
    "duration": 126,
    "start_time": "2022-12-30T11:00:32.105Z"
   },
   {
    "duration": 7,
    "start_time": "2022-12-30T11:01:27.023Z"
   },
   {
    "duration": 318,
    "start_time": "2022-12-30T11:04:39.036Z"
   },
   {
    "duration": 51,
    "start_time": "2022-12-30T11:06:42.516Z"
   },
   {
    "duration": 2,
    "start_time": "2022-12-30T11:07:29.228Z"
   },
   {
    "duration": 766,
    "start_time": "2022-12-30T11:07:29.233Z"
   },
   {
    "duration": 20,
    "start_time": "2022-12-30T11:07:30.001Z"
   },
   {
    "duration": 145,
    "start_time": "2022-12-30T11:07:30.024Z"
   },
   {
    "duration": 441,
    "start_time": "2022-12-30T11:07:30.170Z"
   },
   {
    "duration": 464,
    "start_time": "2022-12-30T11:07:30.613Z"
   },
   {
    "duration": 8,
    "start_time": "2022-12-30T11:07:31.079Z"
   },
   {
    "duration": 46,
    "start_time": "2022-12-30T11:07:31.088Z"
   },
   {
    "duration": 230,
    "start_time": "2022-12-30T11:07:31.137Z"
   },
   {
    "duration": 742,
    "start_time": "2022-12-30T11:12:20.733Z"
   },
   {
    "duration": 122,
    "start_time": "2022-12-30T11:13:11.429Z"
   },
   {
    "duration": 5,
    "start_time": "2022-12-30T11:13:22.280Z"
   },
   {
    "duration": 282,
    "start_time": "2022-12-30T11:13:33.791Z"
   },
   {
    "duration": 13,
    "start_time": "2022-12-30T11:14:28.218Z"
   },
   {
    "duration": 141,
    "start_time": "2022-12-30T11:14:43.804Z"
   },
   {
    "duration": 13,
    "start_time": "2022-12-30T11:14:45.117Z"
   },
   {
    "duration": 3,
    "start_time": "2022-12-30T11:14:50.941Z"
   },
   {
    "duration": 752,
    "start_time": "2022-12-30T11:14:50.946Z"
   },
   {
    "duration": 13,
    "start_time": "2022-12-30T11:14:51.700Z"
   },
   {
    "duration": 117,
    "start_time": "2022-12-30T11:14:51.722Z"
   },
   {
    "duration": 416,
    "start_time": "2022-12-30T11:14:51.842Z"
   },
   {
    "duration": 432,
    "start_time": "2022-12-30T11:14:52.259Z"
   },
   {
    "duration": 8,
    "start_time": "2022-12-30T11:14:52.693Z"
   },
   {
    "duration": 42,
    "start_time": "2022-12-30T11:14:52.703Z"
   },
   {
    "duration": 201,
    "start_time": "2022-12-30T11:14:52.747Z"
   },
   {
    "duration": 768,
    "start_time": "2022-12-30T11:15:04.804Z"
   },
   {
    "duration": 13,
    "start_time": "2022-12-30T11:15:06.406Z"
   },
   {
    "duration": 3,
    "start_time": "2022-12-30T11:16:35.588Z"
   },
   {
    "duration": 755,
    "start_time": "2022-12-30T11:16:35.593Z"
   },
   {
    "duration": 14,
    "start_time": "2022-12-30T11:16:36.350Z"
   },
   {
    "duration": 120,
    "start_time": "2022-12-30T11:16:36.365Z"
   },
   {
    "duration": 426,
    "start_time": "2022-12-30T11:16:36.487Z"
   },
   {
    "duration": 448,
    "start_time": "2022-12-30T11:16:36.923Z"
   },
   {
    "duration": 7,
    "start_time": "2022-12-30T11:16:37.373Z"
   },
   {
    "duration": 25,
    "start_time": "2022-12-30T11:16:37.382Z"
   },
   {
    "duration": 204,
    "start_time": "2022-12-30T11:16:37.423Z"
   },
   {
    "duration": 8,
    "start_time": "2022-12-30T11:17:07.206Z"
   },
   {
    "duration": 5,
    "start_time": "2022-12-30T11:17:14.017Z"
   },
   {
    "duration": 3,
    "start_time": "2022-12-30T11:17:53.501Z"
   },
   {
    "duration": 780,
    "start_time": "2022-12-30T11:17:53.506Z"
   },
   {
    "duration": 16,
    "start_time": "2022-12-30T11:17:54.289Z"
   },
   {
    "duration": 120,
    "start_time": "2022-12-30T11:17:54.307Z"
   },
   {
    "duration": 384,
    "start_time": "2022-12-30T11:17:54.429Z"
   },
   {
    "duration": 437,
    "start_time": "2022-12-30T11:17:54.814Z"
   },
   {
    "duration": 7,
    "start_time": "2022-12-30T11:17:55.253Z"
   },
   {
    "duration": 25,
    "start_time": "2022-12-30T11:17:55.261Z"
   },
   {
    "duration": 216,
    "start_time": "2022-12-30T11:17:55.288Z"
   },
   {
    "duration": 4,
    "start_time": "2022-12-30T11:17:55.506Z"
   },
   {
    "duration": 773,
    "start_time": "2022-12-30T11:17:58.344Z"
   },
   {
    "duration": 13,
    "start_time": "2022-12-30T11:17:59.700Z"
   },
   {
    "duration": 2,
    "start_time": "2022-12-30T11:18:32.346Z"
   },
   {
    "duration": 724,
    "start_time": "2022-12-30T11:18:32.350Z"
   },
   {
    "duration": 13,
    "start_time": "2022-12-30T11:18:33.076Z"
   },
   {
    "duration": 127,
    "start_time": "2022-12-30T11:18:33.091Z"
   },
   {
    "duration": 394,
    "start_time": "2022-12-30T11:18:33.222Z"
   },
   {
    "duration": 433,
    "start_time": "2022-12-30T11:18:33.618Z"
   },
   {
    "duration": 11,
    "start_time": "2022-12-30T11:18:34.053Z"
   },
   {
    "duration": 46,
    "start_time": "2022-12-30T11:18:34.066Z"
   },
   {
    "duration": 254,
    "start_time": "2022-12-30T11:18:34.115Z"
   },
   {
    "duration": 5,
    "start_time": "2022-12-30T11:18:34.371Z"
   },
   {
    "duration": 2019,
    "start_time": "2022-12-30T11:18:41.393Z"
   },
   {
    "duration": 11,
    "start_time": "2022-12-30T11:18:43.414Z"
   },
   {
    "duration": 87,
    "start_time": "2022-12-30T11:18:52.956Z"
   },
   {
    "duration": 5,
    "start_time": "2022-12-30T11:18:55.360Z"
   },
   {
    "duration": 406,
    "start_time": "2022-12-31T06:19:53.104Z"
   },
   {
    "duration": 973,
    "start_time": "2022-12-31T06:19:53.511Z"
   },
   {
    "duration": 18,
    "start_time": "2022-12-31T06:19:54.485Z"
   },
   {
    "duration": 126,
    "start_time": "2022-12-31T06:19:54.504Z"
   },
   {
    "duration": 413,
    "start_time": "2022-12-31T06:19:54.632Z"
   },
   {
    "duration": 532,
    "start_time": "2022-12-31T06:19:55.047Z"
   },
   {
    "duration": 7,
    "start_time": "2022-12-31T06:19:55.581Z"
   },
   {
    "duration": 41,
    "start_time": "2022-12-31T06:19:55.590Z"
   },
   {
    "duration": 226,
    "start_time": "2022-12-31T06:19:55.633Z"
   },
   {
    "duration": 5,
    "start_time": "2022-12-31T06:19:55.860Z"
   },
   {
    "duration": 1758,
    "start_time": "2022-12-31T06:19:55.866Z"
   },
   {
    "duration": 10,
    "start_time": "2022-12-31T06:19:57.626Z"
   },
   {
    "duration": 92,
    "start_time": "2022-12-31T06:19:57.637Z"
   },
   {
    "duration": 31,
    "start_time": "2022-12-31T06:20:06.229Z"
   },
   {
    "duration": 5,
    "start_time": "2022-12-31T06:20:15.288Z"
   },
   {
    "duration": 5,
    "start_time": "2022-12-31T06:20:28.759Z"
   },
   {
    "duration": 3,
    "start_time": "2022-12-31T06:34:11.418Z"
   },
   {
    "duration": 4,
    "start_time": "2022-12-31T06:34:36.943Z"
   },
   {
    "duration": 859,
    "start_time": "2022-12-31T06:34:51.128Z"
   },
   {
    "duration": 512,
    "start_time": "2022-12-31T06:35:14.535Z"
   },
   {
    "duration": 4,
    "start_time": "2022-12-31T06:35:55.755Z"
   },
   {
    "duration": 2,
    "start_time": "2022-12-31T06:36:41.611Z"
   },
   {
    "duration": 615,
    "start_time": "2022-12-31T06:36:49.502Z"
   },
   {
    "duration": 4,
    "start_time": "2022-12-31T06:37:01.416Z"
   },
   {
    "duration": 530,
    "start_time": "2022-12-31T06:37:02.108Z"
   },
   {
    "duration": 0,
    "start_time": "2022-12-31T06:43:38.478Z"
   },
   {
    "duration": 1111,
    "start_time": "2022-12-31T06:44:19.921Z"
   },
   {
    "duration": 762,
    "start_time": "2022-12-31T06:44:21.034Z"
   },
   {
    "duration": 14,
    "start_time": "2022-12-31T06:44:21.798Z"
   },
   {
    "duration": 129,
    "start_time": "2022-12-31T06:44:21.814Z"
   },
   {
    "duration": 441,
    "start_time": "2022-12-31T06:44:21.945Z"
   },
   {
    "duration": 494,
    "start_time": "2022-12-31T06:44:22.388Z"
   },
   {
    "duration": 6,
    "start_time": "2022-12-31T06:44:22.884Z"
   },
   {
    "duration": 50,
    "start_time": "2022-12-31T06:44:22.892Z"
   },
   {
    "duration": 215,
    "start_time": "2022-12-31T06:44:22.944Z"
   },
   {
    "duration": 3,
    "start_time": "2022-12-31T06:44:23.162Z"
   },
   {
    "duration": 1815,
    "start_time": "2022-12-31T06:44:23.167Z"
   },
   {
    "duration": 12,
    "start_time": "2022-12-31T06:44:24.983Z"
   },
   {
    "duration": 90,
    "start_time": "2022-12-31T06:44:24.996Z"
   },
   {
    "duration": 38,
    "start_time": "2022-12-31T06:44:25.087Z"
   },
   {
    "duration": 4,
    "start_time": "2022-12-31T06:44:25.127Z"
   },
   {
    "duration": 88156,
    "start_time": "2022-12-31T06:44:30.895Z"
   },
   {
    "duration": 45211,
    "start_time": "2022-12-31T06:46:19.931Z"
   },
   {
    "duration": 33,
    "start_time": "2022-12-31T06:47:34.839Z"
   },
   {
    "duration": 3,
    "start_time": "2022-12-31T06:49:02.170Z"
   },
   {
    "duration": 778,
    "start_time": "2022-12-31T06:49:02.175Z"
   },
   {
    "duration": 13,
    "start_time": "2022-12-31T06:49:02.955Z"
   },
   {
    "duration": 143,
    "start_time": "2022-12-31T06:49:02.971Z"
   },
   {
    "duration": 387,
    "start_time": "2022-12-31T06:49:03.121Z"
   },
   {
    "duration": 402,
    "start_time": "2022-12-31T06:49:03.510Z"
   },
   {
    "duration": 12,
    "start_time": "2022-12-31T06:49:03.914Z"
   },
   {
    "duration": 28,
    "start_time": "2022-12-31T06:49:03.927Z"
   },
   {
    "duration": 231,
    "start_time": "2022-12-31T06:49:03.957Z"
   },
   {
    "duration": 5,
    "start_time": "2022-12-31T06:49:04.189Z"
   },
   {
    "duration": 11,
    "start_time": "2022-12-31T06:49:12.868Z"
   },
   {
    "duration": 1587,
    "start_time": "2022-12-31T06:52:03.608Z"
   },
   {
    "duration": 11,
    "start_time": "2022-12-31T06:52:06.557Z"
   },
   {
    "duration": 99,
    "start_time": "2022-12-31T06:57:12.737Z"
   },
   {
    "duration": 11,
    "start_time": "2022-12-31T06:57:14.665Z"
   },
   {
    "duration": 3,
    "start_time": "2022-12-31T06:57:19.515Z"
   },
   {
    "duration": 664,
    "start_time": "2022-12-31T06:57:19.523Z"
   },
   {
    "duration": 12,
    "start_time": "2022-12-31T06:57:20.189Z"
   },
   {
    "duration": 134,
    "start_time": "2022-12-31T06:57:20.202Z"
   },
   {
    "duration": 364,
    "start_time": "2022-12-31T06:57:20.337Z"
   },
   {
    "duration": 378,
    "start_time": "2022-12-31T06:57:20.703Z"
   },
   {
    "duration": 6,
    "start_time": "2022-12-31T06:57:21.083Z"
   },
   {
    "duration": 39,
    "start_time": "2022-12-31T06:57:21.091Z"
   },
   {
    "duration": 221,
    "start_time": "2022-12-31T06:57:21.131Z"
   },
   {
    "duration": 4,
    "start_time": "2022-12-31T06:57:21.353Z"
   },
   {
    "duration": 30,
    "start_time": "2022-12-31T06:57:21.358Z"
   },
   {
    "duration": 183,
    "start_time": "2022-12-31T06:57:21.390Z"
   },
   {
    "duration": 10,
    "start_time": "2022-12-31T06:57:34.219Z"
   },
   {
    "duration": 77,
    "start_time": "2022-12-31T06:58:09.225Z"
   },
   {
    "duration": 19,
    "start_time": "2022-12-31T06:58:12.919Z"
   },
   {
    "duration": 4,
    "start_time": "2022-12-31T06:58:13.777Z"
   },
   {
    "duration": 79950,
    "start_time": "2022-12-31T06:58:21.652Z"
   },
   {
    "duration": 4,
    "start_time": "2022-12-31T07:02:44.542Z"
   },
   {
    "duration": 83007,
    "start_time": "2022-12-31T07:02:45.201Z"
   },
   {
    "duration": 22,
    "start_time": "2022-12-31T07:19:42.313Z"
   },
   {
    "duration": 27,
    "start_time": "2022-12-31T07:21:05.911Z"
   },
   {
    "duration": 343,
    "start_time": "2022-12-31T07:25:51.227Z"
   },
   {
    "duration": 9,
    "start_time": "2022-12-31T07:26:59.032Z"
   },
   {
    "duration": 8,
    "start_time": "2022-12-31T07:29:05.092Z"
   },
   {
    "duration": 34,
    "start_time": "2022-12-31T07:35:06.967Z"
   },
   {
    "duration": 317,
    "start_time": "2022-12-31T07:35:07.980Z"
   },
   {
    "duration": 4,
    "start_time": "2022-12-31T07:38:45.606Z"
   },
   {
    "duration": 77679,
    "start_time": "2022-12-31T07:38:46.298Z"
   },
   {
    "duration": 3,
    "start_time": "2022-12-31T07:42:17.088Z"
   },
   {
    "duration": 25,
    "start_time": "2022-12-31T07:49:45.733Z"
   },
   {
    "duration": 22,
    "start_time": "2022-12-31T07:50:04.434Z"
   },
   {
    "duration": 10,
    "start_time": "2022-12-31T07:52:16.896Z"
   },
   {
    "duration": 9,
    "start_time": "2022-12-31T07:52:38.295Z"
   },
   {
    "duration": 9,
    "start_time": "2022-12-31T07:52:46.610Z"
   },
   {
    "duration": 12,
    "start_time": "2022-12-31T07:54:59.093Z"
   },
   {
    "duration": 29,
    "start_time": "2022-12-31T07:55:21.259Z"
   },
   {
    "duration": 27,
    "start_time": "2022-12-31T07:55:25.583Z"
   },
   {
    "duration": 28,
    "start_time": "2022-12-31T07:55:32.098Z"
   },
   {
    "duration": 276,
    "start_time": "2022-12-31T07:55:33.879Z"
   },
   {
    "duration": 9,
    "start_time": "2022-12-31T07:58:59.792Z"
   },
   {
    "duration": 8,
    "start_time": "2022-12-31T07:59:15.745Z"
   },
   {
    "duration": 8,
    "start_time": "2022-12-31T07:59:21.977Z"
   },
   {
    "duration": 8,
    "start_time": "2022-12-31T07:59:25.960Z"
   },
   {
    "duration": 15,
    "start_time": "2022-12-31T08:00:03.635Z"
   },
   {
    "duration": 18,
    "start_time": "2022-12-31T08:00:28.716Z"
   },
   {
    "duration": 16,
    "start_time": "2022-12-31T08:00:44.984Z"
   },
   {
    "duration": 7,
    "start_time": "2022-12-31T08:01:26.380Z"
   },
   {
    "duration": 28,
    "start_time": "2022-12-31T08:02:46.997Z"
   },
   {
    "duration": 643,
    "start_time": "2022-12-31T08:03:08.865Z"
   },
   {
    "duration": 23,
    "start_time": "2022-12-31T08:08:53.395Z"
   },
   {
    "duration": 23,
    "start_time": "2022-12-31T08:09:10.445Z"
   },
   {
    "duration": 7,
    "start_time": "2022-12-31T08:10:39.918Z"
   },
   {
    "duration": 6,
    "start_time": "2022-12-31T08:12:05.835Z"
   },
   {
    "duration": 23,
    "start_time": "2022-12-31T08:13:21.111Z"
   },
   {
    "duration": 9,
    "start_time": "2022-12-31T08:19:35.185Z"
   },
   {
    "duration": 52,
    "start_time": "2022-12-31T08:20:46.203Z"
   },
   {
    "duration": 6,
    "start_time": "2022-12-31T08:22:44.595Z"
   },
   {
    "duration": 7,
    "start_time": "2022-12-31T08:22:55.899Z"
   },
   {
    "duration": 172,
    "start_time": "2022-12-31T08:24:38.325Z"
   },
   {
    "duration": 24,
    "start_time": "2022-12-31T08:26:05.423Z"
   },
   {
    "duration": 192,
    "start_time": "2022-12-31T08:26:06.208Z"
   },
   {
    "duration": 10,
    "start_time": "2022-12-31T08:28:15.004Z"
   },
   {
    "duration": 3,
    "start_time": "2022-12-31T08:28:43.291Z"
   },
   {
    "duration": 4,
    "start_time": "2022-12-31T08:29:27.567Z"
   },
   {
    "duration": 15,
    "start_time": "2022-12-31T08:44:52.269Z"
   },
   {
    "duration": 212,
    "start_time": "2022-12-31T08:48:40.855Z"
   },
   {
    "duration": 67,
    "start_time": "2022-12-31T08:49:21.519Z"
   },
   {
    "duration": 37,
    "start_time": "2022-12-31T08:50:41.433Z"
   },
   {
    "duration": 5,
    "start_time": "2022-12-31T08:51:49.073Z"
   },
   {
    "duration": 5,
    "start_time": "2022-12-31T09:03:38.909Z"
   },
   {
    "duration": 19,
    "start_time": "2022-12-31T09:03:46.093Z"
   },
   {
    "duration": 3,
    "start_time": "2022-12-31T09:04:17.197Z"
   },
   {
    "duration": 5,
    "start_time": "2022-12-31T09:05:35.201Z"
   },
   {
    "duration": 3,
    "start_time": "2022-12-31T09:05:43.822Z"
   },
   {
    "duration": 4,
    "start_time": "2022-12-31T09:08:33.086Z"
   },
   {
    "duration": 2,
    "start_time": "2022-12-31T09:08:38.773Z"
   },
   {
    "duration": 1508,
    "start_time": "2022-12-31T14:37:15.497Z"
   },
   {
    "duration": 99,
    "start_time": "2022-12-31T14:44:26.741Z"
   },
   {
    "duration": 3,
    "start_time": "2022-12-31T14:44:39.974Z"
   },
   {
    "duration": 992,
    "start_time": "2022-12-31T14:44:39.979Z"
   },
   {
    "duration": 15,
    "start_time": "2022-12-31T14:44:40.973Z"
   },
   {
    "duration": 132,
    "start_time": "2022-12-31T14:44:40.989Z"
   },
   {
    "duration": 452,
    "start_time": "2022-12-31T14:44:41.123Z"
   },
   {
    "duration": 476,
    "start_time": "2022-12-31T14:44:41.577Z"
   },
   {
    "duration": 6,
    "start_time": "2022-12-31T14:44:42.055Z"
   },
   {
    "duration": 37,
    "start_time": "2022-12-31T14:44:42.063Z"
   },
   {
    "duration": 230,
    "start_time": "2022-12-31T14:44:42.102Z"
   },
   {
    "duration": 4,
    "start_time": "2022-12-31T14:44:42.334Z"
   },
   {
    "duration": 14,
    "start_time": "2022-12-31T14:44:42.339Z"
   },
   {
    "duration": 175,
    "start_time": "2022-12-31T14:44:42.355Z"
   },
   {
    "duration": 11,
    "start_time": "2022-12-31T14:44:42.533Z"
   },
   {
    "duration": 103,
    "start_time": "2022-12-31T14:44:42.545Z"
   },
   {
    "duration": 39,
    "start_time": "2022-12-31T14:44:42.649Z"
   },
   {
    "duration": 4,
    "start_time": "2022-12-31T14:44:42.689Z"
   },
   {
    "duration": 73293,
    "start_time": "2022-12-31T14:44:42.695Z"
   },
   {
    "duration": 33,
    "start_time": "2022-12-31T14:45:55.990Z"
   },
   {
    "duration": 22,
    "start_time": "2022-12-31T14:45:56.025Z"
   },
   {
    "duration": 11,
    "start_time": "2022-12-31T14:45:56.049Z"
   },
   {
    "duration": 25,
    "start_time": "2022-12-31T14:45:56.061Z"
   },
   {
    "duration": 309,
    "start_time": "2022-12-31T14:45:56.088Z"
   },
   {
    "duration": 6,
    "start_time": "2022-12-31T14:45:56.399Z"
   },
   {
    "duration": 25,
    "start_time": "2022-12-31T14:45:56.406Z"
   },
   {
    "duration": 22,
    "start_time": "2022-12-31T14:45:56.432Z"
   },
   {
    "duration": 636,
    "start_time": "2022-12-31T14:45:56.455Z"
   },
   {
    "duration": 29,
    "start_time": "2022-12-31T14:45:57.093Z"
   },
   {
    "duration": 7,
    "start_time": "2022-12-31T14:45:57.123Z"
   },
   {
    "duration": 21,
    "start_time": "2022-12-31T14:45:57.132Z"
   },
   {
    "duration": 20,
    "start_time": "2022-12-31T14:45:57.155Z"
   },
   {
    "duration": 180,
    "start_time": "2022-12-31T14:45:57.177Z"
   },
   {
    "duration": 3,
    "start_time": "2022-12-31T14:45:57.359Z"
   },
   {
    "duration": 13,
    "start_time": "2022-12-31T14:45:57.364Z"
   },
   {
    "duration": 19,
    "start_time": "2022-12-31T14:45:57.379Z"
   },
   {
    "duration": 67,
    "start_time": "2022-12-31T14:45:57.400Z"
   },
   {
    "duration": 24,
    "start_time": "2022-12-31T14:45:57.469Z"
   },
   {
    "duration": 4,
    "start_time": "2022-12-31T14:45:57.496Z"
   },
   {
    "duration": 20,
    "start_time": "2022-12-31T14:45:57.501Z"
   },
   {
    "duration": 3,
    "start_time": "2022-12-31T14:45:57.522Z"
   },
   {
    "duration": 16,
    "start_time": "2022-12-31T14:45:57.527Z"
   },
   {
    "duration": 12,
    "start_time": "2022-12-31T14:46:30.312Z"
   },
   {
    "duration": 14,
    "start_time": "2022-12-31T14:46:41.399Z"
   },
   {
    "duration": 3,
    "start_time": "2022-12-31T14:47:13.977Z"
   },
   {
    "duration": 3,
    "start_time": "2022-12-31T14:51:28.484Z"
   },
   {
    "duration": 16,
    "start_time": "2022-12-31T14:52:21.534Z"
   },
   {
    "duration": 740,
    "start_time": "2022-12-31T14:53:27.468Z"
   },
   {
    "duration": 3,
    "start_time": "2022-12-31T14:53:44.240Z"
   },
   {
    "duration": 764,
    "start_time": "2022-12-31T14:53:44.245Z"
   },
   {
    "duration": 16,
    "start_time": "2022-12-31T14:53:45.010Z"
   },
   {
    "duration": 153,
    "start_time": "2022-12-31T14:53:45.028Z"
   },
   {
    "duration": 425,
    "start_time": "2022-12-31T14:53:45.278Z"
   },
   {
    "duration": 421,
    "start_time": "2022-12-31T14:53:45.705Z"
   },
   {
    "duration": 7,
    "start_time": "2022-12-31T14:53:46.128Z"
   },
   {
    "duration": 39,
    "start_time": "2022-12-31T14:53:46.137Z"
   },
   {
    "duration": 225,
    "start_time": "2022-12-31T14:53:46.178Z"
   },
   {
    "duration": 5,
    "start_time": "2022-12-31T14:53:46.404Z"
   },
   {
    "duration": 17,
    "start_time": "2022-12-31T14:53:46.410Z"
   },
   {
    "duration": 185,
    "start_time": "2022-12-31T14:53:46.429Z"
   },
   {
    "duration": 13,
    "start_time": "2022-12-31T14:53:46.615Z"
   },
   {
    "duration": 84,
    "start_time": "2022-12-31T14:53:46.630Z"
   },
   {
    "duration": 21,
    "start_time": "2022-12-31T14:53:46.716Z"
   },
   {
    "duration": 5,
    "start_time": "2022-12-31T14:53:46.739Z"
   },
   {
    "duration": 77036,
    "start_time": "2022-12-31T14:53:46.745Z"
   },
   {
    "duration": 21,
    "start_time": "2022-12-31T14:55:03.782Z"
   },
   {
    "duration": 31,
    "start_time": "2022-12-31T14:55:03.805Z"
   },
   {
    "duration": 11,
    "start_time": "2022-12-31T14:55:03.838Z"
   },
   {
    "duration": 28,
    "start_time": "2022-12-31T14:55:03.850Z"
   },
   {
    "duration": 323,
    "start_time": "2022-12-31T14:55:03.879Z"
   },
   {
    "duration": 7,
    "start_time": "2022-12-31T14:55:04.203Z"
   },
   {
    "duration": 21,
    "start_time": "2022-12-31T14:55:04.222Z"
   },
   {
    "duration": 25,
    "start_time": "2022-12-31T14:55:04.244Z"
   },
   {
    "duration": 682,
    "start_time": "2022-12-31T14:55:04.271Z"
   },
   {
    "duration": 23,
    "start_time": "2022-12-31T14:55:04.955Z"
   },
   {
    "duration": 7,
    "start_time": "2022-12-31T14:55:04.979Z"
   },
   {
    "duration": 40,
    "start_time": "2022-12-31T14:55:04.987Z"
   },
   {
    "duration": 23,
    "start_time": "2022-12-31T14:55:05.030Z"
   },
   {
    "duration": 196,
    "start_time": "2022-12-31T14:55:05.054Z"
   },
   {
    "duration": 4,
    "start_time": "2022-12-31T14:55:05.251Z"
   },
   {
    "duration": 21,
    "start_time": "2022-12-31T14:55:05.257Z"
   },
   {
    "duration": 25,
    "start_time": "2022-12-31T14:55:05.280Z"
   },
   {
    "duration": 68,
    "start_time": "2022-12-31T14:55:05.306Z"
   },
   {
    "duration": 25,
    "start_time": "2022-12-31T14:55:05.376Z"
   },
   {
    "duration": 23,
    "start_time": "2022-12-31T14:55:05.403Z"
   },
   {
    "duration": 21,
    "start_time": "2022-12-31T14:55:05.428Z"
   },
   {
    "duration": 5,
    "start_time": "2022-12-31T14:55:05.450Z"
   },
   {
    "duration": 9,
    "start_time": "2022-12-31T14:55:05.457Z"
   },
   {
    "duration": 4,
    "start_time": "2022-12-31T14:55:05.470Z"
   },
   {
    "duration": 726,
    "start_time": "2022-12-31T14:56:10.629Z"
   },
   {
    "duration": 17,
    "start_time": "2022-12-31T14:56:29.995Z"
   },
   {
    "duration": 5,
    "start_time": "2022-12-31T14:56:44.844Z"
   },
   {
    "duration": 4,
    "start_time": "2022-12-31T15:02:10.934Z"
   },
   {
    "duration": 4,
    "start_time": "2022-12-31T15:02:31.031Z"
   },
   {
    "duration": 3,
    "start_time": "2022-12-31T15:02:43.592Z"
   },
   {
    "duration": 690,
    "start_time": "2022-12-31T15:02:43.597Z"
   },
   {
    "duration": 12,
    "start_time": "2022-12-31T15:02:44.289Z"
   },
   {
    "duration": 133,
    "start_time": "2022-12-31T15:02:44.303Z"
   },
   {
    "duration": 394,
    "start_time": "2022-12-31T15:02:44.438Z"
   },
   {
    "duration": 425,
    "start_time": "2022-12-31T15:02:44.833Z"
   },
   {
    "duration": 10,
    "start_time": "2022-12-31T15:02:45.260Z"
   },
   {
    "duration": 49,
    "start_time": "2022-12-31T15:02:45.272Z"
   },
   {
    "duration": 238,
    "start_time": "2022-12-31T15:02:45.324Z"
   },
   {
    "duration": 4,
    "start_time": "2022-12-31T15:02:45.563Z"
   },
   {
    "duration": 13,
    "start_time": "2022-12-31T15:02:45.568Z"
   },
   {
    "duration": 174,
    "start_time": "2022-12-31T15:02:45.582Z"
   },
   {
    "duration": 10,
    "start_time": "2022-12-31T15:02:45.758Z"
   },
   {
    "duration": 89,
    "start_time": "2022-12-31T15:02:45.769Z"
   },
   {
    "duration": 25,
    "start_time": "2022-12-31T15:02:45.859Z"
   },
   {
    "duration": 5,
    "start_time": "2022-12-31T15:02:45.885Z"
   },
   {
    "duration": 72605,
    "start_time": "2022-12-31T15:02:45.892Z"
   },
   {
    "duration": 28,
    "start_time": "2022-12-31T15:03:58.499Z"
   },
   {
    "duration": 21,
    "start_time": "2022-12-31T15:03:58.528Z"
   },
   {
    "duration": 11,
    "start_time": "2022-12-31T15:03:58.551Z"
   },
   {
    "duration": 30,
    "start_time": "2022-12-31T15:03:58.564Z"
   },
   {
    "duration": 308,
    "start_time": "2022-12-31T15:03:58.596Z"
   },
   {
    "duration": 16,
    "start_time": "2022-12-31T15:03:58.905Z"
   },
   {
    "duration": 14,
    "start_time": "2022-12-31T15:03:58.924Z"
   },
   {
    "duration": 22,
    "start_time": "2022-12-31T15:03:58.940Z"
   },
   {
    "duration": 672,
    "start_time": "2022-12-31T15:03:58.964Z"
   },
   {
    "duration": 24,
    "start_time": "2022-12-31T15:03:59.637Z"
   },
   {
    "duration": 8,
    "start_time": "2022-12-31T15:03:59.663Z"
   },
   {
    "duration": 21,
    "start_time": "2022-12-31T15:03:59.673Z"
   },
   {
    "duration": 44,
    "start_time": "2022-12-31T15:03:59.696Z"
   },
   {
    "duration": 163,
    "start_time": "2022-12-31T15:03:59.741Z"
   },
   {
    "duration": 3,
    "start_time": "2022-12-31T15:03:59.906Z"
   },
   {
    "duration": 12,
    "start_time": "2022-12-31T15:03:59.910Z"
   },
   {
    "duration": 15,
    "start_time": "2022-12-31T15:03:59.924Z"
   },
   {
    "duration": 50,
    "start_time": "2022-12-31T15:03:59.941Z"
   },
   {
    "duration": 41,
    "start_time": "2022-12-31T15:03:59.993Z"
   },
   {
    "duration": 3,
    "start_time": "2022-12-31T15:04:00.036Z"
   },
   {
    "duration": 14,
    "start_time": "2022-12-31T15:04:00.041Z"
   },
   {
    "duration": 8,
    "start_time": "2022-12-31T15:04:00.056Z"
   },
   {
    "duration": 10,
    "start_time": "2022-12-31T15:04:00.065Z"
   },
   {
    "duration": 16,
    "start_time": "2022-12-31T15:04:00.076Z"
   },
   {
    "duration": 11,
    "start_time": "2022-12-31T15:04:00.094Z"
   },
   {
    "duration": 13322,
    "start_time": "2022-12-31T15:04:11.309Z"
   },
   {
    "duration": 363,
    "start_time": "2022-12-31T15:04:35.260Z"
   },
   {
    "duration": 3,
    "start_time": "2022-12-31T15:05:09.243Z"
   },
   {
    "duration": 4,
    "start_time": "2022-12-31T15:06:23.954Z"
   },
   {
    "duration": 4,
    "start_time": "2022-12-31T15:07:14.588Z"
   },
   {
    "duration": 5,
    "start_time": "2022-12-31T15:07:28.702Z"
   },
   {
    "duration": 1703,
    "start_time": "2023-01-01T08:40:13.584Z"
   },
   {
    "duration": 3006,
    "start_time": "2023-01-01T08:40:15.289Z"
   },
   {
    "duration": 18,
    "start_time": "2023-01-01T08:40:18.297Z"
   },
   {
    "duration": 148,
    "start_time": "2023-01-01T08:40:18.316Z"
   },
   {
    "duration": 533,
    "start_time": "2023-01-01T08:40:18.466Z"
   },
   {
    "duration": 594,
    "start_time": "2023-01-01T08:40:19.001Z"
   },
   {
    "duration": 11,
    "start_time": "2023-01-01T08:40:19.597Z"
   },
   {
    "duration": 56,
    "start_time": "2023-01-01T08:40:19.612Z"
   },
   {
    "duration": 275,
    "start_time": "2023-01-01T08:40:19.670Z"
   },
   {
    "duration": 4,
    "start_time": "2023-01-01T08:40:19.950Z"
   },
   {
    "duration": 14,
    "start_time": "2023-01-01T08:40:19.955Z"
   },
   {
    "duration": 197,
    "start_time": "2023-01-01T08:40:19.970Z"
   },
   {
    "duration": 12,
    "start_time": "2023-01-01T08:40:20.169Z"
   },
   {
    "duration": 102,
    "start_time": "2023-01-01T08:40:20.184Z"
   },
   {
    "duration": 26,
    "start_time": "2023-01-01T08:40:20.288Z"
   },
   {
    "duration": 4,
    "start_time": "2023-01-01T08:40:20.316Z"
   },
   {
    "duration": 82153,
    "start_time": "2023-01-01T08:40:20.322Z"
   },
   {
    "duration": 23,
    "start_time": "2023-01-01T08:41:42.476Z"
   },
   {
    "duration": 25,
    "start_time": "2023-01-01T08:41:42.501Z"
   },
   {
    "duration": 32,
    "start_time": "2023-01-01T08:41:42.528Z"
   },
   {
    "duration": 29,
    "start_time": "2023-01-01T08:41:42.562Z"
   },
   {
    "duration": 328,
    "start_time": "2023-01-01T08:41:42.593Z"
   },
   {
    "duration": 7,
    "start_time": "2023-01-01T08:41:42.923Z"
   },
   {
    "duration": 39,
    "start_time": "2023-01-01T08:41:42.932Z"
   },
   {
    "duration": 24,
    "start_time": "2023-01-01T08:41:42.973Z"
   },
   {
    "duration": 715,
    "start_time": "2023-01-01T08:41:42.999Z"
   },
   {
    "duration": 25,
    "start_time": "2023-01-01T08:41:43.752Z"
   },
   {
    "duration": 8,
    "start_time": "2023-01-01T08:41:43.778Z"
   },
   {
    "duration": 31,
    "start_time": "2023-01-01T08:41:43.788Z"
   },
   {
    "duration": 48,
    "start_time": "2023-01-01T08:41:43.820Z"
   },
   {
    "duration": 208,
    "start_time": "2023-01-01T08:41:43.869Z"
   },
   {
    "duration": 4,
    "start_time": "2023-01-01T08:41:44.078Z"
   },
   {
    "duration": 6,
    "start_time": "2023-01-01T08:41:44.084Z"
   },
   {
    "duration": 17,
    "start_time": "2023-01-01T08:41:44.092Z"
   },
   {
    "duration": 82,
    "start_time": "2023-01-01T08:41:44.111Z"
   },
   {
    "duration": 27,
    "start_time": "2023-01-01T08:41:44.195Z"
   },
   {
    "duration": 5,
    "start_time": "2023-01-01T08:41:44.224Z"
   },
   {
    "duration": 21,
    "start_time": "2023-01-01T08:41:44.231Z"
   },
   {
    "duration": 5,
    "start_time": "2023-01-01T08:41:44.254Z"
   },
   {
    "duration": 5,
    "start_time": "2023-01-01T08:41:44.261Z"
   },
   {
    "duration": 4,
    "start_time": "2023-01-01T08:41:44.269Z"
   },
   {
    "duration": 5,
    "start_time": "2023-01-01T08:41:44.274Z"
   },
   {
    "duration": 16677,
    "start_time": "2023-01-01T08:41:44.281Z"
   },
   {
    "duration": 496,
    "start_time": "2023-01-01T08:42:00.960Z"
   },
   {
    "duration": 95,
    "start_time": "2023-01-01T08:42:01.459Z"
   },
   {
    "duration": 23,
    "start_time": "2023-01-01T08:45:52.823Z"
   },
   {
    "duration": 4,
    "start_time": "2023-01-01T08:52:42.941Z"
   },
   {
    "duration": 3,
    "start_time": "2023-01-01T08:53:54.088Z"
   },
   {
    "duration": 112,
    "start_time": "2023-01-01T08:55:05.633Z"
   },
   {
    "duration": 25,
    "start_time": "2023-01-01T08:55:17.292Z"
   },
   {
    "duration": 3,
    "start_time": "2023-01-01T08:56:11.778Z"
   },
   {
    "duration": 4,
    "start_time": "2023-01-01T09:08:28.902Z"
   },
   {
    "duration": 50,
    "start_time": "2023-01-01T09:14:14.269Z"
   },
   {
    "duration": 115192,
    "start_time": "2023-01-01T09:15:07.367Z"
   },
   {
    "duration": 11,
    "start_time": "2023-01-01T09:17:47.874Z"
   },
   {
    "duration": 24,
    "start_time": "2023-01-01T09:18:34.884Z"
   },
   {
    "duration": 8,
    "start_time": "2023-01-01T09:18:46.735Z"
   },
   {
    "duration": 29,
    "start_time": "2023-01-01T09:18:59.805Z"
   },
   {
    "duration": 8,
    "start_time": "2023-01-01T09:19:08.484Z"
   },
   {
    "duration": 26,
    "start_time": "2023-01-01T09:19:17.843Z"
   },
   {
    "duration": 6,
    "start_time": "2023-01-01T09:19:33.298Z"
   },
   {
    "duration": 7,
    "start_time": "2023-01-01T09:19:43.411Z"
   },
   {
    "duration": 3,
    "start_time": "2023-01-01T09:22:31.393Z"
   },
   {
    "duration": 12,
    "start_time": "2023-01-01T09:22:32.422Z"
   },
   {
    "duration": 129,
    "start_time": "2023-01-01T09:22:53.566Z"
   },
   {
    "duration": 3,
    "start_time": "2023-01-01T09:30:56.463Z"
   },
   {
    "duration": 28189,
    "start_time": "2023-01-01T09:30:57.297Z"
   },
   {
    "duration": 4,
    "start_time": "2023-01-01T09:32:09.154Z"
   },
   {
    "duration": 151,
    "start_time": "2023-01-01T09:33:03.117Z"
   },
   {
    "duration": 133,
    "start_time": "2023-01-01T09:33:37.562Z"
   },
   {
    "duration": 151,
    "start_time": "2023-01-01T09:33:47.095Z"
   },
   {
    "duration": 1693207,
    "start_time": "2023-01-01T09:33:53.419Z"
   },
   {
    "duration": 66389,
    "start_time": "2023-01-01T10:02:25.899Z"
   },
   {
    "duration": 1750,
    "start_time": "2023-01-01T10:03:43.584Z"
   },
   {
    "duration": 1155,
    "start_time": "2023-01-01T10:03:45.338Z"
   },
   {
    "duration": 20,
    "start_time": "2023-01-01T10:03:46.495Z"
   },
   {
    "duration": 207,
    "start_time": "2023-01-01T10:03:46.516Z"
   },
   {
    "duration": 620,
    "start_time": "2023-01-01T10:03:46.727Z"
   },
   {
    "duration": 633,
    "start_time": "2023-01-01T10:03:47.350Z"
   },
   {
    "duration": 11,
    "start_time": "2023-01-01T10:03:47.984Z"
   },
   {
    "duration": 63,
    "start_time": "2023-01-01T10:03:47.998Z"
   },
   {
    "duration": 319,
    "start_time": "2023-01-01T10:03:48.064Z"
   },
   {
    "duration": 9,
    "start_time": "2023-01-01T10:03:48.385Z"
   },
   {
    "duration": 38,
    "start_time": "2023-01-01T10:03:48.396Z"
   },
   {
    "duration": 267,
    "start_time": "2023-01-01T10:03:48.436Z"
   },
   {
    "duration": 16,
    "start_time": "2023-01-01T10:03:48.704Z"
   },
   {
    "duration": 113,
    "start_time": "2023-01-01T10:03:48.723Z"
   },
   {
    "duration": 39,
    "start_time": "2023-01-01T10:03:48.838Z"
   },
   {
    "duration": 12,
    "start_time": "2023-01-01T10:03:48.879Z"
   },
   {
    "duration": 100866,
    "start_time": "2023-01-01T10:03:48.893Z"
   },
   {
    "duration": 36,
    "start_time": "2023-01-01T10:05:29.767Z"
   },
   {
    "duration": 32,
    "start_time": "2023-01-01T10:05:29.805Z"
   },
   {
    "duration": 25,
    "start_time": "2023-01-01T10:05:29.840Z"
   },
   {
    "duration": 58,
    "start_time": "2023-01-01T10:05:29.868Z"
   },
   {
    "duration": 430,
    "start_time": "2023-01-01T10:05:29.929Z"
   },
   {
    "duration": 10,
    "start_time": "2023-01-01T10:05:30.368Z"
   },
   {
    "duration": 34,
    "start_time": "2023-01-01T10:05:30.381Z"
   },
   {
    "duration": 36,
    "start_time": "2023-01-01T10:05:30.417Z"
   },
   {
    "duration": 914,
    "start_time": "2023-01-01T10:05:30.455Z"
   },
   {
    "duration": 34,
    "start_time": "2023-01-01T10:05:31.373Z"
   },
   {
    "duration": 10,
    "start_time": "2023-01-01T10:05:31.411Z"
   },
   {
    "duration": 85,
    "start_time": "2023-01-01T10:05:31.423Z"
   },
   {
    "duration": 28,
    "start_time": "2023-01-01T10:05:31.511Z"
   },
   {
    "duration": 272,
    "start_time": "2023-01-01T10:05:31.542Z"
   },
   {
    "duration": 5,
    "start_time": "2023-01-01T10:05:31.817Z"
   },
   {
    "duration": 26,
    "start_time": "2023-01-01T10:05:31.825Z"
   },
   {
    "duration": 58,
    "start_time": "2023-01-01T10:05:31.853Z"
   },
   {
    "duration": 131,
    "start_time": "2023-01-01T10:05:31.913Z"
   },
   {
    "duration": 120,
    "start_time": "2023-01-01T10:05:32.047Z"
   },
   {
    "duration": 42,
    "start_time": "2023-01-01T10:05:32.178Z"
   },
   {
    "duration": 7,
    "start_time": "2023-01-01T10:05:32.222Z"
   },
   {
    "duration": 15,
    "start_time": "2023-01-01T10:05:32.232Z"
   },
   {
    "duration": 37,
    "start_time": "2023-01-01T10:05:32.249Z"
   },
   {
    "duration": 16,
    "start_time": "2023-01-01T10:05:32.291Z"
   },
   {
    "duration": 13,
    "start_time": "2023-01-01T10:05:32.310Z"
   },
   {
    "duration": 14,
    "start_time": "2023-01-01T10:05:32.326Z"
   },
   {
    "duration": 39446,
    "start_time": "2023-01-01T10:05:32.342Z"
   },
   {
    "duration": 597,
    "start_time": "2023-01-01T10:06:11.790Z"
   },
   {
    "duration": 7,
    "start_time": "2023-01-01T10:06:12.451Z"
   },
   {
    "duration": 121,
    "start_time": "2023-01-01T10:06:12.460Z"
   },
   {
    "duration": 6,
    "start_time": "2023-01-01T10:06:12.584Z"
   },
   {
    "duration": 66145,
    "start_time": "2023-01-01T10:06:12.594Z"
   },
   {
    "duration": 13,
    "start_time": "2023-01-01T10:10:26.363Z"
   },
   {
    "duration": 362,
    "start_time": "2023-01-01T10:10:35.572Z"
   },
   {
    "duration": 6,
    "start_time": "2023-01-01T10:11:15.117Z"
   },
   {
    "duration": 6,
    "start_time": "2023-01-01T10:11:31.390Z"
   },
   {
    "duration": 63590,
    "start_time": "2023-01-01T10:12:16.884Z"
   },
   {
    "duration": 9,
    "start_time": "2023-01-01T10:13:58.773Z"
   },
   {
    "duration": 4,
    "start_time": "2023-01-01T10:15:39.372Z"
   },
   {
    "duration": 5,
    "start_time": "2023-01-01T10:16:22.295Z"
   },
   {
    "duration": 225875,
    "start_time": "2023-01-01T10:16:47.400Z"
   },
   {
    "duration": 5,
    "start_time": "2023-01-01T10:20:48.620Z"
   },
   {
    "duration": 4,
    "start_time": "2023-01-01T10:20:51.280Z"
   },
   {
    "duration": 118,
    "start_time": "2023-01-01T10:21:27.865Z"
   },
   {
    "duration": 680855,
    "start_time": "2023-01-01T10:21:41.364Z"
   },
   {
    "duration": 6,
    "start_time": "2023-01-01T10:36:28.467Z"
   },
   {
    "duration": 5,
    "start_time": "2023-01-01T10:36:33.370Z"
   },
   {
    "duration": 280653,
    "start_time": "2023-01-01T10:37:30.887Z"
   },
   {
    "duration": 5,
    "start_time": "2023-01-01T10:47:44.016Z"
   },
   {
    "duration": 5,
    "start_time": "2023-01-01T10:47:54.522Z"
   },
   {
    "duration": 436167,
    "start_time": "2023-01-01T10:49:07.075Z"
   },
   {
    "duration": 4,
    "start_time": "2023-01-01T11:00:16.391Z"
   },
   {
    "duration": 4,
    "start_time": "2023-01-01T11:00:25.305Z"
   },
   {
    "duration": 147,
    "start_time": "2023-01-01T11:01:02.446Z"
   },
   {
    "duration": 4,
    "start_time": "2023-01-01T11:01:20.283Z"
   },
   {
    "duration": 4,
    "start_time": "2023-01-01T11:01:22.175Z"
   },
   {
    "duration": 31,
    "start_time": "2023-01-01T11:02:00.836Z"
   },
   {
    "duration": 3,
    "start_time": "2023-01-01T11:02:17.469Z"
   },
   {
    "duration": 356,
    "start_time": "2023-01-01T11:02:26.371Z"
   },
   {
    "duration": 7,
    "start_time": "2023-01-01T11:02:30.609Z"
   },
   {
    "duration": 20,
    "start_time": "2023-01-01T11:04:52.542Z"
   },
   {
    "duration": 3,
    "start_time": "2023-01-01T11:05:05.900Z"
   },
   {
    "duration": 6,
    "start_time": "2023-01-01T11:06:47.713Z"
   },
   {
    "duration": 221052,
    "start_time": "2023-01-01T11:09:53.011Z"
   },
   {
    "duration": 376,
    "start_time": "2023-01-01T11:14:17.091Z"
   },
   {
    "duration": 48628,
    "start_time": "2023-01-01T11:14:55.052Z"
   },
   {
    "duration": 352,
    "start_time": "2023-01-01T11:15:52.010Z"
   },
   {
    "duration": 7,
    "start_time": "2023-01-01T11:16:07.083Z"
   },
   {
    "duration": 14,
    "start_time": "2023-01-01T11:18:23.433Z"
   },
   {
    "duration": 3,
    "start_time": "2023-01-01T11:20:56.939Z"
   },
   {
    "duration": 163,
    "start_time": "2023-01-01T11:26:05.578Z"
   },
   {
    "duration": 172,
    "start_time": "2023-01-01T11:26:19.606Z"
   },
   {
    "duration": 172,
    "start_time": "2023-01-01T11:26:29.553Z"
   },
   {
    "duration": 166,
    "start_time": "2023-01-01T11:26:38.141Z"
   },
   {
    "duration": 1510969,
    "start_time": "2023-01-01T11:26:45.276Z"
   },
   {
    "duration": 240471,
    "start_time": "2023-01-01T11:52:11.757Z"
   },
   {
    "duration": 1637,
    "start_time": "2023-01-01T11:56:20.588Z"
   },
   {
    "duration": 1060,
    "start_time": "2023-01-01T11:56:22.227Z"
   },
   {
    "duration": 24,
    "start_time": "2023-01-01T11:56:23.288Z"
   },
   {
    "duration": 207,
    "start_time": "2023-01-01T11:56:23.314Z"
   },
   {
    "duration": 597,
    "start_time": "2023-01-01T11:56:23.524Z"
   },
   {
    "duration": 620,
    "start_time": "2023-01-01T11:56:24.122Z"
   },
   {
    "duration": 29,
    "start_time": "2023-01-01T11:56:24.743Z"
   },
   {
    "duration": 43,
    "start_time": "2023-01-01T11:56:24.778Z"
   },
   {
    "duration": 304,
    "start_time": "2023-01-01T11:56:24.823Z"
   },
   {
    "duration": 6,
    "start_time": "2023-01-01T11:56:25.129Z"
   },
   {
    "duration": 40,
    "start_time": "2023-01-01T11:56:25.136Z"
   },
   {
    "duration": 237,
    "start_time": "2023-01-01T11:56:25.180Z"
   },
   {
    "duration": 12,
    "start_time": "2023-01-01T11:56:25.419Z"
   },
   {
    "duration": 166,
    "start_time": "2023-01-01T11:56:25.435Z"
   },
   {
    "duration": 27,
    "start_time": "2023-01-01T11:56:25.603Z"
   },
   {
    "duration": 28,
    "start_time": "2023-01-01T11:56:25.633Z"
   },
   {
    "duration": 93358,
    "start_time": "2023-01-01T11:56:25.671Z"
   },
   {
    "duration": 48,
    "start_time": "2023-01-01T11:57:59.031Z"
   },
   {
    "duration": 23,
    "start_time": "2023-01-01T11:57:59.081Z"
   },
   {
    "duration": 16,
    "start_time": "2023-01-01T11:57:59.106Z"
   },
   {
    "duration": 63,
    "start_time": "2023-01-01T11:57:59.124Z"
   },
   {
    "duration": 351,
    "start_time": "2023-01-01T11:57:59.189Z"
   },
   {
    "duration": 17,
    "start_time": "2023-01-01T11:57:59.541Z"
   },
   {
    "duration": 29,
    "start_time": "2023-01-01T11:57:59.563Z"
   },
   {
    "duration": 43,
    "start_time": "2023-01-01T11:57:59.595Z"
   },
   {
    "duration": 874,
    "start_time": "2023-01-01T11:57:59.641Z"
   },
   {
    "duration": 52,
    "start_time": "2023-01-01T11:58:00.517Z"
   },
   {
    "duration": 9,
    "start_time": "2023-01-01T11:58:00.575Z"
   },
   {
    "duration": 33,
    "start_time": "2023-01-01T11:58:00.586Z"
   },
   {
    "duration": 27,
    "start_time": "2023-01-01T11:58:00.622Z"
   },
   {
    "duration": 250,
    "start_time": "2023-01-01T11:58:00.662Z"
   },
   {
    "duration": 5,
    "start_time": "2023-01-01T11:58:00.914Z"
   },
   {
    "duration": 11,
    "start_time": "2023-01-01T11:58:00.920Z"
   },
   {
    "duration": 36,
    "start_time": "2023-01-01T11:58:00.933Z"
   },
   {
    "duration": 67,
    "start_time": "2023-01-01T11:58:00.971Z"
   },
   {
    "duration": 89,
    "start_time": "2023-01-01T11:58:01.040Z"
   },
   {
    "duration": 52,
    "start_time": "2023-01-01T11:58:01.131Z"
   },
   {
    "duration": 5,
    "start_time": "2023-01-01T11:58:01.185Z"
   },
   {
    "duration": 13,
    "start_time": "2023-01-01T11:58:01.192Z"
   },
   {
    "duration": 14,
    "start_time": "2023-01-01T11:58:01.206Z"
   },
   {
    "duration": 5,
    "start_time": "2023-01-01T11:58:01.224Z"
   },
   {
    "duration": 19,
    "start_time": "2023-01-01T11:58:01.231Z"
   },
   {
    "duration": 48,
    "start_time": "2023-01-01T11:58:01.257Z"
   },
   {
    "duration": 177,
    "start_time": "2023-01-01T11:58:01.306Z"
   },
   {
    "duration": 0,
    "start_time": "2023-01-01T11:58:01.485Z"
   },
   {
    "duration": 0,
    "start_time": "2023-01-01T11:58:01.487Z"
   },
   {
    "duration": 0,
    "start_time": "2023-01-01T11:58:01.488Z"
   },
   {
    "duration": 0,
    "start_time": "2023-01-01T11:58:01.489Z"
   },
   {
    "duration": 0,
    "start_time": "2023-01-01T11:58:01.490Z"
   },
   {
    "duration": 0,
    "start_time": "2023-01-01T11:58:01.491Z"
   },
   {
    "duration": 0,
    "start_time": "2023-01-01T11:58:01.493Z"
   },
   {
    "duration": 0,
    "start_time": "2023-01-01T11:58:01.494Z"
   },
   {
    "duration": 0,
    "start_time": "2023-01-01T11:58:01.496Z"
   },
   {
    "duration": 0,
    "start_time": "2023-01-01T11:58:01.497Z"
   },
   {
    "duration": 0,
    "start_time": "2023-01-01T11:58:01.498Z"
   },
   {
    "duration": 0,
    "start_time": "2023-01-01T11:58:01.499Z"
   },
   {
    "duration": 0,
    "start_time": "2023-01-01T11:58:01.501Z"
   },
   {
    "duration": 3,
    "start_time": "2023-01-01T12:02:27.171Z"
   },
   {
    "duration": 3,
    "start_time": "2023-01-01T12:02:28.539Z"
   },
   {
    "duration": 303257,
    "start_time": "2023-01-01T12:02:29.210Z"
   },
   {
    "duration": 4,
    "start_time": "2023-01-01T12:07:54.040Z"
   },
   {
    "duration": 1907658,
    "start_time": "2023-01-01T12:07:54.853Z"
   },
   {
    "duration": 552532,
    "start_time": "2023-01-01T12:39:56.978Z"
   },
   {
    "duration": 41358,
    "start_time": "2023-01-01T12:49:27.346Z"
   },
   {
    "duration": 5,
    "start_time": "2023-01-01T12:51:31.082Z"
   },
   {
    "duration": 406556,
    "start_time": "2023-01-01T12:51:57.740Z"
   },
   {
    "duration": 6,
    "start_time": "2023-01-01T13:01:29.787Z"
   },
   {
    "duration": 73101,
    "start_time": "2023-01-01T13:01:47.498Z"
   },
   {
    "duration": 382,
    "start_time": "2023-01-01T13:03:37.874Z"
   },
   {
    "duration": 8,
    "start_time": "2023-01-01T13:03:39.475Z"
   },
   {
    "duration": 3,
    "start_time": "2023-01-01T13:03:44.407Z"
   },
   {
    "duration": 429453,
    "start_time": "2023-01-01T13:03:45.647Z"
   },
   {
    "duration": 5,
    "start_time": "2023-01-01T13:12:14.876Z"
   },
   {
    "duration": 5,
    "start_time": "2023-01-01T13:12:18.577Z"
   },
   {
    "duration": 3,
    "start_time": "2023-01-01T13:12:20.329Z"
   },
   {
    "duration": 406,
    "start_time": "2023-01-01T13:12:21.231Z"
   },
   {
    "duration": 6,
    "start_time": "2023-01-01T13:12:21.887Z"
   },
   {
    "duration": 4,
    "start_time": "2023-01-01T13:12:47.518Z"
   },
   {
    "duration": 836173,
    "start_time": "2023-01-01T13:16:19.267Z"
   },
   {
    "duration": 4,
    "start_time": "2023-01-01T13:56:04.803Z"
   },
   {
    "duration": 4,
    "start_time": "2023-01-01T13:56:12.174Z"
   },
   {
    "duration": 3,
    "start_time": "2023-01-01T13:59:41.132Z"
   },
   {
    "duration": 478,
    "start_time": "2023-01-01T14:00:32.949Z"
   },
   {
    "duration": 5,
    "start_time": "2023-01-01T14:01:08.774Z"
   },
   {
    "duration": 5,
    "start_time": "2023-01-01T14:03:57.168Z"
   },
   {
    "duration": 5,
    "start_time": "2023-01-01T14:07:10.620Z"
   },
   {
    "duration": 1294,
    "start_time": "2023-01-01T14:11:14.233Z"
   },
   {
    "duration": 3,
    "start_time": "2023-01-01T14:11:44.076Z"
   },
   {
    "duration": 146,
    "start_time": "2023-01-01T14:11:44.676Z"
   },
   {
    "duration": 6475,
    "start_time": "2023-01-01T14:12:00.342Z"
   },
   {
    "duration": 4,
    "start_time": "2023-01-01T14:12:24.480Z"
   },
   {
    "duration": 1137382,
    "start_time": "2023-01-01T14:12:26.445Z"
   },
   {
    "duration": 5,
    "start_time": "2023-01-01T15:01:31.905Z"
   },
   {
    "duration": 4,
    "start_time": "2023-01-01T15:01:55.632Z"
   },
   {
    "duration": 3,
    "start_time": "2023-01-01T15:03:20.712Z"
   },
   {
    "duration": 138,
    "start_time": "2023-01-01T15:03:40.442Z"
   },
   {
    "duration": 6,
    "start_time": "2023-01-01T15:04:15.105Z"
   },
   {
    "duration": 29,
    "start_time": "2023-01-01T15:08:31.233Z"
   },
   {
    "duration": 3,
    "start_time": "2023-01-01T15:16:01.803Z"
   },
   {
    "duration": 697,
    "start_time": "2023-01-01T15:19:29.996Z"
   },
   {
    "duration": 3,
    "start_time": "2023-01-01T15:22:50.499Z"
   },
   {
    "duration": 147,
    "start_time": "2023-01-01T15:22:55.105Z"
   },
   {
    "duration": 142,
    "start_time": "2023-01-01T15:23:13.875Z"
   },
   {
    "duration": 5128262,
    "start_time": "2023-01-01T15:23:23.044Z"
   },
   {
    "duration": 2427190,
    "start_time": "2023-01-01T16:49:02.585Z"
   },
   {
    "duration": 5,
    "start_time": "2023-01-01T17:44:41.789Z"
   },
   {
    "duration": 5,
    "start_time": "2023-01-01T17:45:04.972Z"
   },
   {
    "duration": 3,
    "start_time": "2023-01-01T17:46:48.726Z"
   },
   {
    "duration": 819,
    "start_time": "2023-01-01T17:47:14.564Z"
   },
   {
    "duration": 6,
    "start_time": "2023-01-01T17:47:47.514Z"
   },
   {
    "duration": 38137,
    "start_time": "2023-01-01T17:53:04.028Z"
   },
   {
    "duration": 302,
    "start_time": "2023-01-01T17:53:51.074Z"
   },
   {
    "duration": 5,
    "start_time": "2023-01-01T17:53:57.529Z"
   },
   {
    "duration": 4,
    "start_time": "2023-01-01T17:55:13.439Z"
   },
   {
    "duration": 4,
    "start_time": "2023-01-01T17:58:20.716Z"
   },
   {
    "duration": 8743,
    "start_time": "2023-01-01T17:58:50.641Z"
   },
   {
    "duration": 397,
    "start_time": "2023-01-01T17:59:59.515Z"
   },
   {
    "duration": 6,
    "start_time": "2023-01-01T18:00:04.319Z"
   },
   {
    "duration": 3,
    "start_time": "2023-01-01T18:00:59.292Z"
   },
   {
    "duration": 3,
    "start_time": "2023-01-01T18:02:48.731Z"
   },
   {
    "duration": 49150,
    "start_time": "2023-01-01T18:03:15.175Z"
   },
   {
    "duration": 469,
    "start_time": "2023-01-01T18:05:00.575Z"
   },
   {
    "duration": 6,
    "start_time": "2023-01-01T18:05:04.442Z"
   },
   {
    "duration": 5,
    "start_time": "2023-01-01T18:06:02.700Z"
   },
   {
    "duration": 3,
    "start_time": "2023-01-01T18:07:43.666Z"
   },
   {
    "duration": 68305,
    "start_time": "2023-01-01T18:08:32.050Z"
   },
   {
    "duration": 109,
    "start_time": "2023-01-01T18:09:57.999Z"
   },
   {
    "duration": 4,
    "start_time": "2023-01-01T18:10:33.380Z"
   },
   {
    "duration": 4,
    "start_time": "2023-01-01T18:12:11.005Z"
   },
   {
    "duration": 8120,
    "start_time": "2023-01-01T18:12:34.750Z"
   },
   {
    "duration": 801,
    "start_time": "2023-01-01T18:13:47.774Z"
   },
   {
    "duration": 5,
    "start_time": "2023-01-01T18:13:51.656Z"
   },
   {
    "duration": 4,
    "start_time": "2023-01-01T18:14:27.295Z"
   },
   {
    "duration": 3,
    "start_time": "2023-01-01T18:16:12.282Z"
   },
   {
    "duration": 8760,
    "start_time": "2023-01-01T18:16:15.452Z"
   },
   {
    "duration": 345,
    "start_time": "2023-01-01T18:16:30.334Z"
   },
   {
    "duration": 6,
    "start_time": "2023-01-01T18:16:33.095Z"
   },
   {
    "duration": 3,
    "start_time": "2023-01-01T18:16:48.943Z"
   },
   {
    "duration": 10967,
    "start_time": "2023-01-01T18:16:49.851Z"
   },
   {
    "duration": 349,
    "start_time": "2023-01-01T18:17:04.852Z"
   },
   {
    "duration": 6,
    "start_time": "2023-01-01T18:17:06.679Z"
   },
   {
    "duration": 3,
    "start_time": "2023-01-01T18:17:23.318Z"
   },
   {
    "duration": 11437,
    "start_time": "2023-01-01T18:17:24.439Z"
   },
   {
    "duration": 342,
    "start_time": "2023-01-01T18:17:42.826Z"
   },
   {
    "duration": 6,
    "start_time": "2023-01-01T18:17:45.044Z"
   },
   {
    "duration": 3,
    "start_time": "2023-01-01T18:17:57.386Z"
   },
   {
    "duration": 10923,
    "start_time": "2023-01-01T18:17:58.081Z"
   },
   {
    "duration": 357,
    "start_time": "2023-01-01T18:18:10.138Z"
   },
   {
    "duration": 6,
    "start_time": "2023-01-01T18:18:12.445Z"
   },
   {
    "duration": 3,
    "start_time": "2023-01-01T18:18:25.082Z"
   },
   {
    "duration": 10712,
    "start_time": "2023-01-01T18:18:26.142Z"
   },
   {
    "duration": 370,
    "start_time": "2023-01-01T18:18:40.610Z"
   },
   {
    "duration": 5,
    "start_time": "2023-01-01T18:18:42.973Z"
   },
   {
    "duration": 3,
    "start_time": "2023-01-01T18:18:55.693Z"
   },
   {
    "duration": 10776,
    "start_time": "2023-01-01T18:18:56.582Z"
   },
   {
    "duration": 341,
    "start_time": "2023-01-01T18:19:10.861Z"
   },
   {
    "duration": 5,
    "start_time": "2023-01-01T18:19:13.368Z"
   },
   {
    "duration": 4,
    "start_time": "2023-01-01T18:19:22.972Z"
   },
   {
    "duration": 10366,
    "start_time": "2023-01-01T18:19:23.832Z"
   },
   {
    "duration": 343,
    "start_time": "2023-01-01T18:19:35.995Z"
   },
   {
    "duration": 5,
    "start_time": "2023-01-01T18:19:38.846Z"
   },
   {
    "duration": 3,
    "start_time": "2023-01-01T18:19:48.005Z"
   },
   {
    "duration": 10145,
    "start_time": "2023-01-01T18:19:48.829Z"
   },
   {
    "duration": 361,
    "start_time": "2023-01-01T18:20:00.353Z"
   },
   {
    "duration": 5,
    "start_time": "2023-01-01T18:20:02.583Z"
   },
   {
    "duration": 4,
    "start_time": "2023-01-01T18:20:21.770Z"
   },
   {
    "duration": 10122,
    "start_time": "2023-01-01T18:20:23.110Z"
   },
   {
    "duration": 349,
    "start_time": "2023-01-01T18:20:34.379Z"
   },
   {
    "duration": 5,
    "start_time": "2023-01-01T18:20:37.029Z"
   },
   {
    "duration": 3,
    "start_time": "2023-01-01T18:20:48.926Z"
   },
   {
    "duration": 10520,
    "start_time": "2023-01-01T18:20:49.709Z"
   },
   {
    "duration": 351,
    "start_time": "2023-01-01T18:21:01.255Z"
   },
   {
    "duration": 5,
    "start_time": "2023-01-01T18:21:03.954Z"
   },
   {
    "duration": 3,
    "start_time": "2023-01-01T18:21:15.771Z"
   },
   {
    "duration": 10438,
    "start_time": "2023-01-01T18:21:17.042Z"
   },
   {
    "duration": 344,
    "start_time": "2023-01-01T18:21:28.582Z"
   },
   {
    "duration": 5,
    "start_time": "2023-01-01T18:21:31.479Z"
   },
   {
    "duration": 4,
    "start_time": "2023-01-01T18:21:41.000Z"
   },
   {
    "duration": 10272,
    "start_time": "2023-01-01T18:21:42.258Z"
   },
   {
    "duration": 336,
    "start_time": "2023-01-01T18:21:53.524Z"
   },
   {
    "duration": 5,
    "start_time": "2023-01-01T18:21:56.828Z"
   },
   {
    "duration": 4,
    "start_time": "2023-01-01T18:22:04.672Z"
   },
   {
    "duration": 10270,
    "start_time": "2023-01-01T18:22:05.844Z"
   },
   {
    "duration": 344,
    "start_time": "2023-01-01T18:22:17.221Z"
   },
   {
    "duration": 5,
    "start_time": "2023-01-01T18:22:20.520Z"
   },
   {
    "duration": 3,
    "start_time": "2023-01-01T18:22:33.221Z"
   },
   {
    "duration": 10289,
    "start_time": "2023-01-01T18:22:34.250Z"
   },
   {
    "duration": 343,
    "start_time": "2023-01-01T18:22:45.474Z"
   },
   {
    "duration": 5,
    "start_time": "2023-01-01T18:22:47.234Z"
   },
   {
    "duration": 3,
    "start_time": "2023-01-01T18:22:56.970Z"
   },
   {
    "duration": 10192,
    "start_time": "2023-01-01T18:22:58.130Z"
   },
   {
    "duration": 392,
    "start_time": "2023-01-01T18:23:09.413Z"
   },
   {
    "duration": 6,
    "start_time": "2023-01-01T18:23:14.094Z"
   },
   {
    "duration": 4,
    "start_time": "2023-01-01T18:23:33.197Z"
   },
   {
    "duration": 10427,
    "start_time": "2023-01-01T18:23:34.424Z"
   },
   {
    "duration": 368,
    "start_time": "2023-01-01T18:23:45.892Z"
   },
   {
    "duration": 6,
    "start_time": "2023-01-01T18:23:47.423Z"
   },
   {
    "duration": 4,
    "start_time": "2023-01-01T18:24:07.966Z"
   },
   {
    "duration": 10794,
    "start_time": "2023-01-01T18:24:09.088Z"
   },
   {
    "duration": 356,
    "start_time": "2023-01-01T18:24:20.990Z"
   },
   {
    "duration": 5,
    "start_time": "2023-01-01T18:24:22.953Z"
   },
   {
    "duration": 4,
    "start_time": "2023-01-01T18:25:16.352Z"
   },
   {
    "duration": 57289,
    "start_time": "2023-01-01T18:25:17.453Z"
   },
   {
    "duration": 552,
    "start_time": "2023-01-01T18:27:02.441Z"
   },
   {
    "duration": 6,
    "start_time": "2023-01-01T18:27:06.958Z"
   },
   {
    "duration": 5,
    "start_time": "2023-01-01T18:27:19.625Z"
   },
   {
    "duration": 60949,
    "start_time": "2023-01-01T18:27:21.545Z"
   },
   {
    "duration": 610,
    "start_time": "2023-01-01T18:28:28.715Z"
   },
   {
    "duration": 5,
    "start_time": "2023-01-01T18:28:32.888Z"
   },
   {
    "duration": 4,
    "start_time": "2023-01-01T18:28:46.171Z"
   },
   {
    "duration": 59771,
    "start_time": "2023-01-01T18:28:47.179Z"
   },
   {
    "duration": 643,
    "start_time": "2023-01-01T18:29:50.214Z"
   },
   {
    "duration": 6,
    "start_time": "2023-01-01T18:29:53.937Z"
   },
   {
    "duration": 4,
    "start_time": "2023-01-01T18:30:04.644Z"
   },
   {
    "duration": 59444,
    "start_time": "2023-01-01T18:30:05.563Z"
   },
   {
    "duration": 585,
    "start_time": "2023-01-01T18:31:09.966Z"
   },
   {
    "duration": 7,
    "start_time": "2023-01-01T18:31:12.341Z"
   },
   {
    "duration": 4,
    "start_time": "2023-01-01T18:31:22.991Z"
   },
   {
    "duration": 58851,
    "start_time": "2023-01-01T18:31:23.997Z"
   },
   {
    "duration": 576,
    "start_time": "2023-01-01T18:32:25.820Z"
   },
   {
    "duration": 7,
    "start_time": "2023-01-01T18:32:29.763Z"
   },
   {
    "duration": 3,
    "start_time": "2023-01-01T18:32:42.634Z"
   },
   {
    "duration": 58270,
    "start_time": "2023-01-01T18:32:43.237Z"
   },
   {
    "duration": 575,
    "start_time": "2023-01-01T18:33:44.510Z"
   },
   {
    "duration": 6,
    "start_time": "2023-01-01T18:33:47.330Z"
   },
   {
    "duration": 4,
    "start_time": "2023-01-01T18:33:55.552Z"
   },
   {
    "duration": 57696,
    "start_time": "2023-01-01T18:33:56.522Z"
   },
   {
    "duration": 584,
    "start_time": "2023-01-01T18:34:56.050Z"
   },
   {
    "duration": 6,
    "start_time": "2023-01-01T18:34:59.374Z"
   },
   {
    "duration": 3,
    "start_time": "2023-01-01T18:35:06.323Z"
   },
   {
    "duration": 58421,
    "start_time": "2023-01-01T18:35:06.864Z"
   },
   {
    "duration": 574,
    "start_time": "2023-01-01T18:36:07.342Z"
   },
   {
    "duration": 6,
    "start_time": "2023-01-01T18:36:10.206Z"
   },
   {
    "duration": 3,
    "start_time": "2023-01-01T18:36:16.968Z"
   },
   {
    "duration": 59059,
    "start_time": "2023-01-01T18:36:17.469Z"
   },
   {
    "duration": 549,
    "start_time": "2023-01-01T18:39:07.307Z"
   },
   {
    "duration": 6,
    "start_time": "2023-01-01T18:39:10.182Z"
   },
   {
    "duration": 4,
    "start_time": "2023-01-01T18:39:16.396Z"
   },
   {
    "duration": 57421,
    "start_time": "2023-01-01T18:39:17.081Z"
   },
   {
    "duration": 546,
    "start_time": "2023-01-01T18:40:33.898Z"
   },
   {
    "duration": 6,
    "start_time": "2023-01-01T18:40:36.355Z"
   },
   {
    "duration": 3,
    "start_time": "2023-01-01T18:41:22.171Z"
   },
   {
    "duration": 567049,
    "start_time": "2023-01-01T18:41:23.145Z"
   },
   {
    "duration": 2425,
    "start_time": "2023-01-01T18:51:46.208Z"
   },
   {
    "duration": 5,
    "start_time": "2023-01-01T18:51:54.720Z"
   },
   {
    "duration": 4,
    "start_time": "2023-01-01T18:52:33.156Z"
   },
   {
    "duration": 284504,
    "start_time": "2023-01-01T18:52:33.696Z"
   },
   {
    "duration": 1490,
    "start_time": "2023-01-01T18:58:19.083Z"
   },
   {
    "duration": 5,
    "start_time": "2023-01-01T18:58:22.413Z"
   },
   {
    "duration": 4,
    "start_time": "2023-01-01T18:59:19.783Z"
   },
   {
    "duration": 940,
    "start_time": "2023-01-01T18:59:21.022Z"
   },
   {
    "duration": 3,
    "start_time": "2023-01-01T18:59:35.698Z"
   },
   {
    "duration": 125264,
    "start_time": "2023-01-01T18:59:37.372Z"
   },
   {
    "duration": 128,
    "start_time": "2023-01-01T19:01:47.384Z"
   },
   {
    "duration": 6,
    "start_time": "2023-01-01T19:01:50.110Z"
   },
   {
    "duration": 3,
    "start_time": "2023-01-01T19:02:16.617Z"
   },
   {
    "duration": 63816,
    "start_time": "2023-01-01T19:02:17.189Z"
   },
   {
    "duration": 91,
    "start_time": "2023-01-01T19:03:41.268Z"
   },
   {
    "duration": 5,
    "start_time": "2023-01-01T19:03:42.919Z"
   },
   {
    "duration": 4,
    "start_time": "2023-01-01T19:04:09.224Z"
   },
   {
    "duration": 133268,
    "start_time": "2023-01-01T19:04:09.937Z"
   },
   {
    "duration": 136,
    "start_time": "2023-01-01T19:06:32.551Z"
   },
   {
    "duration": 5,
    "start_time": "2023-01-01T19:06:34.250Z"
   },
   {
    "duration": 3,
    "start_time": "2023-01-01T19:07:23.029Z"
   },
   {
    "duration": 137,
    "start_time": "2023-01-01T19:07:54.138Z"
   },
   {
    "duration": 7,
    "start_time": "2023-01-01T19:07:58.205Z"
   },
   {
    "duration": 1632,
    "start_time": "2023-01-01T19:08:29.943Z"
   },
   {
    "duration": 3031,
    "start_time": "2023-01-01T19:08:31.577Z"
   },
   {
    "duration": 18,
    "start_time": "2023-01-01T19:08:34.609Z"
   },
   {
    "duration": 145,
    "start_time": "2023-01-01T19:08:34.629Z"
   },
   {
    "duration": 529,
    "start_time": "2023-01-01T19:08:34.776Z"
   },
   {
    "duration": 561,
    "start_time": "2023-01-01T19:08:35.307Z"
   },
   {
    "duration": 9,
    "start_time": "2023-01-01T19:08:35.870Z"
   },
   {
    "duration": 40,
    "start_time": "2023-01-01T19:08:35.881Z"
   },
   {
    "duration": 260,
    "start_time": "2023-01-01T19:08:35.923Z"
   },
   {
    "duration": 4,
    "start_time": "2023-01-01T19:08:36.185Z"
   },
   {
    "duration": 15,
    "start_time": "2023-01-01T19:08:36.191Z"
   },
   {
    "duration": 212,
    "start_time": "2023-01-01T19:08:36.208Z"
   },
   {
    "duration": 11,
    "start_time": "2023-01-01T19:08:36.422Z"
   },
   {
    "duration": 92,
    "start_time": "2023-01-01T19:08:36.436Z"
   },
   {
    "duration": 34,
    "start_time": "2023-01-01T19:08:36.530Z"
   },
   {
    "duration": 6,
    "start_time": "2023-01-01T19:08:36.566Z"
   },
   {
    "duration": 85216,
    "start_time": "2023-01-01T19:08:36.573Z"
   },
   {
    "duration": 29,
    "start_time": "2023-01-01T19:10:01.792Z"
   },
   {
    "duration": 42,
    "start_time": "2023-01-01T19:10:01.823Z"
   },
   {
    "duration": 22,
    "start_time": "2023-01-01T19:10:01.866Z"
   },
   {
    "duration": 41,
    "start_time": "2023-01-01T19:10:01.890Z"
   },
   {
    "duration": 340,
    "start_time": "2023-01-01T19:10:01.933Z"
   },
   {
    "duration": 7,
    "start_time": "2023-01-01T19:10:02.276Z"
   },
   {
    "duration": 28,
    "start_time": "2023-01-01T19:10:02.285Z"
   },
   {
    "duration": 36,
    "start_time": "2023-01-01T19:10:02.315Z"
   },
   {
    "duration": 741,
    "start_time": "2023-01-01T19:10:02.353Z"
   },
   {
    "duration": 26,
    "start_time": "2023-01-01T19:10:03.095Z"
   },
   {
    "duration": 8,
    "start_time": "2023-01-01T19:10:03.123Z"
   },
   {
    "duration": 26,
    "start_time": "2023-01-01T19:10:03.151Z"
   },
   {
    "duration": 23,
    "start_time": "2023-01-01T19:10:03.179Z"
   },
   {
    "duration": 207,
    "start_time": "2023-01-01T19:10:03.203Z"
   },
   {
    "duration": 5,
    "start_time": "2023-01-01T19:10:03.413Z"
   },
   {
    "duration": 9,
    "start_time": "2023-01-01T19:10:03.420Z"
   },
   {
    "duration": 15,
    "start_time": "2023-01-01T19:10:13.405Z"
   },
   {
    "duration": 66,
    "start_time": "2023-01-01T19:10:15.207Z"
   },
   {
    "duration": 2,
    "start_time": "2023-01-01T19:10:20.747Z"
   },
   {
    "duration": 3,
    "start_time": "2023-01-01T19:10:21.951Z"
   },
   {
    "duration": 3,
    "start_time": "2023-01-01T19:10:22.480Z"
   },
   {
    "duration": 3,
    "start_time": "2023-01-01T19:10:22.908Z"
   },
   {
    "duration": 4,
    "start_time": "2023-01-01T19:10:26.331Z"
   },
   {
    "duration": 3,
    "start_time": "2023-01-01T19:10:45.498Z"
   },
   {
    "duration": 8872,
    "start_time": "2023-01-01T19:10:47.306Z"
   },
   {
    "duration": 783,
    "start_time": "2023-01-01T19:11:03.391Z"
   },
   {
    "duration": 6,
    "start_time": "2023-01-01T19:11:05.786Z"
   },
   {
    "duration": 3,
    "start_time": "2023-01-01T19:11:33.151Z"
   },
   {
    "duration": 8838,
    "start_time": "2023-01-01T19:11:34.230Z"
   },
   {
    "duration": 803,
    "start_time": "2023-01-01T19:11:45.171Z"
   },
   {
    "duration": 6,
    "start_time": "2023-01-01T19:11:48.230Z"
   },
   {
    "duration": 4,
    "start_time": "2023-01-01T19:11:59.225Z"
   },
   {
    "duration": 8434,
    "start_time": "2023-01-01T19:12:00.237Z"
   },
   {
    "duration": 856,
    "start_time": "2023-01-01T19:12:11.297Z"
   },
   {
    "duration": 6,
    "start_time": "2023-01-01T19:12:14.059Z"
   },
   {
    "duration": 4,
    "start_time": "2023-01-01T19:12:21.497Z"
   },
   {
    "duration": 8683,
    "start_time": "2023-01-01T19:12:22.089Z"
   },
   {
    "duration": 860,
    "start_time": "2023-01-01T19:12:33.593Z"
   },
   {
    "duration": 5,
    "start_time": "2023-01-01T19:12:37.248Z"
   },
   {
    "duration": 3,
    "start_time": "2023-01-01T19:12:43.958Z"
   },
   {
    "duration": 8489,
    "start_time": "2023-01-01T19:12:44.683Z"
   },
   {
    "duration": 854,
    "start_time": "2023-01-01T19:12:54.698Z"
   },
   {
    "duration": 5,
    "start_time": "2023-01-01T19:12:56.824Z"
   },
   {
    "duration": 181,
    "start_time": "2023-01-01T19:13:38.927Z"
   },
   {
    "duration": 72,
    "start_time": "2023-01-01T19:13:39.110Z"
   },
   {
    "duration": 14,
    "start_time": "2023-01-01T19:13:39.184Z"
   },
   {
    "duration": 0,
    "start_time": "2023-01-01T19:13:39.201Z"
   },
   {
    "duration": 0,
    "start_time": "2023-01-01T19:13:39.202Z"
   },
   {
    "duration": 0,
    "start_time": "2023-01-01T19:13:39.204Z"
   },
   {
    "duration": 0,
    "start_time": "2023-01-01T19:13:39.205Z"
   },
   {
    "duration": 0,
    "start_time": "2023-01-01T19:13:39.206Z"
   },
   {
    "duration": 0,
    "start_time": "2023-01-01T19:13:39.208Z"
   },
   {
    "duration": 0,
    "start_time": "2023-01-01T19:13:39.209Z"
   },
   {
    "duration": 0,
    "start_time": "2023-01-01T19:13:39.210Z"
   },
   {
    "duration": 0,
    "start_time": "2023-01-01T19:13:39.211Z"
   },
   {
    "duration": 0,
    "start_time": "2023-01-01T19:13:39.213Z"
   },
   {
    "duration": 0,
    "start_time": "2023-01-01T19:13:39.214Z"
   },
   {
    "duration": 0,
    "start_time": "2023-01-01T19:13:39.216Z"
   },
   {
    "duration": 0,
    "start_time": "2023-01-01T19:13:39.217Z"
   },
   {
    "duration": 0,
    "start_time": "2023-01-01T19:13:39.218Z"
   },
   {
    "duration": 0,
    "start_time": "2023-01-01T19:13:39.220Z"
   },
   {
    "duration": 0,
    "start_time": "2023-01-01T19:13:39.221Z"
   },
   {
    "duration": 0,
    "start_time": "2023-01-01T19:13:39.223Z"
   },
   {
    "duration": 0,
    "start_time": "2023-01-01T19:13:39.225Z"
   },
   {
    "duration": 0,
    "start_time": "2023-01-01T19:13:39.227Z"
   },
   {
    "duration": 0,
    "start_time": "2023-01-01T19:13:39.251Z"
   },
   {
    "duration": 0,
    "start_time": "2023-01-01T19:13:39.253Z"
   },
   {
    "duration": 3,
    "start_time": "2023-01-01T19:14:02.990Z"
   },
   {
    "duration": 22600,
    "start_time": "2023-01-01T19:14:09.860Z"
   },
   {
    "duration": 488,
    "start_time": "2023-01-01T19:14:32.462Z"
   },
   {
    "duration": 99,
    "start_time": "2023-01-01T19:14:32.953Z"
   },
   {
    "duration": 4,
    "start_time": "2023-01-01T19:14:33.054Z"
   },
   {
    "duration": 7,
    "start_time": "2023-01-01T19:14:33.060Z"
   },
   {
    "duration": 10721,
    "start_time": "2023-01-01T19:14:33.068Z"
   },
   {
    "duration": 374,
    "start_time": "2023-01-01T19:14:43.791Z"
   },
   {
    "duration": 7,
    "start_time": "2023-01-01T19:14:44.167Z"
   },
   {
    "duration": 13,
    "start_time": "2023-01-01T19:14:44.176Z"
   },
   {
    "duration": 13,
    "start_time": "2023-01-01T19:14:44.191Z"
   },
   {
    "duration": 296555,
    "start_time": "2023-01-01T19:14:44.206Z"
   },
   {
    "duration": 1408,
    "start_time": "2023-01-01T19:19:40.763Z"
   },
   {
    "duration": 5,
    "start_time": "2023-01-01T19:19:42.173Z"
   },
   {
    "duration": 4,
    "start_time": "2023-01-01T19:19:42.181Z"
   },
   {
    "duration": 4,
    "start_time": "2023-01-01T19:19:42.187Z"
   },
   {
    "duration": 131517,
    "start_time": "2023-01-01T19:19:42.193Z"
   },
   {
    "duration": 163,
    "start_time": "2023-01-01T19:21:53.712Z"
   },
   {
    "duration": 6,
    "start_time": "2023-01-01T19:21:53.878Z"
   },
   {
    "duration": 11,
    "start_time": "2023-01-01T19:21:53.886Z"
   },
   {
    "duration": 13,
    "start_time": "2023-01-01T19:21:53.899Z"
   },
   {
    "duration": 12144,
    "start_time": "2023-01-01T19:21:53.914Z"
   },
   {
    "duration": 805,
    "start_time": "2023-01-01T19:22:06.060Z"
   },
   {
    "duration": 89,
    "start_time": "2023-01-01T19:22:06.867Z"
   },
   {
    "duration": 5,
    "start_time": "2023-01-01T19:22:06.958Z"
   },
   {
    "duration": 9905,
    "start_time": "2023-01-15T07:15:22.838Z"
   },
   {
    "duration": 4132,
    "start_time": "2023-01-15T07:15:33.786Z"
   },
   {
    "duration": 21,
    "start_time": "2023-01-15T07:15:40.308Z"
   },
   {
    "duration": 416,
    "start_time": "2023-01-15T07:15:40.925Z"
   },
   {
    "duration": 611,
    "start_time": "2023-01-15T07:15:44.683Z"
   },
   {
    "duration": 575,
    "start_time": "2023-01-15T07:15:45.985Z"
   },
   {
    "duration": 8,
    "start_time": "2023-01-15T07:15:48.419Z"
   },
   {
    "duration": 4,
    "start_time": "2023-01-15T07:24:17.303Z"
   },
   {
    "duration": 1227,
    "start_time": "2023-01-15T07:24:49.171Z"
   },
   {
    "duration": 278,
    "start_time": "2023-01-15T07:25:07.209Z"
   },
   {
    "duration": 5,
    "start_time": "2023-01-15T07:25:34.034Z"
   },
   {
    "duration": 1165,
    "start_time": "2023-01-15T07:25:34.784Z"
   },
   {
    "duration": 22,
    "start_time": "2023-01-15T07:27:46.999Z"
   },
   {
    "duration": 29,
    "start_time": "2023-01-15T07:28:12.173Z"
   },
   {
    "duration": 8,
    "start_time": "2023-01-15T07:29:47.067Z"
   },
   {
    "duration": 8,
    "start_time": "2023-01-15T07:29:59.931Z"
   },
   {
    "duration": 13,
    "start_time": "2023-01-15T07:30:06.322Z"
   },
   {
    "duration": 1938,
    "start_time": "2023-01-15T07:30:16.152Z"
   },
   {
    "duration": 62577,
    "start_time": "2023-01-15T07:32:28.429Z"
   },
   {
    "duration": 2348,
    "start_time": "2023-01-15T07:33:45.709Z"
   },
   {
    "duration": 2336,
    "start_time": "2023-01-15T07:34:15.154Z"
   },
   {
    "duration": 7524,
    "start_time": "2023-01-15T07:35:12.927Z"
   },
   {
    "duration": 2092,
    "start_time": "2023-01-15T07:35:33.394Z"
   },
   {
    "duration": 133,
    "start_time": "2023-01-15T07:36:21.461Z"
   },
   {
    "duration": 22,
    "start_time": "2023-01-15T07:37:39.675Z"
   },
   {
    "duration": 7,
    "start_time": "2023-01-15T07:39:34.204Z"
   },
   {
    "duration": 9,
    "start_time": "2023-01-15T07:39:55.182Z"
   },
   {
    "duration": 35,
    "start_time": "2023-01-15T07:41:44.187Z"
   },
   {
    "duration": 17,
    "start_time": "2023-01-15T07:44:34.742Z"
   },
   {
    "duration": 37,
    "start_time": "2023-01-15T07:45:16.437Z"
   },
   {
    "duration": 9,
    "start_time": "2023-01-15T07:45:38.036Z"
   },
   {
    "duration": 8,
    "start_time": "2023-01-15T07:46:32.698Z"
   },
   {
    "duration": 13,
    "start_time": "2023-01-15T07:47:04.764Z"
   },
   {
    "duration": 46,
    "start_time": "2023-01-15T07:47:54.941Z"
   },
   {
    "duration": 4,
    "start_time": "2023-01-15T07:47:55.871Z"
   },
   {
    "duration": 32050,
    "start_time": "2023-01-15T07:47:57.768Z"
   },
   {
    "duration": 17,
    "start_time": "2023-01-15T07:48:40.041Z"
   },
   {
    "duration": 26,
    "start_time": "2023-01-15T07:50:20.124Z"
   },
   {
    "duration": 6,
    "start_time": "2023-01-15T07:50:40.228Z"
   },
   {
    "duration": 85,
    "start_time": "2023-01-15T07:54:29.176Z"
   },
   {
    "duration": 45,
    "start_time": "2023-01-15T07:54:31.134Z"
   },
   {
    "duration": 7,
    "start_time": "2023-01-15T07:54:49.586Z"
   },
   {
    "duration": 44,
    "start_time": "2023-01-15T07:55:10.652Z"
   },
   {
    "duration": 3,
    "start_time": "2023-01-15T07:58:42.434Z"
   },
   {
    "duration": 2508,
    "start_time": "2023-01-15T07:59:19.705Z"
   },
   {
    "duration": 3,
    "start_time": "2023-01-15T07:59:34.847Z"
   },
   {
    "duration": 8338,
    "start_time": "2023-01-15T07:59:35.438Z"
   },
   {
    "duration": 36,
    "start_time": "2023-01-15T08:00:13.125Z"
   },
   {
    "duration": 16,
    "start_time": "2023-01-15T08:01:30.908Z"
   },
   {
    "duration": 52,
    "start_time": "2023-01-15T08:02:39.712Z"
   },
   {
    "duration": 29,
    "start_time": "2023-01-15T08:03:42.913Z"
   },
   {
    "duration": 15,
    "start_time": "2023-01-15T08:03:52.452Z"
   },
   {
    "duration": 215,
    "start_time": "2023-01-15T08:16:53.481Z"
   },
   {
    "duration": 5,
    "start_time": "2023-01-15T08:17:06.200Z"
   },
   {
    "duration": 11,
    "start_time": "2023-01-15T08:17:07.091Z"
   },
   {
    "duration": 174,
    "start_time": "2023-01-15T08:17:12.405Z"
   },
   {
    "duration": 11,
    "start_time": "2023-01-15T08:17:13.451Z"
   },
   {
    "duration": 78,
    "start_time": "2023-01-15T08:17:17.523Z"
   },
   {
    "duration": 21,
    "start_time": "2023-01-15T08:17:26.092Z"
   },
   {
    "duration": 5,
    "start_time": "2023-01-15T08:17:26.831Z"
   },
   {
    "duration": 3338,
    "start_time": "2023-01-15T08:17:54.468Z"
   },
   {
    "duration": 19,
    "start_time": "2023-01-16T06:29:33.272Z"
   },
   {
    "duration": 84,
    "start_time": "2023-01-16T06:30:48.493Z"
   },
   {
    "duration": 2403,
    "start_time": "2023-01-16T06:30:57.215Z"
   },
   {
    "duration": 4213,
    "start_time": "2023-01-16T06:30:59.622Z"
   },
   {
    "duration": 38,
    "start_time": "2023-01-16T06:31:03.840Z"
   },
   {
    "duration": 193,
    "start_time": "2023-01-16T06:31:03.881Z"
   },
   {
    "duration": 592,
    "start_time": "2023-01-16T06:31:04.076Z"
   },
   {
    "duration": 628,
    "start_time": "2023-01-16T06:31:04.670Z"
   },
   {
    "duration": 25,
    "start_time": "2023-01-16T06:31:05.300Z"
   },
   {
    "duration": 25,
    "start_time": "2023-01-16T06:31:05.327Z"
   },
   {
    "duration": 11,
    "start_time": "2023-01-16T06:31:05.356Z"
   },
   {
    "duration": 168,
    "start_time": "2023-01-16T06:31:05.373Z"
   },
   {
    "duration": 36,
    "start_time": "2023-01-16T06:31:05.544Z"
   },
   {
    "duration": 53,
    "start_time": "2023-01-16T06:31:05.587Z"
   },
   {
    "duration": 36,
    "start_time": "2023-01-16T06:31:05.643Z"
   },
   {
    "duration": 75,
    "start_time": "2023-01-16T06:31:05.683Z"
   },
   {
    "duration": 21,
    "start_time": "2023-01-16T06:31:05.765Z"
   },
   {
    "duration": 23,
    "start_time": "2023-01-16T06:31:05.788Z"
   },
   {
    "duration": 66,
    "start_time": "2023-01-16T06:31:05.813Z"
   },
   {
    "duration": 7,
    "start_time": "2023-01-16T06:31:05.881Z"
   },
   {
    "duration": 35938,
    "start_time": "2023-01-16T06:31:05.890Z"
   },
   {
    "duration": 45,
    "start_time": "2023-01-16T06:31:41.829Z"
   },
   {
    "duration": 117,
    "start_time": "2023-01-16T06:31:41.876Z"
   },
   {
    "duration": 5,
    "start_time": "2023-01-16T06:31:41.995Z"
   },
   {
    "duration": 9546,
    "start_time": "2023-01-16T06:31:42.002Z"
   },
   {
    "duration": 43,
    "start_time": "2023-01-16T06:31:51.553Z"
   },
   {
    "duration": 16,
    "start_time": "2023-01-16T06:31:51.597Z"
   },
   {
    "duration": 76,
    "start_time": "2023-01-16T06:31:51.616Z"
   },
   {
    "duration": 32,
    "start_time": "2023-01-16T06:31:51.694Z"
   },
   {
    "duration": 39,
    "start_time": "2023-01-16T06:31:51.732Z"
   },
   {
    "duration": 305,
    "start_time": "2023-01-16T06:31:51.774Z"
   },
   {
    "duration": 6,
    "start_time": "2023-01-16T06:31:52.081Z"
   },
   {
    "duration": 26,
    "start_time": "2023-01-16T06:31:52.089Z"
   },
   {
    "duration": 225,
    "start_time": "2023-01-16T06:31:52.117Z"
   },
   {
    "duration": 28,
    "start_time": "2023-01-16T06:31:52.345Z"
   },
   {
    "duration": 142,
    "start_time": "2023-01-16T06:31:52.375Z"
   },
   {
    "duration": 46,
    "start_time": "2023-01-16T06:31:52.519Z"
   },
   {
    "duration": 11,
    "start_time": "2023-01-16T06:31:52.566Z"
   },
   {
    "duration": 15,
    "start_time": "2023-01-16T06:31:52.579Z"
   },
   {
    "duration": 9289,
    "start_time": "2023-01-16T06:32:01.607Z"
   },
   {
    "duration": 6,
    "start_time": "2023-01-16T06:35:10.995Z"
   },
   {
    "duration": 10343,
    "start_time": "2023-01-16T06:35:11.605Z"
   },
   {
    "duration": 6,
    "start_time": "2023-01-16T06:37:25.419Z"
   },
   {
    "duration": 293,
    "start_time": "2023-01-16T06:37:49.519Z"
   },
   {
    "duration": 7,
    "start_time": "2023-01-16T06:40:03.077Z"
   },
   {
    "duration": 5,
    "start_time": "2023-01-16T06:43:09.126Z"
   },
   {
    "duration": 1819,
    "start_time": "2023-01-16T06:45:00.631Z"
   },
   {
    "duration": 1956,
    "start_time": "2023-01-16T06:45:36.833Z"
   },
   {
    "duration": 19,
    "start_time": "2023-01-16T06:46:33.682Z"
   },
   {
    "duration": 19,
    "start_time": "2023-01-16T06:47:01.204Z"
   },
   {
    "duration": 13,
    "start_time": "2023-01-16T06:47:08.986Z"
   },
   {
    "duration": 124,
    "start_time": "2023-01-16T06:47:35.008Z"
   },
   {
    "duration": 17,
    "start_time": "2023-01-16T06:47:52.444Z"
   },
   {
    "duration": 1784,
    "start_time": "2023-01-16T06:48:20.995Z"
   },
   {
    "duration": 21,
    "start_time": "2023-01-16T06:49:11.080Z"
   },
   {
    "duration": 54,
    "start_time": "2023-01-16T06:50:41.215Z"
   },
   {
    "duration": 7,
    "start_time": "2023-01-16T06:51:35.634Z"
   },
   {
    "duration": 29,
    "start_time": "2023-01-16T06:51:51.937Z"
   },
   {
    "duration": 28,
    "start_time": "2023-01-16T06:52:57.585Z"
   },
   {
    "duration": 31,
    "start_time": "2023-01-16T06:53:41.542Z"
   },
   {
    "duration": 39,
    "start_time": "2023-01-16T06:54:06.445Z"
   },
   {
    "duration": 183,
    "start_time": "2023-01-16T06:55:11.351Z"
   },
   {
    "duration": 25,
    "start_time": "2023-01-16T06:55:23.769Z"
   },
   {
    "duration": 24,
    "start_time": "2023-01-16T06:56:22.673Z"
   },
   {
    "duration": 41,
    "start_time": "2023-01-16T06:56:47.152Z"
   },
   {
    "duration": 33,
    "start_time": "2023-01-16T06:57:22.111Z"
   },
   {
    "duration": 39,
    "start_time": "2023-01-16T06:57:32.369Z"
   },
   {
    "duration": 41,
    "start_time": "2023-01-16T06:58:04.087Z"
   },
   {
    "duration": 37,
    "start_time": "2023-01-16T06:59:33.404Z"
   },
   {
    "duration": 14,
    "start_time": "2023-01-16T07:01:16.500Z"
   },
   {
    "duration": 14,
    "start_time": "2023-01-16T07:01:36.642Z"
   },
   {
    "duration": 27,
    "start_time": "2023-01-16T07:01:52.376Z"
   },
   {
    "duration": 33,
    "start_time": "2023-01-16T07:02:34.549Z"
   },
   {
    "duration": 51,
    "start_time": "2023-01-16T07:14:39.046Z"
   },
   {
    "duration": 1871,
    "start_time": "2023-01-16T07:15:02.008Z"
   },
   {
    "duration": 52,
    "start_time": "2023-01-18T08:42:49.090Z"
   },
   {
    "duration": 1565,
    "start_time": "2023-01-18T08:42:54.464Z"
   },
   {
    "duration": 1063,
    "start_time": "2023-01-18T08:42:56.031Z"
   },
   {
    "duration": 16,
    "start_time": "2023-01-18T08:42:57.096Z"
   },
   {
    "duration": 130,
    "start_time": "2023-01-18T08:42:57.114Z"
   },
   {
    "duration": 432,
    "start_time": "2023-01-18T08:42:57.247Z"
   },
   {
    "duration": 496,
    "start_time": "2023-01-18T08:42:57.682Z"
   },
   {
    "duration": 57,
    "start_time": "2023-01-18T08:42:58.180Z"
   },
   {
    "duration": 25,
    "start_time": "2023-01-18T08:42:58.239Z"
   },
   {
    "duration": 13,
    "start_time": "2023-01-18T08:42:58.266Z"
   },
   {
    "duration": 1639,
    "start_time": "2023-01-18T08:42:58.281Z"
   },
   {
    "duration": 17,
    "start_time": "2023-01-18T08:42:59.922Z"
   },
   {
    "duration": 9,
    "start_time": "2023-01-18T08:42:59.940Z"
   },
   {
    "duration": 26,
    "start_time": "2023-01-18T08:42:59.951Z"
   },
   {
    "duration": 56,
    "start_time": "2023-01-18T08:42:59.980Z"
   },
   {
    "duration": 4,
    "start_time": "2023-01-18T08:43:06.416Z"
   },
   {
    "duration": 25,
    "start_time": "2023-01-18T08:45:37.685Z"
   },
   {
    "duration": 95,
    "start_time": "2023-01-18T08:45:48.835Z"
   },
   {
    "duration": 22,
    "start_time": "2023-01-18T08:45:53.168Z"
   },
   {
    "duration": 6,
    "start_time": "2023-01-18T08:46:14.417Z"
   },
   {
    "duration": 91,
    "start_time": "2023-01-18T08:47:13.506Z"
   },
   {
    "duration": 6,
    "start_time": "2023-01-18T08:47:16.117Z"
   },
   {
    "duration": 5,
    "start_time": "2023-01-18T08:47:28.893Z"
   },
   {
    "duration": 6,
    "start_time": "2023-01-18T08:47:32.893Z"
   },
   {
    "duration": 80,
    "start_time": "2023-01-18T08:49:38.588Z"
   },
   {
    "duration": 83,
    "start_time": "2023-01-18T08:49:48.040Z"
   },
   {
    "duration": 299,
    "start_time": "2023-01-18T08:50:42.277Z"
   },
   {
    "duration": 1492,
    "start_time": "2023-01-18T08:52:59.120Z"
   },
   {
    "duration": 16,
    "start_time": "2023-01-18T08:54:44.579Z"
   },
   {
    "duration": 37,
    "start_time": "2023-01-18T08:54:48.787Z"
   },
   {
    "duration": 8,
    "start_time": "2023-01-18T08:54:51.089Z"
   },
   {
    "duration": 9,
    "start_time": "2023-01-18T08:54:53.820Z"
   },
   {
    "duration": 52,
    "start_time": "2023-01-18T08:55:00.891Z"
   },
   {
    "duration": 1478,
    "start_time": "2023-01-18T08:55:28.867Z"
   },
   {
    "duration": 262,
    "start_time": "2023-01-18T08:57:04.468Z"
   },
   {
    "duration": 1403,
    "start_time": "2023-01-18T08:58:08.535Z"
   },
   {
    "duration": 356,
    "start_time": "2023-01-18T08:58:30.610Z"
   },
   {
    "duration": 1654,
    "start_time": "2023-01-18T08:58:34.806Z"
   },
   {
    "duration": 34,
    "start_time": "2023-01-18T08:59:43.928Z"
   },
   {
    "duration": 18,
    "start_time": "2023-01-18T09:00:39.411Z"
   },
   {
    "duration": 17,
    "start_time": "2023-01-18T09:01:04.885Z"
   },
   {
    "duration": 40,
    "start_time": "2023-01-18T09:01:38.190Z"
   },
   {
    "duration": 3561,
    "start_time": "2023-01-18T09:02:10.489Z"
   },
   {
    "duration": 18,
    "start_time": "2023-01-18T09:02:53.937Z"
   },
   {
    "duration": 1550,
    "start_time": "2023-01-18T09:05:32.419Z"
   },
   {
    "duration": 1564,
    "start_time": "2023-01-18T09:05:43.185Z"
   },
   {
    "duration": 165,
    "start_time": "2023-01-18T09:07:14.734Z"
   },
   {
    "duration": 15,
    "start_time": "2023-01-18T09:07:24.876Z"
   },
   {
    "duration": 6,
    "start_time": "2023-01-18T09:07:48.849Z"
   },
   {
    "duration": 368,
    "start_time": "2023-01-18T09:08:23.868Z"
   },
   {
    "duration": 452,
    "start_time": "2023-01-18T09:09:23.841Z"
   },
   {
    "duration": 221,
    "start_time": "2023-01-18T09:10:12.433Z"
   },
   {
    "duration": 1991,
    "start_time": "2023-01-18T09:12:10.766Z"
   },
   {
    "duration": 56,
    "start_time": "2023-01-18T09:13:26.441Z"
   },
   {
    "duration": 68,
    "start_time": "2023-01-18T09:16:07.316Z"
   },
   {
    "duration": 14,
    "start_time": "2023-01-18T09:16:49.898Z"
   },
   {
    "duration": 10,
    "start_time": "2023-01-18T09:16:57.432Z"
   },
   {
    "duration": 9,
    "start_time": "2023-01-18T09:17:08.304Z"
   },
   {
    "duration": 264,
    "start_time": "2023-01-18T09:17:59.810Z"
   },
   {
    "duration": 7,
    "start_time": "2023-01-18T09:18:30.570Z"
   },
   {
    "duration": 1421,
    "start_time": "2023-01-18T09:19:25.621Z"
   },
   {
    "duration": 104242,
    "start_time": "2023-01-18T09:19:46.770Z"
   },
   {
    "duration": 80,
    "start_time": "2023-01-18T09:21:31.014Z"
   },
   {
    "duration": 1494,
    "start_time": "2023-01-18T09:25:34.089Z"
   },
   {
    "duration": 786,
    "start_time": "2023-01-18T09:25:35.585Z"
   },
   {
    "duration": 16,
    "start_time": "2023-01-18T09:25:36.373Z"
   },
   {
    "duration": 142,
    "start_time": "2023-01-18T09:25:36.390Z"
   },
   {
    "duration": 472,
    "start_time": "2023-01-18T09:25:36.534Z"
   },
   {
    "duration": 551,
    "start_time": "2023-01-18T09:25:37.007Z"
   },
   {
    "duration": 61,
    "start_time": "2023-01-18T09:25:37.559Z"
   },
   {
    "duration": 18,
    "start_time": "2023-01-18T09:25:37.622Z"
   },
   {
    "duration": 36,
    "start_time": "2023-01-18T09:25:37.642Z"
   },
   {
    "duration": 1671,
    "start_time": "2023-01-18T09:25:37.680Z"
   },
   {
    "duration": 18,
    "start_time": "2023-01-18T09:25:39.353Z"
   },
   {
    "duration": 12,
    "start_time": "2023-01-18T09:25:39.372Z"
   },
   {
    "duration": 39,
    "start_time": "2023-01-18T09:25:39.386Z"
   },
   {
    "duration": 49,
    "start_time": "2023-01-18T09:25:39.428Z"
   },
   {
    "duration": 92,
    "start_time": "2023-01-18T09:25:39.479Z"
   },
   {
    "duration": 5,
    "start_time": "2023-01-18T09:25:39.572Z"
   },
   {
    "duration": 327,
    "start_time": "2023-01-18T09:25:39.578Z"
   },
   {
    "duration": 1590,
    "start_time": "2023-01-18T09:25:39.907Z"
   },
   {
    "duration": 26,
    "start_time": "2023-01-18T09:25:41.499Z"
   },
   {
    "duration": 46,
    "start_time": "2023-01-18T09:25:41.526Z"
   },
   {
    "duration": 7,
    "start_time": "2023-01-18T09:25:41.574Z"
   },
   {
    "duration": 34,
    "start_time": "2023-01-18T09:25:41.582Z"
   },
   {
    "duration": 60,
    "start_time": "2023-01-18T09:25:41.618Z"
   },
   {
    "duration": 1478,
    "start_time": "2023-01-18T09:25:41.680Z"
   },
   {
    "duration": 254,
    "start_time": "2023-01-18T09:25:43.160Z"
   },
   {
    "duration": 1659,
    "start_time": "2023-01-18T09:25:43.416Z"
   },
   {
    "duration": 19,
    "start_time": "2023-01-18T09:25:45.076Z"
   },
   {
    "duration": 49,
    "start_time": "2023-01-18T09:25:45.096Z"
   },
   {
    "duration": 18,
    "start_time": "2023-01-18T09:25:45.147Z"
   },
   {
    "duration": 1517,
    "start_time": "2023-01-18T09:25:45.167Z"
   },
   {
    "duration": 183,
    "start_time": "2023-01-18T09:25:46.686Z"
   },
   {
    "duration": 16,
    "start_time": "2023-01-18T09:25:46.871Z"
   },
   {
    "duration": 6,
    "start_time": "2023-01-18T09:25:46.889Z"
   },
   {
    "duration": 286,
    "start_time": "2023-01-18T09:25:46.912Z"
   },
   {
    "duration": 583,
    "start_time": "2023-01-18T09:25:47.200Z"
   },
   {
    "duration": 225,
    "start_time": "2023-01-18T09:25:47.785Z"
   },
   {
    "duration": 55,
    "start_time": "2023-01-18T09:25:48.011Z"
   },
   {
    "duration": 13,
    "start_time": "2023-01-18T09:25:48.067Z"
   },
   {
    "duration": 32,
    "start_time": "2023-01-18T09:25:48.082Z"
   },
   {
    "duration": 1326,
    "start_time": "2023-01-18T09:25:48.115Z"
   },
   {
    "duration": 5,
    "start_time": "2023-01-18T09:25:49.444Z"
   },
   {
    "duration": 73,
    "start_time": "2023-01-18T09:25:49.450Z"
   },
   {
    "duration": 3,
    "start_time": "2023-01-18T09:25:49.524Z"
   },
   {
    "duration": 29952,
    "start_time": "2023-01-18T09:25:49.529Z"
   },
   {
    "duration": 14,
    "start_time": "2023-01-18T09:26:19.482Z"
   },
   {
    "duration": 9,
    "start_time": "2023-01-18T09:26:19.498Z"
   },
   {
    "duration": 8894,
    "start_time": "2023-01-18T09:26:19.513Z"
   },
   {
    "duration": 34,
    "start_time": "2023-01-18T09:26:28.409Z"
   },
   {
    "duration": 12,
    "start_time": "2023-01-18T09:26:28.444Z"
   },
   {
    "duration": 28,
    "start_time": "2023-01-18T09:26:28.458Z"
   },
   {
    "duration": 19,
    "start_time": "2023-01-18T09:27:19.005Z"
   },
   {
    "duration": 10,
    "start_time": "2023-01-18T09:27:19.876Z"
   },
   {
    "duration": 162,
    "start_time": "2023-01-18T09:28:03.169Z"
   },
   {
    "duration": 55,
    "start_time": "2023-01-18T09:28:46.764Z"
   },
   {
    "duration": 124,
    "start_time": "2023-01-18T09:29:43.902Z"
   },
   {
    "duration": 10,
    "start_time": "2023-01-18T09:29:45.589Z"
   },
   {
    "duration": 56,
    "start_time": "2023-01-18T09:29:54.338Z"
   },
   {
    "duration": 4,
    "start_time": "2023-01-18T09:31:01.276Z"
   },
   {
    "duration": 4,
    "start_time": "2023-01-18T09:31:17.954Z"
   },
   {
    "duration": 14,
    "start_time": "2023-01-18T09:33:26.331Z"
   },
   {
    "duration": 58,
    "start_time": "2023-01-18T09:33:27.335Z"
   },
   {
    "duration": 19,
    "start_time": "2023-01-18T09:34:17.436Z"
   },
   {
    "duration": 3,
    "start_time": "2023-01-18T09:34:20.390Z"
   },
   {
    "duration": 3,
    "start_time": "2023-01-18T09:34:53.492Z"
   },
   {
    "duration": 3,
    "start_time": "2023-01-18T09:34:54.889Z"
   },
   {
    "duration": 3,
    "start_time": "2023-01-18T09:35:01.878Z"
   },
   {
    "duration": 3,
    "start_time": "2023-01-18T09:35:03.319Z"
   },
   {
    "duration": 2619,
    "start_time": "2023-01-18T09:35:04.561Z"
   },
   {
    "duration": 4,
    "start_time": "2023-01-18T09:35:58.665Z"
   },
   {
    "duration": 5,
    "start_time": "2023-01-18T09:36:17.106Z"
   },
   {
    "duration": 17,
    "start_time": "2023-01-18T09:36:33.636Z"
   },
   {
    "duration": 17,
    "start_time": "2023-01-18T09:36:39.658Z"
   },
   {
    "duration": 3,
    "start_time": "2023-01-18T09:36:43.070Z"
   },
   {
    "duration": 3,
    "start_time": "2023-01-18T09:36:46.116Z"
   },
   {
    "duration": 3,
    "start_time": "2023-01-18T09:36:46.529Z"
   },
   {
    "duration": 2,
    "start_time": "2023-01-18T09:36:49.348Z"
   },
   {
    "duration": 3,
    "start_time": "2023-01-18T09:36:50.531Z"
   },
   {
    "duration": 887,
    "start_time": "2023-01-18T09:36:51.450Z"
   },
   {
    "duration": 18,
    "start_time": "2023-01-18T09:37:25.009Z"
   },
   {
    "duration": 3,
    "start_time": "2023-01-18T09:37:25.925Z"
   },
   {
    "duration": 2,
    "start_time": "2023-01-18T09:37:28.708Z"
   },
   {
    "duration": 2,
    "start_time": "2023-01-18T09:37:29.117Z"
   },
   {
    "duration": 3,
    "start_time": "2023-01-18T09:37:31.812Z"
   },
   {
    "duration": 3,
    "start_time": "2023-01-18T09:37:32.246Z"
   },
   {
    "duration": 157,
    "start_time": "2023-01-18T09:37:32.617Z"
   },
   {
    "duration": 3,
    "start_time": "2023-01-18T09:38:01.929Z"
   },
   {
    "duration": 2,
    "start_time": "2023-01-18T09:38:04.470Z"
   },
   {
    "duration": 3,
    "start_time": "2023-01-18T09:38:04.830Z"
   },
   {
    "duration": 3,
    "start_time": "2023-01-18T09:38:05.529Z"
   },
   {
    "duration": 3,
    "start_time": "2023-01-18T09:38:06.009Z"
   },
   {
    "duration": 97364,
    "start_time": "2023-01-18T09:38:06.750Z"
   },
   {
    "duration": 108,
    "start_time": "2023-01-18T09:44:49.498Z"
   },
   {
    "duration": 10,
    "start_time": "2023-01-18T09:44:55.913Z"
   },
   {
    "duration": 3458,
    "start_time": "2023-01-18T09:45:10.598Z"
   },
   {
    "duration": 4,
    "start_time": "2023-01-18T09:45:25.649Z"
   },
   {
    "duration": 3,
    "start_time": "2023-01-18T09:45:31.570Z"
   },
   {
    "duration": 3,
    "start_time": "2023-01-18T09:45:31.914Z"
   },
   {
    "duration": 4,
    "start_time": "2023-01-18T09:45:35.869Z"
   },
   {
    "duration": 4,
    "start_time": "2023-01-18T09:45:36.231Z"
   },
   {
    "duration": 212,
    "start_time": "2023-01-18T09:45:36.771Z"
   },
   {
    "duration": 3,
    "start_time": "2023-01-18T09:46:27.626Z"
   },
   {
    "duration": 3,
    "start_time": "2023-01-18T09:47:23.785Z"
   },
   {
    "duration": 2,
    "start_time": "2023-01-18T09:47:24.146Z"
   },
   {
    "duration": 171,
    "start_time": "2023-01-18T09:47:24.582Z"
   },
   {
    "duration": 3,
    "start_time": "2023-01-18T09:47:39.086Z"
   },
   {
    "duration": 2,
    "start_time": "2023-01-18T09:47:41.982Z"
   },
   {
    "duration": 3,
    "start_time": "2023-01-18T09:47:42.408Z"
   },
   {
    "duration": 3,
    "start_time": "2023-01-18T09:47:45.010Z"
   },
   {
    "duration": 3,
    "start_time": "2023-01-18T09:47:45.380Z"
   },
   {
    "duration": 124237,
    "start_time": "2023-01-18T09:47:45.777Z"
   },
   {
    "duration": 23,
    "start_time": "2023-01-18T09:53:38.378Z"
   },
   {
    "duration": 63,
    "start_time": "2023-01-18T09:53:39.025Z"
   },
   {
    "duration": 18,
    "start_time": "2023-01-18T09:53:39.574Z"
   },
   {
    "duration": 3,
    "start_time": "2023-01-18T09:53:40.076Z"
   },
   {
    "duration": 3,
    "start_time": "2023-01-18T09:53:44.374Z"
   },
   {
    "duration": 3,
    "start_time": "2023-01-18T09:53:45.373Z"
   },
   {
    "duration": 4,
    "start_time": "2023-01-18T09:53:47.925Z"
   },
   {
    "duration": 4,
    "start_time": "2023-01-18T09:53:48.381Z"
   },
   {
    "duration": 125022,
    "start_time": "2023-01-18T09:53:48.792Z"
   },
   {
    "duration": 15,
    "start_time": "2023-01-18T09:59:55.663Z"
   },
   {
    "duration": 4,
    "start_time": "2023-01-18T10:00:17.509Z"
   },
   {
    "duration": 12,
    "start_time": "2023-01-18T10:00:26.365Z"
   },
   {
    "duration": 98250,
    "start_time": "2023-01-18T10:01:08.685Z"
   },
   {
    "duration": 1442,
    "start_time": "2023-01-18T10:04:11.917Z"
   },
   {
    "duration": 806,
    "start_time": "2023-01-18T10:04:13.361Z"
   },
   {
    "duration": 18,
    "start_time": "2023-01-18T10:04:14.168Z"
   },
   {
    "duration": 118,
    "start_time": "2023-01-18T10:04:14.188Z"
   },
   {
    "duration": 479,
    "start_time": "2023-01-18T10:04:14.313Z"
   },
   {
    "duration": 506,
    "start_time": "2023-01-18T10:04:14.794Z"
   },
   {
    "duration": 3,
    "start_time": "2023-01-18T10:04:15.302Z"
   },
   {
    "duration": 21,
    "start_time": "2023-01-18T10:04:15.312Z"
   },
   {
    "duration": 1738,
    "start_time": "2023-01-18T10:04:15.334Z"
   },
   {
    "duration": 24,
    "start_time": "2023-01-18T10:04:17.075Z"
   },
   {
    "duration": 33,
    "start_time": "2023-01-18T10:04:17.114Z"
   },
   {
    "duration": 54,
    "start_time": "2023-01-18T10:04:17.150Z"
   },
   {
    "duration": 73,
    "start_time": "2023-01-18T10:04:17.206Z"
   },
   {
    "duration": 136,
    "start_time": "2023-01-18T10:04:17.281Z"
   },
   {
    "duration": 19,
    "start_time": "2023-01-18T10:04:17.419Z"
   },
   {
    "duration": 323,
    "start_time": "2023-01-18T10:04:17.440Z"
   },
   {
    "duration": 1620,
    "start_time": "2023-01-18T10:04:17.765Z"
   },
   {
    "duration": 18,
    "start_time": "2023-01-18T10:04:19.386Z"
   },
   {
    "duration": 60,
    "start_time": "2023-01-18T10:04:19.405Z"
   },
   {
    "duration": 7,
    "start_time": "2023-01-18T10:04:19.467Z"
   },
   {
    "duration": 30,
    "start_time": "2023-01-18T10:04:19.476Z"
   },
   {
    "duration": 60,
    "start_time": "2023-01-18T10:04:19.508Z"
   },
   {
    "duration": 1578,
    "start_time": "2023-01-18T10:04:19.570Z"
   },
   {
    "duration": 246,
    "start_time": "2023-01-18T10:04:21.149Z"
   },
   {
    "duration": 1683,
    "start_time": "2023-01-18T10:04:21.397Z"
   },
   {
    "duration": 19,
    "start_time": "2023-01-18T10:04:23.081Z"
   },
   {
    "duration": 81,
    "start_time": "2023-01-18T10:04:23.101Z"
   },
   {
    "duration": 19,
    "start_time": "2023-01-18T10:04:23.185Z"
   },
   {
    "duration": 1548,
    "start_time": "2023-01-18T10:04:23.206Z"
   },
   {
    "duration": 187,
    "start_time": "2023-01-18T10:04:24.755Z"
   },
   {
    "duration": 17,
    "start_time": "2023-01-18T10:04:24.944Z"
   },
   {
    "duration": 20,
    "start_time": "2023-01-18T10:04:24.963Z"
   },
   {
    "duration": 261,
    "start_time": "2023-01-18T10:04:24.985Z"
   },
   {
    "duration": 555,
    "start_time": "2023-01-18T10:04:25.247Z"
   },
   {
    "duration": 237,
    "start_time": "2023-01-18T10:04:25.804Z"
   },
   {
    "duration": 54,
    "start_time": "2023-01-18T10:04:26.043Z"
   },
   {
    "duration": 24,
    "start_time": "2023-01-18T10:04:26.098Z"
   },
   {
    "duration": 8,
    "start_time": "2023-01-18T10:04:26.123Z"
   },
   {
    "duration": 1297,
    "start_time": "2023-01-18T10:04:26.133Z"
   },
   {
    "duration": 6,
    "start_time": "2023-01-18T10:04:27.432Z"
   },
   {
    "duration": 76,
    "start_time": "2023-01-18T10:04:27.440Z"
   },
   {
    "duration": 4,
    "start_time": "2023-01-18T10:04:27.518Z"
   },
   {
    "duration": 31439,
    "start_time": "2023-01-18T10:04:27.524Z"
   },
   {
    "duration": 14,
    "start_time": "2023-01-18T10:04:58.965Z"
   },
   {
    "duration": 5,
    "start_time": "2023-01-18T10:04:58.981Z"
   },
   {
    "duration": 8887,
    "start_time": "2023-01-18T10:04:58.987Z"
   },
   {
    "duration": 38,
    "start_time": "2023-01-18T10:05:07.875Z"
   },
   {
    "duration": 13,
    "start_time": "2023-01-18T10:05:07.915Z"
   },
   {
    "duration": 37,
    "start_time": "2023-01-18T10:05:07.931Z"
   },
   {
    "duration": 43,
    "start_time": "2023-01-18T10:05:07.970Z"
   },
   {
    "duration": 12,
    "start_time": "2023-01-18T10:05:08.015Z"
   },
   {
    "duration": 67,
    "start_time": "2023-01-18T10:05:08.029Z"
   },
   {
    "duration": 153,
    "start_time": "2023-01-18T10:05:08.098Z"
   },
   {
    "duration": 11,
    "start_time": "2023-01-18T10:05:08.253Z"
   },
   {
    "duration": 18,
    "start_time": "2023-01-18T10:05:08.266Z"
   },
   {
    "duration": 12,
    "start_time": "2023-01-18T10:05:08.286Z"
   },
   {
    "duration": 24,
    "start_time": "2023-01-18T10:05:08.300Z"
   },
   {
    "duration": 76,
    "start_time": "2023-01-18T10:05:08.326Z"
   },
   {
    "duration": 22,
    "start_time": "2023-01-18T10:05:08.404Z"
   },
   {
    "duration": 3,
    "start_time": "2023-01-18T10:05:08.428Z"
   },
   {
    "duration": 11,
    "start_time": "2023-01-18T10:05:08.433Z"
   },
   {
    "duration": 8,
    "start_time": "2023-01-18T10:05:08.445Z"
   },
   {
    "duration": 37,
    "start_time": "2023-01-18T10:05:08.454Z"
   },
   {
    "duration": 6,
    "start_time": "2023-01-18T10:05:08.493Z"
   },
   {
    "duration": 120913,
    "start_time": "2023-01-18T10:05:08.501Z"
   },
   {
    "duration": 120,
    "start_time": "2023-01-18T10:12:34.569Z"
   },
   {
    "duration": 4,
    "start_time": "2023-01-18T10:13:00.708Z"
   },
   {
    "duration": 500,
    "start_time": "2023-01-18T10:13:09.269Z"
   },
   {
    "duration": 3,
    "start_time": "2023-01-18T10:13:20.888Z"
   },
   {
    "duration": 86,
    "start_time": "2023-01-18T10:14:30.947Z"
   },
   {
    "duration": 413,
    "start_time": "2023-01-18T10:15:32.850Z"
   },
   {
    "duration": 2,
    "start_time": "2023-01-18T10:15:34.745Z"
   },
   {
    "duration": 82,
    "start_time": "2023-01-18T10:15:39.122Z"
   },
   {
    "duration": 28421,
    "start_time": "2023-01-18T10:16:05.939Z"
   },
   {
    "duration": 11,
    "start_time": "2023-01-18T10:19:44.678Z"
   },
   {
    "duration": 4,
    "start_time": "2023-01-18T10:20:02.119Z"
   },
   {
    "duration": 4,
    "start_time": "2023-01-18T10:20:18.070Z"
   },
   {
    "duration": 3,
    "start_time": "2023-01-18T10:20:32.021Z"
   },
   {
    "duration": 5,
    "start_time": "2023-01-18T10:20:40.044Z"
   },
   {
    "duration": 5,
    "start_time": "2023-01-18T10:20:50.003Z"
   },
   {
    "duration": 4,
    "start_time": "2023-01-18T10:21:12.235Z"
   },
   {
    "duration": 4,
    "start_time": "2023-01-18T10:21:44.773Z"
   },
   {
    "duration": 4,
    "start_time": "2023-01-18T10:22:00.020Z"
   },
   {
    "duration": 3,
    "start_time": "2023-01-18T10:24:44.153Z"
   },
   {
    "duration": 1342560,
    "start_time": "2023-01-18T10:25:04.812Z"
   },
   {
    "duration": 49,
    "start_time": "2023-01-18T16:21:10.450Z"
   },
   {
    "duration": 1786,
    "start_time": "2023-01-23T05:25:44.317Z"
   },
   {
    "duration": 2991,
    "start_time": "2023-01-23T05:25:46.106Z"
   },
   {
    "duration": 18,
    "start_time": "2023-01-23T05:25:49.099Z"
   },
   {
    "duration": 142,
    "start_time": "2023-01-23T05:25:49.119Z"
   },
   {
    "duration": 505,
    "start_time": "2023-01-23T05:25:49.263Z"
   },
   {
    "duration": 523,
    "start_time": "2023-01-23T05:25:49.770Z"
   },
   {
    "duration": 4,
    "start_time": "2023-01-23T05:25:50.294Z"
   },
   {
    "duration": 7,
    "start_time": "2023-01-23T05:25:50.299Z"
   },
   {
    "duration": 1793,
    "start_time": "2023-01-23T05:25:50.307Z"
   },
   {
    "duration": 18,
    "start_time": "2023-01-23T05:25:52.103Z"
   },
   {
    "duration": 22,
    "start_time": "2023-01-23T05:25:52.123Z"
   },
   {
    "duration": 25,
    "start_time": "2023-01-23T05:25:52.147Z"
   },
   {
    "duration": 65,
    "start_time": "2023-01-23T05:25:52.173Z"
   },
   {
    "duration": 211,
    "start_time": "2023-01-23T05:25:52.240Z"
   },
   {
    "duration": 7,
    "start_time": "2023-01-23T05:25:52.454Z"
   },
   {
    "duration": 811,
    "start_time": "2023-01-23T05:25:52.463Z"
   },
   {
    "duration": 2251,
    "start_time": "2023-01-23T05:25:53.276Z"
   },
   {
    "duration": 22,
    "start_time": "2023-01-23T05:25:55.529Z"
   },
   {
    "duration": 48,
    "start_time": "2023-01-23T05:25:55.552Z"
   },
   {
    "duration": 7,
    "start_time": "2023-01-23T05:25:55.602Z"
   },
   {
    "duration": 32,
    "start_time": "2023-01-23T05:25:55.611Z"
   },
   {
    "duration": 51,
    "start_time": "2023-01-23T05:25:55.644Z"
   },
   {
    "duration": 1647,
    "start_time": "2023-01-23T05:25:55.697Z"
   },
   {
    "duration": 305,
    "start_time": "2023-01-23T05:25:57.346Z"
   },
   {
    "duration": 1690,
    "start_time": "2023-01-23T05:25:57.653Z"
   },
   {
    "duration": 18,
    "start_time": "2023-01-23T05:25:59.345Z"
   },
   {
    "duration": 43,
    "start_time": "2023-01-23T05:25:59.365Z"
   },
   {
    "duration": 43,
    "start_time": "2023-01-23T05:25:59.412Z"
   },
   {
    "duration": 1671,
    "start_time": "2023-01-23T05:25:59.457Z"
   },
   {
    "duration": 197,
    "start_time": "2023-01-23T05:26:01.130Z"
   },
   {
    "duration": 23,
    "start_time": "2023-01-23T05:26:01.329Z"
   },
   {
    "duration": 15,
    "start_time": "2023-01-23T05:26:01.354Z"
   },
   {
    "duration": 357,
    "start_time": "2023-01-23T05:26:01.371Z"
   },
   {
    "duration": 632,
    "start_time": "2023-01-23T05:26:01.729Z"
   },
   {
    "duration": 349,
    "start_time": "2023-01-23T05:26:02.363Z"
   },
   {
    "duration": 67,
    "start_time": "2023-01-23T05:26:02.713Z"
   },
   {
    "duration": 13,
    "start_time": "2023-01-23T05:26:02.782Z"
   },
   {
    "duration": 7,
    "start_time": "2023-01-23T05:26:02.796Z"
   },
   {
    "duration": 1470,
    "start_time": "2023-01-23T05:26:02.805Z"
   },
   {
    "duration": 6,
    "start_time": "2023-01-23T05:26:04.276Z"
   },
   {
    "duration": 84,
    "start_time": "2023-01-23T05:26:04.284Z"
   },
   {
    "duration": 4,
    "start_time": "2023-01-23T05:26:04.370Z"
   },
   {
    "duration": 31529,
    "start_time": "2023-01-23T05:26:04.376Z"
   },
   {
    "duration": 15,
    "start_time": "2023-01-23T05:26:35.907Z"
   },
   {
    "duration": 16,
    "start_time": "2023-01-23T05:26:35.924Z"
   },
   {
    "duration": 9151,
    "start_time": "2023-01-23T05:26:35.942Z"
   },
   {
    "duration": 31,
    "start_time": "2023-01-23T05:26:45.095Z"
   },
   {
    "duration": 11,
    "start_time": "2023-01-23T05:26:45.137Z"
   },
   {
    "duration": 27,
    "start_time": "2023-01-23T05:26:45.149Z"
   },
   {
    "duration": 22,
    "start_time": "2023-01-23T05:26:45.177Z"
   },
   {
    "duration": 37,
    "start_time": "2023-01-23T05:26:45.201Z"
   },
   {
    "duration": 74,
    "start_time": "2023-01-23T05:26:45.240Z"
   },
   {
    "duration": 171,
    "start_time": "2023-01-23T05:26:45.315Z"
   },
   {
    "duration": 11,
    "start_time": "2023-01-23T05:26:45.487Z"
   },
   {
    "duration": 7,
    "start_time": "2023-01-23T05:26:45.499Z"
   },
   {
    "duration": 5,
    "start_time": "2023-01-23T05:26:45.507Z"
   },
   {
    "duration": 34,
    "start_time": "2023-01-23T05:26:45.514Z"
   },
   {
    "duration": 62,
    "start_time": "2023-01-23T05:26:45.550Z"
   },
   {
    "duration": 34,
    "start_time": "2023-01-23T05:26:45.614Z"
   },
   {
    "duration": 3,
    "start_time": "2023-01-23T05:26:45.650Z"
   },
   {
    "duration": 7,
    "start_time": "2023-01-23T05:26:45.655Z"
   },
   {
    "duration": 5,
    "start_time": "2023-01-23T05:26:45.664Z"
   },
   {
    "duration": 6,
    "start_time": "2023-01-23T05:26:45.670Z"
   },
   {
    "duration": 5,
    "start_time": "2023-01-23T05:26:45.678Z"
   },
   {
    "duration": 109556,
    "start_time": "2023-01-23T05:26:45.685Z"
   },
   {
    "duration": 94,
    "start_time": "2023-01-23T05:28:35.243Z"
   },
   {
    "duration": 457,
    "start_time": "2023-01-23T05:28:35.340Z"
   },
   {
    "duration": 3,
    "start_time": "2023-01-23T05:28:35.799Z"
   },
   {
    "duration": 30948,
    "start_time": "2023-01-23T05:28:35.804Z"
   },
   {
    "duration": 5,
    "start_time": "2023-01-23T05:29:06.753Z"
   },
   {
    "duration": 23,
    "start_time": "2023-01-23T05:29:06.759Z"
   },
   {
    "duration": 12,
    "start_time": "2023-01-23T05:29:06.783Z"
   },
   {
    "duration": 1478838,
    "start_time": "2023-01-23T05:29:06.797Z"
   },
   {
    "duration": 4,
    "start_time": "2023-01-23T05:53:45.638Z"
   },
   {
    "duration": 25,
    "start_time": "2023-01-23T05:53:45.644Z"
   },
   {
    "duration": 13,
    "start_time": "2023-01-23T05:53:45.671Z"
   },
   {
    "duration": 14,
    "start_time": "2023-01-23T05:53:45.686Z"
   },
   {
    "duration": 1557980,
    "start_time": "2023-01-23T05:53:45.702Z"
   },
   {
    "duration": 4,
    "start_time": "2023-01-23T06:19:43.685Z"
   },
   {
    "duration": 8,
    "start_time": "2023-01-23T06:19:43.691Z"
   },
   {
    "duration": 6,
    "start_time": "2023-01-23T06:19:43.700Z"
   },
   {
    "duration": 2,
    "start_time": "2023-01-23T06:19:43.713Z"
   },
   {
    "duration": 113401,
    "start_time": "2023-01-23T06:19:43.737Z"
   },
   {
    "duration": 4,
    "start_time": "2023-01-23T06:21:37.140Z"
   },
   {
    "duration": 10,
    "start_time": "2023-01-23T06:21:37.145Z"
   },
   {
    "duration": 12,
    "start_time": "2023-01-23T06:21:37.157Z"
   },
   {
    "duration": 23478,
    "start_time": "2023-01-23T06:21:37.171Z"
   },
   {
    "duration": 392,
    "start_time": "2023-01-23T06:22:00.651Z"
   },
   {
    "duration": 191,
    "start_time": "2023-01-23T06:22:01.047Z"
   },
   {
    "duration": 45,
    "start_time": "2023-01-23T06:22:01.240Z"
   },
   {
    "duration": 13357,
    "start_time": "2023-01-23T06:22:01.288Z"
   },
   {
    "duration": 402,
    "start_time": "2023-01-23T06:22:14.647Z"
   },
   {
    "duration": 6,
    "start_time": "2023-01-23T06:22:15.051Z"
   },
   {
    "duration": 17,
    "start_time": "2023-01-23T06:22:15.059Z"
   },
   {
    "duration": 402161,
    "start_time": "2023-01-23T06:22:15.078Z"
   },
   {
    "duration": 1460,
    "start_time": "2023-01-23T06:28:57.241Z"
   },
   {
    "duration": 6,
    "start_time": "2023-01-23T06:28:58.703Z"
   },
   {
    "duration": 12,
    "start_time": "2023-01-23T06:28:58.711Z"
   },
   {
    "duration": 117477,
    "start_time": "2023-01-23T06:28:58.724Z"
   },
   {
    "duration": 167,
    "start_time": "2023-01-23T06:30:56.203Z"
   },
   {
    "duration": 5,
    "start_time": "2023-01-23T06:30:56.372Z"
   },
   {
    "duration": 15,
    "start_time": "2023-01-23T06:30:56.379Z"
   },
   {
    "duration": 8845,
    "start_time": "2023-01-23T06:30:56.396Z"
   },
   {
    "duration": 914,
    "start_time": "2023-01-23T06:31:05.243Z"
   },
   {
    "duration": 82,
    "start_time": "2023-01-23T06:31:06.159Z"
   },
   {
    "duration": 1616,
    "start_time": "2023-01-23T06:47:44.789Z"
   },
   {
    "duration": 885,
    "start_time": "2023-01-23T06:47:46.407Z"
   },
   {
    "duration": 20,
    "start_time": "2023-01-23T06:47:47.294Z"
   },
   {
    "duration": 183,
    "start_time": "2023-01-23T06:47:47.316Z"
   },
   {
    "duration": 523,
    "start_time": "2023-01-23T06:47:47.501Z"
   },
   {
    "duration": 606,
    "start_time": "2023-01-23T06:47:48.026Z"
   },
   {
    "duration": 4,
    "start_time": "2023-01-23T06:47:48.634Z"
   },
   {
    "duration": 16,
    "start_time": "2023-01-23T06:47:48.640Z"
   },
   {
    "duration": 2940,
    "start_time": "2023-01-23T06:47:48.657Z"
   },
   {
    "duration": 19,
    "start_time": "2023-01-23T06:47:51.600Z"
   },
   {
    "duration": 3,
    "start_time": "2023-01-23T06:47:51.620Z"
   },
   {
    "duration": 35,
    "start_time": "2023-01-23T06:47:51.637Z"
   },
   {
    "duration": 41,
    "start_time": "2023-01-23T06:47:51.673Z"
   },
   {
    "duration": 153,
    "start_time": "2023-01-23T06:47:51.715Z"
   },
   {
    "duration": 5,
    "start_time": "2023-01-23T06:47:51.870Z"
   },
   {
    "duration": 375,
    "start_time": "2023-01-23T06:47:51.877Z"
   },
   {
    "duration": 1690,
    "start_time": "2023-01-23T06:47:52.254Z"
   },
   {
    "duration": 17,
    "start_time": "2023-01-23T06:47:53.946Z"
   },
   {
    "duration": 53,
    "start_time": "2023-01-23T06:47:53.964Z"
   },
   {
    "duration": 23,
    "start_time": "2023-01-23T06:47:54.019Z"
   },
   {
    "duration": 11,
    "start_time": "2023-01-23T06:47:54.043Z"
   },
   {
    "duration": 65,
    "start_time": "2023-01-23T06:47:54.057Z"
   },
   {
    "duration": 1604,
    "start_time": "2023-01-23T06:47:54.124Z"
   },
   {
    "duration": 302,
    "start_time": "2023-01-23T06:47:55.730Z"
   },
   {
    "duration": 1702,
    "start_time": "2023-01-23T06:47:56.037Z"
   },
   {
    "duration": 19,
    "start_time": "2023-01-23T06:47:57.741Z"
   },
   {
    "duration": 57,
    "start_time": "2023-01-23T06:47:57.761Z"
   },
   {
    "duration": 21,
    "start_time": "2023-01-23T06:47:57.822Z"
   },
   {
    "duration": 1657,
    "start_time": "2023-01-23T06:47:57.844Z"
   },
   {
    "duration": 226,
    "start_time": "2023-01-23T06:47:59.504Z"
   },
   {
    "duration": 20,
    "start_time": "2023-01-23T06:47:59.732Z"
   },
   {
    "duration": 13,
    "start_time": "2023-01-23T06:47:59.754Z"
   },
   {
    "duration": 372,
    "start_time": "2023-01-23T06:47:59.769Z"
   },
   {
    "duration": 645,
    "start_time": "2023-01-23T06:48:00.144Z"
   },
   {
    "duration": 280,
    "start_time": "2023-01-23T06:48:00.791Z"
   },
   {
    "duration": 73,
    "start_time": "2023-01-23T06:48:01.073Z"
   },
   {
    "duration": 13,
    "start_time": "2023-01-23T06:48:01.148Z"
   },
   {
    "duration": 16,
    "start_time": "2023-01-23T06:48:01.163Z"
   },
   {
    "duration": 1488,
    "start_time": "2023-01-23T06:48:01.180Z"
   },
   {
    "duration": 5,
    "start_time": "2023-01-23T06:48:02.670Z"
   },
   {
    "duration": 108,
    "start_time": "2023-01-23T06:48:02.677Z"
   },
   {
    "duration": 20,
    "start_time": "2023-01-23T06:48:02.787Z"
   },
   {
    "duration": 32100,
    "start_time": "2023-01-23T06:48:02.809Z"
   },
   {
    "duration": 17,
    "start_time": "2023-01-23T06:48:34.911Z"
   },
   {
    "duration": 10,
    "start_time": "2023-01-23T06:48:34.930Z"
   },
   {
    "duration": 9432,
    "start_time": "2023-01-23T06:48:34.943Z"
   },
   {
    "duration": 36,
    "start_time": "2023-01-23T06:48:44.377Z"
   },
   {
    "duration": 31,
    "start_time": "2023-01-23T06:48:44.415Z"
   },
   {
    "duration": 29,
    "start_time": "2023-01-23T06:48:44.447Z"
   },
   {
    "duration": 17,
    "start_time": "2023-01-23T06:48:44.477Z"
   },
   {
    "duration": 12,
    "start_time": "2023-01-23T06:48:44.496Z"
   },
   {
    "duration": 102,
    "start_time": "2023-01-23T06:48:44.510Z"
   },
   {
    "duration": 167,
    "start_time": "2023-01-23T06:48:44.615Z"
   },
   {
    "duration": 11,
    "start_time": "2023-01-23T06:48:44.784Z"
   },
   {
    "duration": 19,
    "start_time": "2023-01-23T06:48:44.797Z"
   },
   {
    "duration": 14,
    "start_time": "2023-01-23T06:48:44.818Z"
   },
   {
    "duration": 21,
    "start_time": "2023-01-23T06:48:44.837Z"
   },
   {
    "duration": 64,
    "start_time": "2023-01-23T06:48:44.860Z"
   },
   {
    "duration": 18,
    "start_time": "2023-01-23T06:48:44.926Z"
   },
   {
    "duration": 3,
    "start_time": "2023-01-23T06:48:44.946Z"
   },
   {
    "duration": 9,
    "start_time": "2023-01-23T06:48:44.951Z"
   },
   {
    "duration": 15,
    "start_time": "2023-01-23T06:48:44.962Z"
   },
   {
    "duration": 10,
    "start_time": "2023-01-23T06:48:44.978Z"
   },
   {
    "duration": 10,
    "start_time": "2023-01-23T06:48:44.990Z"
   },
   {
    "duration": 101644,
    "start_time": "2023-01-23T06:48:45.002Z"
   },
   {
    "duration": 92,
    "start_time": "2023-01-23T06:50:26.647Z"
   },
   {
    "duration": 502,
    "start_time": "2023-01-23T06:50:26.741Z"
   },
   {
    "duration": 3,
    "start_time": "2023-01-23T06:50:27.245Z"
   },
   {
    "duration": 31865,
    "start_time": "2023-01-23T06:50:27.250Z"
   },
   {
    "duration": 4,
    "start_time": "2023-01-23T06:50:59.116Z"
   },
   {
    "duration": 23,
    "start_time": "2023-01-23T06:50:59.122Z"
   },
   {
    "duration": 22,
    "start_time": "2023-01-23T06:50:59.147Z"
   },
   {
    "duration": 1258138,
    "start_time": "2023-01-23T06:50:59.171Z"
   },
   {
    "duration": 4,
    "start_time": "2023-01-23T07:11:57.311Z"
   },
   {
    "duration": 12,
    "start_time": "2023-01-23T07:11:57.317Z"
   },
   {
    "duration": 4,
    "start_time": "2023-01-23T07:11:57.337Z"
   },
   {
    "duration": 8,
    "start_time": "2023-01-23T07:11:57.343Z"
   },
   {
    "duration": 862375,
    "start_time": "2023-01-23T07:11:57.353Z"
   },
   {
    "duration": 10,
    "start_time": "2023-01-23T07:26:19.730Z"
   },
   {
    "duration": 23,
    "start_time": "2023-01-23T07:26:19.742Z"
   },
   {
    "duration": 24,
    "start_time": "2023-01-23T07:26:19.767Z"
   },
   {
    "duration": 13,
    "start_time": "2023-01-23T07:26:19.797Z"
   },
   {
    "duration": 703642,
    "start_time": "2023-01-23T07:26:19.812Z"
   },
   {
    "duration": 83,
    "start_time": "2023-01-23T07:38:03.456Z"
   },
   {
    "duration": 18,
    "start_time": "2023-01-23T07:38:03.541Z"
   },
   {
    "duration": 8,
    "start_time": "2023-01-23T07:38:03.561Z"
   },
   {
    "duration": 25585,
    "start_time": "2023-01-23T07:38:03.571Z"
   },
   {
    "duration": 483,
    "start_time": "2023-01-23T07:38:29.158Z"
   },
   {
    "duration": 93,
    "start_time": "2023-01-23T07:38:29.647Z"
   },
   {
    "duration": 18,
    "start_time": "2023-01-23T07:38:29.742Z"
   },
   {
    "duration": 14276,
    "start_time": "2023-01-23T07:38:29.761Z"
   },
   {
    "duration": 416,
    "start_time": "2023-01-23T07:38:44.039Z"
   },
   {
    "duration": 6,
    "start_time": "2023-01-23T07:38:44.457Z"
   },
   {
    "duration": 10,
    "start_time": "2023-01-23T07:38:44.465Z"
   },
   {
    "duration": 1533,
    "start_time": "2023-01-23T07:43:27.385Z"
   },
   {
    "duration": 864,
    "start_time": "2023-01-23T07:43:28.920Z"
   },
   {
    "duration": 17,
    "start_time": "2023-01-23T07:43:29.786Z"
   },
   {
    "duration": 152,
    "start_time": "2023-01-23T07:43:29.804Z"
   },
   {
    "duration": 515,
    "start_time": "2023-01-23T07:43:29.958Z"
   },
   {
    "duration": 556,
    "start_time": "2023-01-23T07:43:30.475Z"
   },
   {
    "duration": 5,
    "start_time": "2023-01-23T07:43:31.033Z"
   },
   {
    "duration": 21,
    "start_time": "2023-01-23T07:43:31.040Z"
   },
   {
    "duration": 1834,
    "start_time": "2023-01-23T07:43:31.062Z"
   },
   {
    "duration": 19,
    "start_time": "2023-01-23T07:43:32.897Z"
   },
   {
    "duration": 3,
    "start_time": "2023-01-23T07:43:32.917Z"
   },
   {
    "duration": 55,
    "start_time": "2023-01-23T07:43:32.921Z"
   },
   {
    "duration": 3,
    "start_time": "2023-01-23T07:43:32.977Z"
   },
   {
    "duration": 81,
    "start_time": "2023-01-23T07:43:32.983Z"
   },
   {
    "duration": 98,
    "start_time": "2023-01-23T07:43:33.066Z"
   },
   {
    "duration": 5,
    "start_time": "2023-01-23T07:43:33.166Z"
   },
   {
    "duration": 331,
    "start_time": "2023-01-23T07:43:33.172Z"
   },
   {
    "duration": 1601,
    "start_time": "2023-01-23T07:43:33.505Z"
   },
   {
    "duration": 14,
    "start_time": "2023-01-23T07:43:35.108Z"
   },
   {
    "duration": 50,
    "start_time": "2023-01-23T07:43:35.124Z"
   },
   {
    "duration": 6,
    "start_time": "2023-01-23T07:43:35.176Z"
   },
   {
    "duration": 27,
    "start_time": "2023-01-23T07:43:35.184Z"
   },
   {
    "duration": 49,
    "start_time": "2023-01-23T07:43:35.212Z"
   },
   {
    "duration": 1342,
    "start_time": "2023-01-23T07:43:35.263Z"
   },
   {
    "duration": 285,
    "start_time": "2023-01-23T07:43:36.606Z"
   },
   {
    "duration": 1600,
    "start_time": "2023-01-23T07:43:36.893Z"
   },
   {
    "duration": 18,
    "start_time": "2023-01-23T07:43:38.494Z"
   },
   {
    "duration": 53,
    "start_time": "2023-01-23T07:43:38.514Z"
   },
   {
    "duration": 20,
    "start_time": "2023-01-23T07:43:38.570Z"
   },
   {
    "duration": 1374,
    "start_time": "2023-01-23T07:43:38.592Z"
   },
   {
    "duration": 206,
    "start_time": "2023-01-23T07:43:39.968Z"
   },
   {
    "duration": 15,
    "start_time": "2023-01-23T07:43:40.176Z"
   },
   {
    "duration": 6,
    "start_time": "2023-01-23T07:43:40.193Z"
   },
   {
    "duration": 305,
    "start_time": "2023-01-23T07:43:40.200Z"
   },
   {
    "duration": 598,
    "start_time": "2023-01-23T07:43:40.507Z"
   },
   {
    "duration": 240,
    "start_time": "2023-01-23T07:43:41.107Z"
   },
   {
    "duration": 65,
    "start_time": "2023-01-23T07:43:41.349Z"
   },
   {
    "duration": 29,
    "start_time": "2023-01-23T07:43:41.416Z"
   },
   {
    "duration": 26,
    "start_time": "2023-01-23T07:43:41.447Z"
   },
   {
    "duration": 1208,
    "start_time": "2023-01-23T07:43:41.475Z"
   },
   {
    "duration": 7,
    "start_time": "2023-01-23T07:43:42.689Z"
   },
   {
    "duration": 80,
    "start_time": "2023-01-23T07:43:42.698Z"
   },
   {
    "duration": 3,
    "start_time": "2023-01-23T07:43:42.780Z"
   },
   {
    "duration": 24304,
    "start_time": "2023-01-23T07:43:42.785Z"
   },
   {
    "duration": 16,
    "start_time": "2023-01-23T07:44:07.091Z"
   },
   {
    "duration": 13,
    "start_time": "2023-01-23T07:44:07.109Z"
   },
   {
    "duration": 7649,
    "start_time": "2023-01-23T07:44:07.123Z"
   },
   {
    "duration": 32,
    "start_time": "2023-01-23T07:44:14.775Z"
   },
   {
    "duration": 10,
    "start_time": "2023-01-23T07:44:14.808Z"
   },
   {
    "duration": 40,
    "start_time": "2023-01-23T07:44:14.820Z"
   },
   {
    "duration": 14,
    "start_time": "2023-01-23T07:44:14.862Z"
   },
   {
    "duration": 14,
    "start_time": "2023-01-23T07:44:14.878Z"
   },
   {
    "duration": 84,
    "start_time": "2023-01-23T07:44:14.894Z"
   },
   {
    "duration": 143,
    "start_time": "2023-01-23T07:44:14.980Z"
   },
   {
    "duration": 15,
    "start_time": "2023-01-23T07:44:15.125Z"
   },
   {
    "duration": 13,
    "start_time": "2023-01-23T07:44:15.142Z"
   },
   {
    "duration": 9,
    "start_time": "2023-01-23T07:44:15.157Z"
   },
   {
    "duration": 17,
    "start_time": "2023-01-23T07:44:15.168Z"
   },
   {
    "duration": 61,
    "start_time": "2023-01-23T07:44:15.187Z"
   },
   {
    "duration": 17,
    "start_time": "2023-01-23T07:44:15.249Z"
   },
   {
    "duration": 3,
    "start_time": "2023-01-23T07:44:15.268Z"
   },
   {
    "duration": 9,
    "start_time": "2023-01-23T07:44:15.273Z"
   },
   {
    "duration": 13,
    "start_time": "2023-01-23T07:44:15.284Z"
   },
   {
    "duration": 18,
    "start_time": "2023-01-23T07:44:15.299Z"
   },
   {
    "duration": 14,
    "start_time": "2023-01-23T07:44:15.319Z"
   },
   {
    "duration": 106310,
    "start_time": "2023-01-23T07:44:15.335Z"
   },
   {
    "duration": 4,
    "start_time": "2023-01-23T07:46:01.647Z"
   },
   {
    "duration": 502,
    "start_time": "2023-01-23T07:46:01.653Z"
   },
   {
    "duration": 3,
    "start_time": "2023-01-23T07:46:02.157Z"
   },
   {
    "duration": 24598,
    "start_time": "2023-01-23T07:46:02.161Z"
   },
   {
    "duration": 5,
    "start_time": "2023-01-23T07:46:26.761Z"
   },
   {
    "duration": 12,
    "start_time": "2023-01-23T07:46:26.767Z"
   },
   {
    "duration": 9,
    "start_time": "2023-01-23T07:46:26.780Z"
   },
   {
    "duration": 939593,
    "start_time": "2023-01-23T07:46:26.791Z"
   },
   {
    "duration": 5,
    "start_time": "2023-01-23T08:02:06.386Z"
   },
   {
    "duration": 13,
    "start_time": "2023-01-23T08:02:06.393Z"
   },
   {
    "duration": 9,
    "start_time": "2023-01-23T08:02:06.408Z"
   },
   {
    "duration": 9,
    "start_time": "2023-01-23T08:02:06.419Z"
   },
   {
    "duration": 792734,
    "start_time": "2023-01-23T08:02:06.438Z"
   },
   {
    "duration": 4,
    "start_time": "2023-01-23T08:15:19.174Z"
   },
   {
    "duration": 37,
    "start_time": "2023-01-23T08:15:19.180Z"
   },
   {
    "duration": 29,
    "start_time": "2023-01-23T08:15:19.218Z"
   },
   {
    "duration": 16,
    "start_time": "2023-01-23T08:15:19.249Z"
   },
   {
    "duration": 2462978,
    "start_time": "2023-01-23T08:15:19.267Z"
   },
   {
    "duration": 5,
    "start_time": "2023-01-23T08:56:22.246Z"
   },
   {
    "duration": 13,
    "start_time": "2023-01-23T08:56:22.253Z"
   },
   {
    "duration": 19,
    "start_time": "2023-01-23T08:56:22.268Z"
   },
   {
    "duration": 1592,
    "start_time": "2023-01-23T09:42:08.906Z"
   },
   {
    "duration": 944,
    "start_time": "2023-01-23T09:42:10.500Z"
   },
   {
    "duration": 18,
    "start_time": "2023-01-23T09:42:11.446Z"
   },
   {
    "duration": 164,
    "start_time": "2023-01-23T09:42:11.466Z"
   },
   {
    "duration": 532,
    "start_time": "2023-01-23T09:42:11.632Z"
   },
   {
    "duration": 645,
    "start_time": "2023-01-23T09:42:12.166Z"
   },
   {
    "duration": 4,
    "start_time": "2023-01-23T09:42:12.813Z"
   },
   {
    "duration": 14,
    "start_time": "2023-01-23T09:42:12.818Z"
   },
   {
    "duration": 1855,
    "start_time": "2023-01-23T09:42:12.834Z"
   },
   {
    "duration": 20,
    "start_time": "2023-01-23T09:42:14.693Z"
   },
   {
    "duration": 8,
    "start_time": "2023-01-23T09:42:14.715Z"
   },
   {
    "duration": 33,
    "start_time": "2023-01-23T09:42:14.738Z"
   },
   {
    "duration": 42,
    "start_time": "2023-01-23T09:42:14.773Z"
   },
   {
    "duration": 136,
    "start_time": "2023-01-23T09:42:14.817Z"
   },
   {
    "duration": 6,
    "start_time": "2023-01-23T09:42:14.956Z"
   },
   {
    "duration": 381,
    "start_time": "2023-01-23T09:42:14.964Z"
   },
   {
    "duration": 1748,
    "start_time": "2023-01-23T09:42:15.347Z"
   },
   {
    "duration": 18,
    "start_time": "2023-01-23T09:42:17.097Z"
   },
   {
    "duration": 63,
    "start_time": "2023-01-23T09:42:17.117Z"
   },
   {
    "duration": 1560,
    "start_time": "2023-01-23T09:42:26.499Z"
   },
   {
    "duration": 57,
    "start_time": "2023-01-23T09:44:59.408Z"
   },
   {
    "duration": 3,
    "start_time": "2023-01-23T09:45:06.084Z"
   },
   {
    "duration": 18,
    "start_time": "2023-01-23T09:45:06.089Z"
   },
   {
    "duration": 26,
    "start_time": "2023-01-23T09:45:06.109Z"
   },
   {
    "duration": 1593,
    "start_time": "2023-01-23T09:45:06.137Z"
   },
   {
    "duration": 331,
    "start_time": "2023-01-23T09:45:07.733Z"
   },
   {
    "duration": 1813,
    "start_time": "2023-01-23T09:45:08.066Z"
   },
   {
    "duration": 20,
    "start_time": "2023-01-23T09:45:09.882Z"
   },
   {
    "duration": 62,
    "start_time": "2023-01-23T09:45:09.903Z"
   },
   {
    "duration": 23,
    "start_time": "2023-01-23T09:45:09.967Z"
   },
   {
    "duration": 1649,
    "start_time": "2023-01-23T09:45:09.993Z"
   },
   {
    "duration": 207,
    "start_time": "2023-01-23T09:45:11.646Z"
   },
   {
    "duration": 19,
    "start_time": "2023-01-23T09:45:11.856Z"
   },
   {
    "duration": 7,
    "start_time": "2023-01-23T09:45:11.877Z"
   },
   {
    "duration": 462,
    "start_time": "2023-01-23T09:45:11.886Z"
   },
   {
    "duration": 591,
    "start_time": "2023-01-23T09:45:12.350Z"
   },
   {
    "duration": 280,
    "start_time": "2023-01-23T09:45:12.943Z"
   },
   {
    "duration": 72,
    "start_time": "2023-01-23T09:45:13.226Z"
   },
   {
    "duration": 12,
    "start_time": "2023-01-23T09:45:13.300Z"
   },
   {
    "duration": 27,
    "start_time": "2023-01-23T09:45:13.314Z"
   },
   {
    "duration": 1410,
    "start_time": "2023-01-23T09:45:13.343Z"
   },
   {
    "duration": 5,
    "start_time": "2023-01-23T09:45:14.755Z"
   },
   {
    "duration": 92,
    "start_time": "2023-01-23T09:45:14.762Z"
   },
   {
    "duration": 4,
    "start_time": "2023-01-23T09:45:14.856Z"
   },
   {
    "duration": 32891,
    "start_time": "2023-01-23T09:45:14.862Z"
   },
   {
    "duration": 15,
    "start_time": "2023-01-23T09:45:47.755Z"
   },
   {
    "duration": 8,
    "start_time": "2023-01-23T09:45:47.771Z"
   },
   {
    "duration": 10031,
    "start_time": "2023-01-23T09:45:47.781Z"
   },
   {
    "duration": 46,
    "start_time": "2023-01-23T09:45:57.813Z"
   },
   {
    "duration": 12,
    "start_time": "2023-01-23T09:45:57.863Z"
   },
   {
    "duration": 28,
    "start_time": "2023-01-23T09:45:57.877Z"
   },
   {
    "duration": 41,
    "start_time": "2023-01-23T09:45:57.907Z"
   },
   {
    "duration": 14,
    "start_time": "2023-01-23T09:45:57.950Z"
   },
   {
    "duration": 99,
    "start_time": "2023-01-23T09:45:57.966Z"
   },
   {
    "duration": 225,
    "start_time": "2023-01-23T09:45:58.068Z"
   },
   {
    "duration": 12,
    "start_time": "2023-01-23T09:45:58.295Z"
   },
   {
    "duration": 11,
    "start_time": "2023-01-23T09:45:58.308Z"
   },
   {
    "duration": 19,
    "start_time": "2023-01-23T09:45:58.321Z"
   },
   {
    "duration": 37,
    "start_time": "2023-01-23T09:45:58.342Z"
   },
   {
    "duration": 86,
    "start_time": "2023-01-23T09:45:58.381Z"
   },
   {
    "duration": 22,
    "start_time": "2023-01-23T09:45:58.469Z"
   },
   {
    "duration": 3,
    "start_time": "2023-01-23T09:45:58.493Z"
   },
   {
    "duration": 23,
    "start_time": "2023-01-23T09:45:58.498Z"
   },
   {
    "duration": 29,
    "start_time": "2023-01-23T09:45:58.522Z"
   },
   {
    "duration": 17,
    "start_time": "2023-01-23T09:45:58.553Z"
   },
   {
    "duration": 14,
    "start_time": "2023-01-23T09:45:58.571Z"
   },
   {
    "duration": 106154,
    "start_time": "2023-01-23T09:45:58.586Z"
   },
   {
    "duration": 4,
    "start_time": "2023-01-23T09:47:44.744Z"
   },
   {
    "duration": 488,
    "start_time": "2023-01-23T09:47:44.838Z"
   },
   {
    "duration": 3,
    "start_time": "2023-01-23T09:47:45.328Z"
   },
   {
    "duration": 31803,
    "start_time": "2023-01-23T09:47:45.338Z"
   },
   {
    "duration": 4,
    "start_time": "2023-01-23T09:48:17.143Z"
   },
   {
    "duration": 12,
    "start_time": "2023-01-23T09:48:17.149Z"
   },
   {
    "duration": 16,
    "start_time": "2023-01-23T09:48:17.163Z"
   },
   {
    "duration": 1225095,
    "start_time": "2023-01-23T09:48:17.181Z"
   },
   {
    "duration": 6,
    "start_time": "2023-01-23T10:08:42.278Z"
   },
   {
    "duration": 34,
    "start_time": "2023-01-23T10:08:42.286Z"
   },
   {
    "duration": 22,
    "start_time": "2023-01-23T10:08:42.323Z"
   },
   {
    "duration": 22,
    "start_time": "2023-01-23T10:08:42.347Z"
   },
   {
    "duration": 915060,
    "start_time": "2023-01-23T10:08:42.371Z"
   },
   {
    "duration": 5,
    "start_time": "2023-01-23T10:23:57.440Z"
   },
   {
    "duration": 23,
    "start_time": "2023-01-23T10:23:57.447Z"
   },
   {
    "duration": 13,
    "start_time": "2023-01-23T10:23:57.472Z"
   },
   {
    "duration": 11,
    "start_time": "2023-01-23T10:23:57.487Z"
   },
   {
    "duration": 1716,
    "start_time": "2023-01-23T11:28:13.504Z"
   },
   {
    "duration": 973,
    "start_time": "2023-01-23T11:28:15.222Z"
   },
   {
    "duration": 16,
    "start_time": "2023-01-23T11:28:16.197Z"
   },
   {
    "duration": 178,
    "start_time": "2023-01-23T11:28:16.215Z"
   },
   {
    "duration": 598,
    "start_time": "2023-01-23T11:28:16.394Z"
   },
   {
    "duration": 608,
    "start_time": "2023-01-23T11:28:16.994Z"
   },
   {
    "duration": 4,
    "start_time": "2023-01-23T11:28:17.604Z"
   },
   {
    "duration": 7,
    "start_time": "2023-01-23T11:28:17.609Z"
   },
   {
    "duration": 1875,
    "start_time": "2023-01-23T11:28:17.618Z"
   },
   {
    "duration": 20,
    "start_time": "2023-01-23T11:28:19.498Z"
   },
   {
    "duration": 2,
    "start_time": "2023-01-23T11:28:19.520Z"
   },
   {
    "duration": 42,
    "start_time": "2023-01-23T11:28:19.539Z"
   },
   {
    "duration": 72,
    "start_time": "2023-01-23T11:28:19.582Z"
   },
   {
    "duration": 128,
    "start_time": "2023-01-23T11:28:19.656Z"
   },
   {
    "duration": 6,
    "start_time": "2023-01-23T11:28:19.786Z"
   },
   {
    "duration": 397,
    "start_time": "2023-01-23T11:28:19.793Z"
   },
   {
    "duration": 1759,
    "start_time": "2023-01-23T11:28:20.192Z"
   },
   {
    "duration": 20,
    "start_time": "2023-01-23T11:28:21.953Z"
   },
   {
    "duration": 75,
    "start_time": "2023-01-23T11:28:21.976Z"
   },
   {
    "duration": 8,
    "start_time": "2023-01-23T11:28:22.053Z"
   },
   {
    "duration": 13,
    "start_time": "2023-01-23T11:28:22.063Z"
   },
   {
    "duration": 76,
    "start_time": "2023-01-23T11:28:22.078Z"
   },
   {
    "duration": 1632,
    "start_time": "2023-01-23T11:28:22.155Z"
   },
   {
    "duration": 319,
    "start_time": "2023-01-23T11:28:23.789Z"
   },
   {
    "duration": 1836,
    "start_time": "2023-01-23T11:28:24.109Z"
   },
   {
    "duration": 21,
    "start_time": "2023-01-23T11:28:25.947Z"
   },
   {
    "duration": 38,
    "start_time": "2023-01-23T11:28:25.969Z"
   },
   {
    "duration": 2,
    "start_time": "2023-01-23T11:28:26.012Z"
   },
   {
    "duration": 58,
    "start_time": "2023-01-23T11:28:26.016Z"
   },
   {
    "duration": 1869,
    "start_time": "2023-01-23T11:28:26.076Z"
   },
   {
    "duration": 244,
    "start_time": "2023-01-23T11:28:27.948Z"
   },
   {
    "duration": 21,
    "start_time": "2023-01-23T11:28:28.194Z"
   },
   {
    "duration": 20,
    "start_time": "2023-01-23T11:28:28.218Z"
   },
   {
    "duration": 386,
    "start_time": "2023-01-23T11:28:28.241Z"
   },
   {
    "duration": 695,
    "start_time": "2023-01-23T11:28:28.629Z"
   },
   {
    "duration": 302,
    "start_time": "2023-01-23T11:28:29.326Z"
   },
   {
    "duration": 71,
    "start_time": "2023-01-23T11:28:29.637Z"
   },
   {
    "duration": 29,
    "start_time": "2023-01-23T11:28:29.710Z"
   },
   {
    "duration": 15,
    "start_time": "2023-01-23T11:28:29.740Z"
   },
   {
    "duration": 1542,
    "start_time": "2023-01-23T11:28:29.757Z"
   },
   {
    "duration": 7,
    "start_time": "2023-01-23T11:28:31.300Z"
   },
   {
    "duration": 129,
    "start_time": "2023-01-23T11:28:31.309Z"
   },
   {
    "duration": 29,
    "start_time": "2023-01-23T11:28:31.441Z"
   },
   {
    "duration": 39498,
    "start_time": "2023-01-23T11:28:31.472Z"
   },
   {
    "duration": 15,
    "start_time": "2023-01-23T11:29:10.972Z"
   },
   {
    "duration": 10,
    "start_time": "2023-01-23T11:29:10.989Z"
   },
   {
    "duration": 1761,
    "start_time": "2023-01-23T12:06:00.885Z"
   },
   {
    "duration": 3122,
    "start_time": "2023-01-23T12:06:02.649Z"
   },
   {
    "duration": 18,
    "start_time": "2023-01-23T12:06:05.772Z"
   },
   {
    "duration": 159,
    "start_time": "2023-01-23T12:06:05.791Z"
   },
   {
    "duration": 464,
    "start_time": "2023-01-23T12:06:05.953Z"
   },
   {
    "duration": 500,
    "start_time": "2023-01-23T12:06:06.419Z"
   },
   {
    "duration": 3,
    "start_time": "2023-01-23T12:06:06.921Z"
   },
   {
    "duration": 16,
    "start_time": "2023-01-23T12:06:06.925Z"
   },
   {
    "duration": 1768,
    "start_time": "2023-01-23T12:06:06.943Z"
   },
   {
    "duration": 17,
    "start_time": "2023-01-23T12:06:08.713Z"
   },
   {
    "duration": 2,
    "start_time": "2023-01-23T12:06:08.732Z"
   },
   {
    "duration": 47,
    "start_time": "2023-01-23T12:06:08.736Z"
   },
   {
    "duration": 40,
    "start_time": "2023-01-23T12:06:08.785Z"
   },
   {
    "duration": 114,
    "start_time": "2023-01-23T12:06:08.828Z"
   },
   {
    "duration": 5,
    "start_time": "2023-01-23T12:06:08.943Z"
   },
   {
    "duration": 361,
    "start_time": "2023-01-23T12:06:08.950Z"
   },
   {
    "duration": 1655,
    "start_time": "2023-01-23T12:06:09.313Z"
   },
   {
    "duration": 16,
    "start_time": "2023-01-23T12:06:10.970Z"
   },
   {
    "duration": 45,
    "start_time": "2023-01-23T12:06:10.988Z"
   },
   {
    "duration": 35,
    "start_time": "2023-01-23T12:06:11.035Z"
   },
   {
    "duration": 11,
    "start_time": "2023-01-23T12:06:11.072Z"
   },
   {
    "duration": 43,
    "start_time": "2023-01-23T12:06:11.085Z"
   },
   {
    "duration": 1724,
    "start_time": "2023-01-23T12:06:11.129Z"
   },
   {
    "duration": 293,
    "start_time": "2023-01-23T12:06:12.855Z"
   },
   {
    "duration": 1760,
    "start_time": "2023-01-23T12:06:13.149Z"
   },
   {
    "duration": 18,
    "start_time": "2023-01-23T12:06:14.911Z"
   },
   {
    "duration": 53,
    "start_time": "2023-01-23T12:06:14.931Z"
   },
   {
    "duration": 3,
    "start_time": "2023-01-23T12:06:14.985Z"
   },
   {
    "duration": 48,
    "start_time": "2023-01-23T12:06:14.990Z"
   },
   {
    "duration": 1999,
    "start_time": "2023-01-23T12:06:15.040Z"
   },
   {
    "duration": 200,
    "start_time": "2023-01-23T12:06:17.040Z"
   },
   {
    "duration": 33,
    "start_time": "2023-01-23T12:06:17.243Z"
   },
   {
    "duration": 6,
    "start_time": "2023-01-23T12:06:17.278Z"
   },
   {
    "duration": 401,
    "start_time": "2023-01-23T12:06:17.287Z"
   },
   {
    "duration": 669,
    "start_time": "2023-01-23T12:06:17.689Z"
   },
   {
    "duration": 282,
    "start_time": "2023-01-23T12:06:18.360Z"
   },
   {
    "duration": 96,
    "start_time": "2023-01-23T12:06:18.644Z"
   },
   {
    "duration": 25,
    "start_time": "2023-01-23T12:06:18.742Z"
   },
   {
    "duration": 16,
    "start_time": "2023-01-23T12:06:18.769Z"
   },
   {
    "duration": 1551,
    "start_time": "2023-01-23T12:06:18.787Z"
   },
   {
    "duration": 5,
    "start_time": "2023-01-23T12:06:20.344Z"
   },
   {
    "duration": 88,
    "start_time": "2023-01-23T12:06:20.351Z"
   },
   {
    "duration": 3,
    "start_time": "2023-01-23T12:06:20.441Z"
   },
   {
    "duration": 33290,
    "start_time": "2023-01-23T12:06:20.446Z"
   },
   {
    "duration": 16,
    "start_time": "2023-01-23T12:06:53.738Z"
   },
   {
    "duration": 3,
    "start_time": "2023-01-23T12:06:53.767Z"
   },
   {
    "duration": 10272,
    "start_time": "2023-01-23T12:06:53.772Z"
   },
   {
    "duration": 41,
    "start_time": "2023-01-23T12:07:04.045Z"
   },
   {
    "duration": 11,
    "start_time": "2023-01-23T12:07:04.088Z"
   },
   {
    "duration": 29,
    "start_time": "2023-01-23T12:07:04.101Z"
   },
   {
    "duration": 38,
    "start_time": "2023-01-23T12:07:04.131Z"
   },
   {
    "duration": 11,
    "start_time": "2023-01-23T12:07:04.170Z"
   },
   {
    "duration": 88,
    "start_time": "2023-01-23T12:07:04.183Z"
   },
   {
    "duration": 178,
    "start_time": "2023-01-23T12:07:04.272Z"
   },
   {
    "duration": 16,
    "start_time": "2023-01-23T12:07:04.451Z"
   },
   {
    "duration": 6,
    "start_time": "2023-01-23T12:07:04.469Z"
   },
   {
    "duration": 14,
    "start_time": "2023-01-23T12:07:04.476Z"
   },
   {
    "duration": 17,
    "start_time": "2023-01-23T12:07:04.492Z"
   },
   {
    "duration": 82,
    "start_time": "2023-01-23T12:07:04.511Z"
   },
   {
    "duration": 22,
    "start_time": "2023-01-23T12:07:04.595Z"
   },
   {
    "duration": 3,
    "start_time": "2023-01-23T12:07:04.618Z"
   },
   {
    "duration": 7,
    "start_time": "2023-01-23T12:07:04.623Z"
   },
   {
    "duration": 7,
    "start_time": "2023-01-23T12:07:04.632Z"
   },
   {
    "duration": 4,
    "start_time": "2023-01-23T12:07:04.641Z"
   },
   {
    "duration": 7,
    "start_time": "2023-01-23T12:07:04.666Z"
   },
   {
    "duration": 157106,
    "start_time": "2023-01-23T12:07:04.675Z"
   },
   {
    "duration": 3,
    "start_time": "2023-01-23T12:09:41.783Z"
   },
   {
    "duration": 570,
    "start_time": "2023-01-23T12:09:41.788Z"
   },
   {
    "duration": 3,
    "start_time": "2023-01-23T12:09:42.359Z"
   },
   {
    "duration": 32454,
    "start_time": "2023-01-23T12:09:42.366Z"
   },
   {
    "duration": 4,
    "start_time": "2023-01-23T12:10:14.823Z"
   },
   {
    "duration": 7,
    "start_time": "2023-01-23T12:10:14.829Z"
   },
   {
    "duration": 6,
    "start_time": "2023-01-23T12:10:14.837Z"
   },
   {
    "duration": 1472525,
    "start_time": "2023-01-23T12:10:14.845Z"
   },
   {
    "duration": 17,
    "start_time": "2023-01-23T12:34:47.378Z"
   },
   {
    "duration": 10,
    "start_time": "2023-01-23T12:34:47.400Z"
   },
   {
    "duration": 7,
    "start_time": "2023-01-23T12:34:47.412Z"
   },
   {
    "duration": 6,
    "start_time": "2023-01-23T12:34:47.421Z"
   },
   {
    "duration": 982332,
    "start_time": "2023-01-23T12:34:47.429Z"
   },
   {
    "duration": 8,
    "start_time": "2023-01-23T12:51:09.767Z"
   },
   {
    "duration": 27,
    "start_time": "2023-01-23T12:51:09.777Z"
   },
   {
    "duration": 6,
    "start_time": "2023-01-23T12:51:09.806Z"
   },
   {
    "duration": 4,
    "start_time": "2023-01-23T12:51:09.814Z"
   },
   {
    "duration": 1558,
    "start_time": "2023-01-24T04:31:07.412Z"
   },
   {
    "duration": 2734,
    "start_time": "2023-01-24T04:31:08.972Z"
   },
   {
    "duration": 15,
    "start_time": "2023-01-24T04:31:11.708Z"
   },
   {
    "duration": 134,
    "start_time": "2023-01-24T04:31:11.725Z"
   },
   {
    "duration": 447,
    "start_time": "2023-01-24T04:31:11.860Z"
   },
   {
    "duration": 480,
    "start_time": "2023-01-24T04:31:12.308Z"
   },
   {
    "duration": 4,
    "start_time": "2023-01-24T04:31:12.790Z"
   },
   {
    "duration": 7,
    "start_time": "2023-01-24T04:31:12.797Z"
   },
   {
    "duration": 1645,
    "start_time": "2023-01-24T04:31:12.806Z"
   },
   {
    "duration": 17,
    "start_time": "2023-01-24T04:31:14.453Z"
   },
   {
    "duration": 2,
    "start_time": "2023-01-24T04:31:14.471Z"
   },
   {
    "duration": 32,
    "start_time": "2023-01-24T04:31:14.475Z"
   },
   {
    "duration": 70,
    "start_time": "2023-01-24T04:31:14.508Z"
   },
   {
    "duration": 103,
    "start_time": "2023-01-24T04:31:14.580Z"
   },
   {
    "duration": 5,
    "start_time": "2023-01-24T04:31:14.685Z"
   },
   {
    "duration": 328,
    "start_time": "2023-01-24T04:31:14.691Z"
   },
   {
    "duration": 1596,
    "start_time": "2023-01-24T04:31:15.020Z"
   },
   {
    "duration": 14,
    "start_time": "2023-01-24T04:31:16.618Z"
   },
   {
    "duration": 55,
    "start_time": "2023-01-24T04:31:16.633Z"
   },
   {
    "duration": 7,
    "start_time": "2023-01-24T04:31:16.690Z"
   },
   {
    "duration": 11,
    "start_time": "2023-01-24T04:31:16.698Z"
   },
   {
    "duration": 64,
    "start_time": "2023-01-24T04:31:16.711Z"
   },
   {
    "duration": 1500,
    "start_time": "2023-01-24T04:31:16.777Z"
   },
   {
    "duration": 273,
    "start_time": "2023-01-24T04:31:18.279Z"
   },
   {
    "duration": 1572,
    "start_time": "2023-01-24T04:31:18.554Z"
   },
   {
    "duration": 23,
    "start_time": "2023-01-24T04:31:20.127Z"
   },
   {
    "duration": 38,
    "start_time": "2023-01-24T04:31:20.151Z"
   },
   {
    "duration": 18,
    "start_time": "2023-01-24T04:31:20.193Z"
   },
   {
    "duration": 1515,
    "start_time": "2023-01-24T04:31:20.213Z"
   },
   {
    "duration": 182,
    "start_time": "2023-01-24T04:31:21.730Z"
   },
   {
    "duration": 19,
    "start_time": "2023-01-24T04:31:21.914Z"
   },
   {
    "duration": 12,
    "start_time": "2023-01-24T04:31:21.936Z"
   },
   {
    "duration": 36,
    "start_time": "2023-01-24T04:31:21.950Z"
   },
   {
    "duration": 285,
    "start_time": "2023-01-24T04:31:21.988Z"
   },
   {
    "duration": 557,
    "start_time": "2023-01-24T04:31:22.275Z"
   },
   {
    "duration": 230,
    "start_time": "2023-01-24T04:31:22.834Z"
   },
   {
    "duration": 52,
    "start_time": "2023-01-24T04:31:23.065Z"
   },
   {
    "duration": 11,
    "start_time": "2023-01-24T04:31:23.118Z"
   },
   {
    "duration": 6,
    "start_time": "2023-01-24T04:31:23.148Z"
   },
   {
    "duration": 1307,
    "start_time": "2023-01-24T04:31:23.156Z"
   },
   {
    "duration": 57,
    "start_time": "2023-01-24T04:31:24.465Z"
   },
   {
    "duration": 3,
    "start_time": "2023-01-24T04:31:24.524Z"
   },
   {
    "duration": 26061,
    "start_time": "2023-01-24T04:31:24.529Z"
   },
   {
    "duration": 15,
    "start_time": "2023-01-24T04:31:50.591Z"
   },
   {
    "duration": 7,
    "start_time": "2023-01-24T04:31:50.607Z"
   },
   {
    "duration": 7972,
    "start_time": "2023-01-24T04:31:50.616Z"
   },
   {
    "duration": 31,
    "start_time": "2023-01-24T04:31:58.590Z"
   },
   {
    "duration": 27,
    "start_time": "2023-01-24T04:31:58.622Z"
   },
   {
    "duration": 27,
    "start_time": "2023-01-24T04:31:58.651Z"
   },
   {
    "duration": 16,
    "start_time": "2023-01-24T04:31:58.680Z"
   },
   {
    "duration": 11,
    "start_time": "2023-01-24T04:31:58.697Z"
   },
   {
    "duration": 88,
    "start_time": "2023-01-24T04:31:58.710Z"
   },
   {
    "duration": 148,
    "start_time": "2023-01-24T04:31:58.800Z"
   },
   {
    "duration": 10,
    "start_time": "2023-01-24T04:31:58.950Z"
   },
   {
    "duration": 6,
    "start_time": "2023-01-24T04:31:58.961Z"
   },
   {
    "duration": 5,
    "start_time": "2023-01-24T04:31:58.969Z"
   },
   {
    "duration": 15,
    "start_time": "2023-01-24T04:31:58.976Z"
   },
   {
    "duration": 79,
    "start_time": "2023-01-24T04:31:58.992Z"
   },
   {
    "duration": 20,
    "start_time": "2023-01-24T04:31:59.072Z"
   },
   {
    "duration": 3,
    "start_time": "2023-01-24T04:31:59.093Z"
   },
   {
    "duration": 10,
    "start_time": "2023-01-24T04:31:59.097Z"
   },
   {
    "duration": 9,
    "start_time": "2023-01-24T04:31:59.108Z"
   },
   {
    "duration": 5,
    "start_time": "2023-01-24T04:31:59.119Z"
   },
   {
    "duration": 23,
    "start_time": "2023-01-24T04:31:59.125Z"
   },
   {
    "duration": 129298,
    "start_time": "2023-01-24T04:31:59.150Z"
   },
   {
    "duration": 3,
    "start_time": "2023-01-24T04:34:08.450Z"
   },
   {
    "duration": 511,
    "start_time": "2023-01-24T04:34:08.454Z"
   },
   {
    "duration": 0,
    "start_time": "2023-01-24T04:34:08.967Z"
   },
   {
    "duration": 0,
    "start_time": "2023-01-24T04:34:08.968Z"
   },
   {
    "duration": 0,
    "start_time": "2023-01-24T04:34:08.969Z"
   },
   {
    "duration": 0,
    "start_time": "2023-01-24T04:34:08.970Z"
   },
   {
    "duration": 0,
    "start_time": "2023-01-24T04:34:08.971Z"
   },
   {
    "duration": 0,
    "start_time": "2023-01-24T04:34:08.973Z"
   },
   {
    "duration": 0,
    "start_time": "2023-01-24T04:34:08.974Z"
   },
   {
    "duration": 0,
    "start_time": "2023-01-24T04:34:08.976Z"
   },
   {
    "duration": 0,
    "start_time": "2023-01-24T04:34:08.977Z"
   },
   {
    "duration": 0,
    "start_time": "2023-01-24T04:34:08.979Z"
   },
   {
    "duration": 0,
    "start_time": "2023-01-24T04:34:08.980Z"
   },
   {
    "duration": 0,
    "start_time": "2023-01-24T04:34:08.982Z"
   },
   {
    "duration": 0,
    "start_time": "2023-01-24T04:34:08.983Z"
   },
   {
    "duration": 0,
    "start_time": "2023-01-24T04:34:08.985Z"
   },
   {
    "duration": 0,
    "start_time": "2023-01-24T04:34:08.986Z"
   },
   {
    "duration": 0,
    "start_time": "2023-01-24T04:34:08.989Z"
   },
   {
    "duration": 0,
    "start_time": "2023-01-24T04:34:08.990Z"
   },
   {
    "duration": 0,
    "start_time": "2023-01-24T04:34:08.992Z"
   },
   {
    "duration": 0,
    "start_time": "2023-01-24T04:34:08.993Z"
   },
   {
    "duration": 19,
    "start_time": "2023-01-24T04:42:56.566Z"
   },
   {
    "duration": 79,
    "start_time": "2023-01-24T04:43:46.118Z"
   },
   {
    "duration": 602,
    "start_time": "2023-01-24T04:44:04.310Z"
   },
   {
    "duration": 3,
    "start_time": "2023-01-24T04:44:07.515Z"
   },
   {
    "duration": 26731,
    "start_time": "2023-01-24T04:44:35.989Z"
   },
   {
    "duration": 4,
    "start_time": "2023-01-24T04:45:02.722Z"
   },
   {
    "duration": 13,
    "start_time": "2023-01-24T04:45:02.729Z"
   },
   {
    "duration": 8,
    "start_time": "2023-01-24T04:45:02.743Z"
   },
   {
    "duration": 1023667,
    "start_time": "2023-01-24T04:45:02.752Z"
   },
   {
    "duration": 5,
    "start_time": "2023-01-24T05:02:06.421Z"
   },
   {
    "duration": 20,
    "start_time": "2023-01-24T05:02:06.427Z"
   },
   {
    "duration": 5,
    "start_time": "2023-01-24T05:02:06.449Z"
   },
   {
    "duration": 3,
    "start_time": "2023-01-24T05:02:06.457Z"
   },
   {
    "duration": 471344,
    "start_time": "2023-01-24T05:02:06.462Z"
   },
   {
    "duration": 11,
    "start_time": "2023-01-24T05:09:57.808Z"
   },
   {
    "duration": 0,
    "start_time": "2023-01-24T05:09:57.821Z"
   },
   {
    "duration": 0,
    "start_time": "2023-01-24T05:09:57.822Z"
   },
   {
    "duration": 0,
    "start_time": "2023-01-24T05:09:57.823Z"
   },
   {
    "duration": 0,
    "start_time": "2023-01-24T05:09:57.824Z"
   },
   {
    "duration": 0,
    "start_time": "2023-01-24T05:09:57.825Z"
   },
   {
    "duration": 0,
    "start_time": "2023-01-24T05:09:57.826Z"
   },
   {
    "duration": 0,
    "start_time": "2023-01-24T05:09:57.827Z"
   },
   {
    "duration": 0,
    "start_time": "2023-01-24T05:09:57.829Z"
   },
   {
    "duration": 0,
    "start_time": "2023-01-24T05:09:57.830Z"
   },
   {
    "duration": 0,
    "start_time": "2023-01-24T05:09:57.831Z"
   },
   {
    "duration": 0,
    "start_time": "2023-01-24T05:09:57.832Z"
   },
   {
    "duration": 0,
    "start_time": "2023-01-24T05:09:57.833Z"
   },
   {
    "duration": 0,
    "start_time": "2023-01-24T05:09:57.834Z"
   },
   {
    "duration": 0,
    "start_time": "2023-01-24T05:09:57.836Z"
   },
   {
    "duration": 0,
    "start_time": "2023-01-24T05:09:57.837Z"
   },
   {
    "duration": 0,
    "start_time": "2023-01-24T05:09:57.838Z"
   },
   {
    "duration": 0,
    "start_time": "2023-01-24T05:09:57.839Z"
   },
   {
    "duration": 0,
    "start_time": "2023-01-24T05:09:57.840Z"
   },
   {
    "duration": 0,
    "start_time": "2023-01-24T05:09:57.841Z"
   },
   {
    "duration": 0,
    "start_time": "2023-01-24T05:09:57.842Z"
   },
   {
    "duration": 0,
    "start_time": "2023-01-24T05:09:57.842Z"
   },
   {
    "duration": 0,
    "start_time": "2023-01-24T05:09:57.843Z"
   },
   {
    "duration": 1,
    "start_time": "2023-01-24T05:09:57.844Z"
   },
   {
    "duration": 0,
    "start_time": "2023-01-24T05:09:57.845Z"
   },
   {
    "duration": 0,
    "start_time": "2023-01-24T05:09:57.847Z"
   },
   {
    "duration": 0,
    "start_time": "2023-01-24T05:09:57.848Z"
   },
   {
    "duration": 127,
    "start_time": "2023-01-24T05:15:04.353Z"
   },
   {
    "duration": 1510,
    "start_time": "2023-01-24T05:29:52.509Z"
   },
   {
    "duration": 799,
    "start_time": "2023-01-24T05:29:54.021Z"
   },
   {
    "duration": 17,
    "start_time": "2023-01-24T05:29:54.822Z"
   },
   {
    "duration": 135,
    "start_time": "2023-01-24T05:29:54.841Z"
   },
   {
    "duration": 593,
    "start_time": "2023-01-24T05:29:54.979Z"
   },
   {
    "duration": 466,
    "start_time": "2023-01-24T05:29:55.574Z"
   },
   {
    "duration": 7,
    "start_time": "2023-01-24T05:29:56.041Z"
   },
   {
    "duration": 6,
    "start_time": "2023-01-24T05:29:56.050Z"
   },
   {
    "duration": 1606,
    "start_time": "2023-01-24T05:29:56.057Z"
   },
   {
    "duration": 18,
    "start_time": "2023-01-24T05:29:57.665Z"
   },
   {
    "duration": 2,
    "start_time": "2023-01-24T05:29:57.685Z"
   },
   {
    "duration": 32,
    "start_time": "2023-01-24T05:29:57.689Z"
   },
   {
    "duration": 72,
    "start_time": "2023-01-24T05:29:57.723Z"
   },
   {
    "duration": 119,
    "start_time": "2023-01-24T05:29:57.798Z"
   },
   {
    "duration": 5,
    "start_time": "2023-01-24T05:29:57.918Z"
   },
   {
    "duration": 341,
    "start_time": "2023-01-24T05:29:57.925Z"
   },
   {
    "duration": 1551,
    "start_time": "2023-01-24T05:29:58.268Z"
   },
   {
    "duration": 16,
    "start_time": "2023-01-24T05:29:59.822Z"
   },
   {
    "duration": 45,
    "start_time": "2023-01-24T05:29:59.848Z"
   },
   {
    "duration": 6,
    "start_time": "2023-01-24T05:29:59.895Z"
   },
   {
    "duration": 11,
    "start_time": "2023-01-24T05:29:59.903Z"
   },
   {
    "duration": 68,
    "start_time": "2023-01-24T05:29:59.916Z"
   },
   {
    "duration": 1575,
    "start_time": "2023-01-24T05:29:59.986Z"
   },
   {
    "duration": 269,
    "start_time": "2023-01-24T05:30:01.563Z"
   },
   {
    "duration": 1608,
    "start_time": "2023-01-24T05:30:01.834Z"
   },
   {
    "duration": 19,
    "start_time": "2023-01-24T05:30:03.448Z"
   },
   {
    "duration": 45,
    "start_time": "2023-01-24T05:30:03.469Z"
   },
   {
    "duration": 33,
    "start_time": "2023-01-24T05:30:03.515Z"
   },
   {
    "duration": 1487,
    "start_time": "2023-01-24T05:30:03.550Z"
   },
   {
    "duration": 178,
    "start_time": "2023-01-24T05:30:05.039Z"
   },
   {
    "duration": 17,
    "start_time": "2023-01-24T05:30:05.218Z"
   },
   {
    "duration": 6,
    "start_time": "2023-01-24T05:30:05.249Z"
   },
   {
    "duration": 326,
    "start_time": "2023-01-24T05:30:05.257Z"
   },
   {
    "duration": 569,
    "start_time": "2023-01-24T05:30:05.584Z"
   },
   {
    "duration": 295,
    "start_time": "2023-01-24T05:30:06.155Z"
   },
   {
    "duration": 57,
    "start_time": "2023-01-24T05:30:06.452Z"
   },
   {
    "duration": 13,
    "start_time": "2023-01-24T05:30:06.511Z"
   },
   {
    "duration": 8,
    "start_time": "2023-01-24T05:30:06.548Z"
   },
   {
    "duration": 1368,
    "start_time": "2023-01-24T05:30:06.559Z"
   },
   {
    "duration": 68,
    "start_time": "2023-01-24T05:30:07.929Z"
   },
   {
    "duration": 7,
    "start_time": "2023-01-24T05:30:08.002Z"
   },
   {
    "duration": 29627,
    "start_time": "2023-01-24T05:30:08.011Z"
   },
   {
    "duration": 16,
    "start_time": "2023-01-24T05:30:37.641Z"
   },
   {
    "duration": 7,
    "start_time": "2023-01-24T05:30:37.659Z"
   },
   {
    "duration": 8755,
    "start_time": "2023-01-24T05:30:37.668Z"
   },
   {
    "duration": 46,
    "start_time": "2023-01-24T05:30:46.426Z"
   },
   {
    "duration": 13,
    "start_time": "2023-01-24T05:30:46.474Z"
   },
   {
    "duration": 28,
    "start_time": "2023-01-24T05:30:46.489Z"
   },
   {
    "duration": 38,
    "start_time": "2023-01-24T05:30:46.518Z"
   },
   {
    "duration": 14,
    "start_time": "2023-01-24T05:30:46.557Z"
   },
   {
    "duration": 104,
    "start_time": "2023-01-24T05:30:46.573Z"
   },
   {
    "duration": 163,
    "start_time": "2023-01-24T05:30:46.679Z"
   },
   {
    "duration": 13,
    "start_time": "2023-01-24T05:30:46.844Z"
   },
   {
    "duration": 16,
    "start_time": "2023-01-24T05:30:46.858Z"
   },
   {
    "duration": 13,
    "start_time": "2023-01-24T05:30:46.875Z"
   },
   {
    "duration": 36,
    "start_time": "2023-01-24T05:30:46.890Z"
   },
   {
    "duration": 88,
    "start_time": "2023-01-24T05:30:46.928Z"
   },
   {
    "duration": 23,
    "start_time": "2023-01-24T05:30:47.018Z"
   },
   {
    "duration": 3,
    "start_time": "2023-01-24T05:30:47.049Z"
   },
   {
    "duration": 9,
    "start_time": "2023-01-24T05:30:47.054Z"
   },
   {
    "duration": 7,
    "start_time": "2023-01-24T05:30:47.065Z"
   },
   {
    "duration": 5,
    "start_time": "2023-01-24T05:30:47.073Z"
   },
   {
    "duration": 4,
    "start_time": "2023-01-24T05:30:47.080Z"
   },
   {
    "duration": 175,
    "start_time": "2023-01-24T05:30:47.086Z"
   },
   {
    "duration": 0,
    "start_time": "2023-01-24T05:30:47.263Z"
   },
   {
    "duration": 0,
    "start_time": "2023-01-24T05:30:47.264Z"
   },
   {
    "duration": 0,
    "start_time": "2023-01-24T05:30:47.266Z"
   },
   {
    "duration": 0,
    "start_time": "2023-01-24T05:30:47.267Z"
   },
   {
    "duration": 0,
    "start_time": "2023-01-24T05:30:47.268Z"
   },
   {
    "duration": 1,
    "start_time": "2023-01-24T05:30:47.269Z"
   },
   {
    "duration": 0,
    "start_time": "2023-01-24T05:30:47.271Z"
   },
   {
    "duration": 0,
    "start_time": "2023-01-24T05:30:47.272Z"
   },
   {
    "duration": 0,
    "start_time": "2023-01-24T05:30:47.273Z"
   },
   {
    "duration": 0,
    "start_time": "2023-01-24T05:30:47.274Z"
   },
   {
    "duration": 0,
    "start_time": "2023-01-24T05:30:47.276Z"
   },
   {
    "duration": 0,
    "start_time": "2023-01-24T05:30:47.277Z"
   },
   {
    "duration": 0,
    "start_time": "2023-01-24T05:30:47.278Z"
   },
   {
    "duration": 0,
    "start_time": "2023-01-24T05:30:47.280Z"
   },
   {
    "duration": 0,
    "start_time": "2023-01-24T05:30:47.281Z"
   },
   {
    "duration": 0,
    "start_time": "2023-01-24T05:30:47.282Z"
   },
   {
    "duration": 0,
    "start_time": "2023-01-24T05:30:47.283Z"
   },
   {
    "duration": 0,
    "start_time": "2023-01-24T05:30:47.284Z"
   },
   {
    "duration": 0,
    "start_time": "2023-01-24T05:30:47.285Z"
   },
   {
    "duration": 0,
    "start_time": "2023-01-24T05:30:47.286Z"
   },
   {
    "duration": 0,
    "start_time": "2023-01-24T05:30:47.287Z"
   },
   {
    "duration": 0,
    "start_time": "2023-01-24T05:30:47.288Z"
   },
   {
    "duration": 0,
    "start_time": "2023-01-24T05:30:47.289Z"
   },
   {
    "duration": 0,
    "start_time": "2023-01-24T05:30:47.290Z"
   },
   {
    "duration": 0,
    "start_time": "2023-01-24T05:30:47.291Z"
   },
   {
    "duration": 0,
    "start_time": "2023-01-24T05:30:47.293Z"
   },
   {
    "duration": 0,
    "start_time": "2023-01-24T05:30:47.294Z"
   },
   {
    "duration": 2543140,
    "start_time": "2023-01-24T05:32:35.582Z"
   },
   {
    "duration": 4,
    "start_time": "2023-01-24T06:20:43.563Z"
   },
   {
    "duration": 4,
    "start_time": "2023-01-24T06:20:54.500Z"
   },
   {
    "duration": 425,
    "start_time": "2023-01-24T06:21:48.498Z"
   },
   {
    "duration": 3,
    "start_time": "2023-01-24T06:21:50.412Z"
   },
   {
    "duration": 28195,
    "start_time": "2023-01-24T06:21:52.655Z"
   },
   {
    "duration": 3,
    "start_time": "2023-01-24T06:25:29.010Z"
   },
   {
    "duration": 5,
    "start_time": "2023-01-24T06:25:31.082Z"
   },
   {
    "duration": 29064,
    "start_time": "2023-01-24T06:26:27.752Z"
   },
   {
    "duration": 4,
    "start_time": "2023-01-24T06:27:48.033Z"
   },
   {
    "duration": 4,
    "start_time": "2023-01-24T06:27:49.729Z"
   },
   {
    "duration": 28354,
    "start_time": "2023-01-24T06:27:59.132Z"
   },
   {
    "duration": 4,
    "start_time": "2023-01-24T06:30:52.643Z"
   },
   {
    "duration": 4,
    "start_time": "2023-01-24T06:30:55.276Z"
   },
   {
    "duration": 3,
    "start_time": "2023-01-24T06:31:01.342Z"
   },
   {
    "duration": 1041182,
    "start_time": "2023-01-24T06:31:03.985Z"
   },
   {
    "duration": 4,
    "start_time": "2023-01-24T06:48:30.337Z"
   },
   {
    "duration": 4,
    "start_time": "2023-01-24T06:48:33.626Z"
   },
   {
    "duration": 4,
    "start_time": "2023-01-24T06:48:41.855Z"
   },
   {
    "duration": 1111196,
    "start_time": "2023-01-24T06:49:14.956Z"
   },
   {
    "duration": 6,
    "start_time": "2023-01-24T07:08:11.285Z"
   },
   {
    "duration": 4,
    "start_time": "2023-01-24T07:08:14.720Z"
   },
   {
    "duration": 4,
    "start_time": "2023-01-24T07:08:24.325Z"
   },
   {
    "duration": 4,
    "start_time": "2023-01-24T07:08:31.026Z"
   },
   {
    "duration": 973964,
    "start_time": "2023-01-24T07:08:33.145Z"
   },
   {
    "duration": 4,
    "start_time": "2023-01-24T07:30:44.625Z"
   },
   {
    "duration": 1164965,
    "start_time": "2023-01-24T07:31:31.964Z"
   },
   {
    "duration": 5,
    "start_time": "2023-01-24T07:57:38.969Z"
   },
   {
    "duration": 4,
    "start_time": "2023-01-24T07:57:47.241Z"
   },
   {
    "duration": 3,
    "start_time": "2023-01-24T07:57:53.617Z"
   },
   {
    "duration": 2944922,
    "start_time": "2023-01-24T07:57:57.645Z"
   },
   {
    "duration": 3,
    "start_time": "2023-01-24T09:17:44.416Z"
   },
   {
    "duration": 4,
    "start_time": "2023-01-24T09:17:55.704Z"
   },
   {
    "duration": 751,
    "start_time": "2023-01-24T09:58:17.676Z"
   },
   {
    "duration": 5,
    "start_time": "2023-01-24T09:58:19.817Z"
   }
  ],
  "kernelspec": {
   "display_name": "Python 3 (ipykernel)",
   "language": "python",
   "name": "python3"
  },
  "language_info": {
   "codemirror_mode": {
    "name": "ipython",
    "version": 3
   },
   "file_extension": ".py",
   "mimetype": "text/x-python",
   "name": "python",
   "nbconvert_exporter": "python",
   "pygments_lexer": "ipython3",
   "version": "3.9.12"
  },
  "toc": {
   "base_numbering": 1,
   "nav_menu": {
    "height": "201px",
    "width": "256px"
   },
   "number_sections": true,
   "sideBar": true,
   "skip_h1_title": true,
   "title_cell": "Table of Contents",
   "title_sidebar": "Contents",
   "toc_cell": false,
   "toc_position": {
    "height": "calc(100% - 180px)",
    "left": "10px",
    "top": "150px",
    "width": "165px"
   },
   "toc_section_display": true,
   "toc_window_display": true
  }
 },
 "nbformat": 4,
 "nbformat_minor": 2
}
